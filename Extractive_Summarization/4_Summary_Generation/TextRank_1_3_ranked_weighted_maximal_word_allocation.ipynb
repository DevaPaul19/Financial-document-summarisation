{
  "cells": [
    {
      "cell_type": "markdown",
      "id": "97a5a4a8",
      "metadata": {
        "id": "97a5a4a8"
      },
      "source": [
        "### Section bodies combined by score order top 1000 words\n",
        "\n",
        "#### Steps:\n",
        "\n",
        "1. Get the sections which have the scores greater than cutoff 0.744291\n",
        "2. Extract the body of sections\n",
        "3. Normalize the scores and adjusted number of words to be picked from the section\n",
        "4. Maximize the word allocation in case some sections doesn't have required word\n",
        "4. Extract top k words\n",
        "5. If no relevant sections -> Write the complete file as summary with top 1000 words\n",
        "6. Compare the system summary with each gold summary and get the rouge score. Take average of all gold summaries for the respective file.\n",
        "7. Take average of all the scores for all the files."
      ]
    },
    {
      "cell_type": "code",
      "source": [
        "from google.colab import drive\n",
        "drive.mount('/content/drive')"
      ],
      "metadata": {
        "colab": {
          "base_uri": "https://localhost:8080/"
        },
        "id": "wB51u8_egSDi",
        "outputId": "f0c8ad7f-1f79-4d04-b27b-0c9a57cd378d"
      },
      "id": "wB51u8_egSDi",
      "execution_count": null,
      "outputs": [
        {
          "output_type": "stream",
          "name": "stdout",
          "text": [
            "Mounted at /content/drive\n"
          ]
        }
      ]
    },
    {
      "cell_type": "code",
      "source": [
        "pip install summa"
      ],
      "metadata": {
        "id": "7FzZGlnIqaiy"
      },
      "execution_count": null,
      "outputs": [],
      "id": "7FzZGlnIqaiy"
    },
    {
      "cell_type": "code",
      "source": [
        "pip install rouge_score"
      ],
      "metadata": {
        "id": "C62M7JmUqeXB"
      },
      "execution_count": null,
      "outputs": [],
      "id": "C62M7JmUqeXB"
    },
    {
      "cell_type": "code",
      "execution_count": null,
      "id": "eb1e8324",
      "metadata": {
        "id": "eb1e8324"
      },
      "outputs": [],
      "source": [
        "import pandas as pd\n",
        "import pickle\n",
        "import os\n",
        "from tqdm import tqdm\n",
        "import numpy as np\n",
        "from summa.summarizer import summarize\n",
        "from extract_section_body import extract_section_body\n",
        "from rouge_evaluation import get_rouge_scores\n",
        "from maximal_word_allocation import get_number_of_words"
      ]
    },
    {
      "cell_type": "code",
      "execution_count": null,
      "id": "86aed7cf",
      "metadata": {
        "id": "86aed7cf"
      },
      "outputs": [],
      "source": [
        "VALIDATION_DATASET = True\n",
        "TEST_DATASET = False"
      ]
    },
    {
      "cell_type": "code",
      "execution_count": null,
      "id": "ed50bbcd",
      "metadata": {
        "colab": {
          "base_uri": "https://localhost:8080/",
          "height": 36
        },
        "id": "ed50bbcd",
        "outputId": "adb9582f-4d8c-491f-eabe-4f0d661e3a2d"
      },
      "outputs": [
        {
          "output_type": "execute_result",
          "data": {
            "text/plain": [
              "'/content/drive/MyDrive/FNS_Dataset_2023/validation/'"
            ],
            "application/vnd.google.colaboratory.intrinsic+json": {
              "type": "string"
            }
          },
          "metadata": {},
          "execution_count": 8
        }
      ],
      "source": [
        "if VALIDATION_DATASET:\n",
        "    dir_ = '/content/drive/MyDrive/FNS_Dataset_2023/validation/'\n",
        "    toc_loc_pkl_file_path = '/content/drive/MyDrive/FNS_Dataset_2023/validation/out/valid_toc_loc.pkl'\n",
        "    df_predicted_path = '/content/drive/MyDrive/NLP_Project/2_Section_Classification/out/validation_df_predicted.pkl'\n",
        "\n",
        "if TEST_DATASET:\n",
        "    dir_ = '/content/drive/MyDrive/FNS_Dataset_2023/testing/'\n",
        "    toc_loc_pkl_file_path = '/content/drive/MyDrive/FNS_Dataset_2023/testing/out/test_toc_loc.pkl'\n",
        "    df_predicted_path = '/content/drive/MyDrive/NLP_Project/2_Section_Classification/out/test_df_predicted.pkl'\n",
        "\n",
        "annual_reports_dir = \"annual_reports\"\n",
        "gold_summary_dir = \"gold_summaries\"\n",
        "system_summary_dir = 'TextRank_ranked_weighted_maximal_word_allocation'\n",
        "team_name = 'IT-356'\n",
        "dir_"
      ]
    },
    {
      "cell_type": "code",
      "execution_count": null,
      "id": "77ae5bf6",
      "metadata": {
        "colab": {
          "base_uri": "https://localhost:8080/",
          "height": 493
        },
        "id": "77ae5bf6",
        "outputId": "5652d0f3-779b-429b-9b4d-5a22bf5a5284"
      },
      "outputs": [
        {
          "output_type": "execute_result",
          "data": {
            "text/plain": [
              "       file_id                           toc_section  toc_section_pos  \\\n",
              "0        30777  Financial and operational highlights              161   \n",
              "1        30777                      Strategic report              183   \n",
              "2        30777                        Global network              189   \n",
              "3        30777                  Chairman’s statement              200   \n",
              "4        30777              Chief Executive’s review              204   \n",
              "...        ...                                   ...              ...   \n",
              "10547     4162                               to 110,            21914   \n",
              "10548     4162                               and 117            23018   \n",
              "10549     4162                                to 116            24122   \n",
              "10550     4162                                to 122            25226   \n",
              "10551     4162                                to 135            30666   \n",
              "\n",
              "       toc_section_len  is_section_in_summary     toc_section_cleaned  pred  \\\n",
              "0                   22                      0  financi oper highlight     1   \n",
              "1                    6                      1          strateg report     0   \n",
              "2                   11                      0          global network     0   \n",
              "3                    4                      1      chairman statement     1   \n",
              "4                    4                      1     chief execut review     1   \n",
              "...                ...                    ...                     ...   ...   \n",
              "10547             1104                      0                             0   \n",
              "10548             1104                      0                             0   \n",
              "10549             1104                      0                             0   \n",
              "10550             5440                      0                             0   \n",
              "10551             5440                      0                             0   \n",
              "\n",
              "          False      True  \n",
              "0      0.407563  0.592437  \n",
              "1      0.932972  0.067028  \n",
              "2      0.756613  0.243387  \n",
              "3      0.018573  0.981427  \n",
              "4      0.007140  0.992860  \n",
              "...         ...       ...  \n",
              "10547  0.983343  0.016657  \n",
              "10548  0.985658  0.014342  \n",
              "10549  0.987655  0.012345  \n",
              "10550  0.987178  0.012822  \n",
              "10551  0.993895  0.006105  \n",
              "\n",
              "[10552 rows x 9 columns]"
            ],
            "text/html": [
              "\n",
              "  <div id=\"df-051ffb37-c313-41e7-915e-f214a04816c7\" class=\"colab-df-container\">\n",
              "    <div>\n",
              "<style scoped>\n",
              "    .dataframe tbody tr th:only-of-type {\n",
              "        vertical-align: middle;\n",
              "    }\n",
              "\n",
              "    .dataframe tbody tr th {\n",
              "        vertical-align: top;\n",
              "    }\n",
              "\n",
              "    .dataframe thead th {\n",
              "        text-align: right;\n",
              "    }\n",
              "</style>\n",
              "<table border=\"1\" class=\"dataframe\">\n",
              "  <thead>\n",
              "    <tr style=\"text-align: right;\">\n",
              "      <th></th>\n",
              "      <th>file_id</th>\n",
              "      <th>toc_section</th>\n",
              "      <th>toc_section_pos</th>\n",
              "      <th>toc_section_len</th>\n",
              "      <th>is_section_in_summary</th>\n",
              "      <th>toc_section_cleaned</th>\n",
              "      <th>pred</th>\n",
              "      <th>False</th>\n",
              "      <th>True</th>\n",
              "    </tr>\n",
              "  </thead>\n",
              "  <tbody>\n",
              "    <tr>\n",
              "      <th>0</th>\n",
              "      <td>30777</td>\n",
              "      <td>Financial and operational highlights</td>\n",
              "      <td>161</td>\n",
              "      <td>22</td>\n",
              "      <td>0</td>\n",
              "      <td>financi oper highlight</td>\n",
              "      <td>1</td>\n",
              "      <td>0.407563</td>\n",
              "      <td>0.592437</td>\n",
              "    </tr>\n",
              "    <tr>\n",
              "      <th>1</th>\n",
              "      <td>30777</td>\n",
              "      <td>Strategic report</td>\n",
              "      <td>183</td>\n",
              "      <td>6</td>\n",
              "      <td>1</td>\n",
              "      <td>strateg report</td>\n",
              "      <td>0</td>\n",
              "      <td>0.932972</td>\n",
              "      <td>0.067028</td>\n",
              "    </tr>\n",
              "    <tr>\n",
              "      <th>2</th>\n",
              "      <td>30777</td>\n",
              "      <td>Global network</td>\n",
              "      <td>189</td>\n",
              "      <td>11</td>\n",
              "      <td>0</td>\n",
              "      <td>global network</td>\n",
              "      <td>0</td>\n",
              "      <td>0.756613</td>\n",
              "      <td>0.243387</td>\n",
              "    </tr>\n",
              "    <tr>\n",
              "      <th>3</th>\n",
              "      <td>30777</td>\n",
              "      <td>Chairman’s statement</td>\n",
              "      <td>200</td>\n",
              "      <td>4</td>\n",
              "      <td>1</td>\n",
              "      <td>chairman statement</td>\n",
              "      <td>1</td>\n",
              "      <td>0.018573</td>\n",
              "      <td>0.981427</td>\n",
              "    </tr>\n",
              "    <tr>\n",
              "      <th>4</th>\n",
              "      <td>30777</td>\n",
              "      <td>Chief Executive’s review</td>\n",
              "      <td>204</td>\n",
              "      <td>4</td>\n",
              "      <td>1</td>\n",
              "      <td>chief execut review</td>\n",
              "      <td>1</td>\n",
              "      <td>0.007140</td>\n",
              "      <td>0.992860</td>\n",
              "    </tr>\n",
              "    <tr>\n",
              "      <th>...</th>\n",
              "      <td>...</td>\n",
              "      <td>...</td>\n",
              "      <td>...</td>\n",
              "      <td>...</td>\n",
              "      <td>...</td>\n",
              "      <td>...</td>\n",
              "      <td>...</td>\n",
              "      <td>...</td>\n",
              "      <td>...</td>\n",
              "    </tr>\n",
              "    <tr>\n",
              "      <th>10547</th>\n",
              "      <td>4162</td>\n",
              "      <td>to 110,</td>\n",
              "      <td>21914</td>\n",
              "      <td>1104</td>\n",
              "      <td>0</td>\n",
              "      <td></td>\n",
              "      <td>0</td>\n",
              "      <td>0.983343</td>\n",
              "      <td>0.016657</td>\n",
              "    </tr>\n",
              "    <tr>\n",
              "      <th>10548</th>\n",
              "      <td>4162</td>\n",
              "      <td>and 117</td>\n",
              "      <td>23018</td>\n",
              "      <td>1104</td>\n",
              "      <td>0</td>\n",
              "      <td></td>\n",
              "      <td>0</td>\n",
              "      <td>0.985658</td>\n",
              "      <td>0.014342</td>\n",
              "    </tr>\n",
              "    <tr>\n",
              "      <th>10549</th>\n",
              "      <td>4162</td>\n",
              "      <td>to 116</td>\n",
              "      <td>24122</td>\n",
              "      <td>1104</td>\n",
              "      <td>0</td>\n",
              "      <td></td>\n",
              "      <td>0</td>\n",
              "      <td>0.987655</td>\n",
              "      <td>0.012345</td>\n",
              "    </tr>\n",
              "    <tr>\n",
              "      <th>10550</th>\n",
              "      <td>4162</td>\n",
              "      <td>to 122</td>\n",
              "      <td>25226</td>\n",
              "      <td>5440</td>\n",
              "      <td>0</td>\n",
              "      <td></td>\n",
              "      <td>0</td>\n",
              "      <td>0.987178</td>\n",
              "      <td>0.012822</td>\n",
              "    </tr>\n",
              "    <tr>\n",
              "      <th>10551</th>\n",
              "      <td>4162</td>\n",
              "      <td>to 135</td>\n",
              "      <td>30666</td>\n",
              "      <td>5440</td>\n",
              "      <td>0</td>\n",
              "      <td></td>\n",
              "      <td>0</td>\n",
              "      <td>0.993895</td>\n",
              "      <td>0.006105</td>\n",
              "    </tr>\n",
              "  </tbody>\n",
              "</table>\n",
              "<p>10552 rows × 9 columns</p>\n",
              "</div>\n",
              "    <div class=\"colab-df-buttons\">\n",
              "\n",
              "  <div class=\"colab-df-container\">\n",
              "    <button class=\"colab-df-convert\" onclick=\"convertToInteractive('df-051ffb37-c313-41e7-915e-f214a04816c7')\"\n",
              "            title=\"Convert this dataframe to an interactive table.\"\n",
              "            style=\"display:none;\">\n",
              "\n",
              "  <svg xmlns=\"http://www.w3.org/2000/svg\" height=\"24px\" viewBox=\"0 -960 960 960\">\n",
              "    <path d=\"M120-120v-720h720v720H120Zm60-500h600v-160H180v160Zm220 220h160v-160H400v160Zm0 220h160v-160H400v160ZM180-400h160v-160H180v160Zm440 0h160v-160H620v160ZM180-180h160v-160H180v160Zm440 0h160v-160H620v160Z\"/>\n",
              "  </svg>\n",
              "    </button>\n",
              "\n",
              "  <style>\n",
              "    .colab-df-container {\n",
              "      display:flex;\n",
              "      gap: 12px;\n",
              "    }\n",
              "\n",
              "    .colab-df-convert {\n",
              "      background-color: #E8F0FE;\n",
              "      border: none;\n",
              "      border-radius: 50%;\n",
              "      cursor: pointer;\n",
              "      display: none;\n",
              "      fill: #1967D2;\n",
              "      height: 32px;\n",
              "      padding: 0 0 0 0;\n",
              "      width: 32px;\n",
              "    }\n",
              "\n",
              "    .colab-df-convert:hover {\n",
              "      background-color: #E2EBFA;\n",
              "      box-shadow: 0px 1px 2px rgba(60, 64, 67, 0.3), 0px 1px 3px 1px rgba(60, 64, 67, 0.15);\n",
              "      fill: #174EA6;\n",
              "    }\n",
              "\n",
              "    .colab-df-buttons div {\n",
              "      margin-bottom: 4px;\n",
              "    }\n",
              "\n",
              "    [theme=dark] .colab-df-convert {\n",
              "      background-color: #3B4455;\n",
              "      fill: #D2E3FC;\n",
              "    }\n",
              "\n",
              "    [theme=dark] .colab-df-convert:hover {\n",
              "      background-color: #434B5C;\n",
              "      box-shadow: 0px 1px 3px 1px rgba(0, 0, 0, 0.15);\n",
              "      filter: drop-shadow(0px 1px 2px rgba(0, 0, 0, 0.3));\n",
              "      fill: #FFFFFF;\n",
              "    }\n",
              "  </style>\n",
              "\n",
              "    <script>\n",
              "      const buttonEl =\n",
              "        document.querySelector('#df-051ffb37-c313-41e7-915e-f214a04816c7 button.colab-df-convert');\n",
              "      buttonEl.style.display =\n",
              "        google.colab.kernel.accessAllowed ? 'block' : 'none';\n",
              "\n",
              "      async function convertToInteractive(key) {\n",
              "        const element = document.querySelector('#df-051ffb37-c313-41e7-915e-f214a04816c7');\n",
              "        const dataTable =\n",
              "          await google.colab.kernel.invokeFunction('convertToInteractive',\n",
              "                                                    [key], {});\n",
              "        if (!dataTable) return;\n",
              "\n",
              "        const docLinkHtml = 'Like what you see? Visit the ' +\n",
              "          '<a target=\"_blank\" href=https://colab.research.google.com/notebooks/data_table.ipynb>data table notebook</a>'\n",
              "          + ' to learn more about interactive tables.';\n",
              "        element.innerHTML = '';\n",
              "        dataTable['output_type'] = 'display_data';\n",
              "        await google.colab.output.renderOutput(dataTable, element);\n",
              "        const docLink = document.createElement('div');\n",
              "        docLink.innerHTML = docLinkHtml;\n",
              "        element.appendChild(docLink);\n",
              "      }\n",
              "    </script>\n",
              "  </div>\n",
              "\n",
              "\n",
              "<div id=\"df-a7925fd0-b813-47d1-8bd7-6a26bc18cf9e\">\n",
              "  <button class=\"colab-df-quickchart\" onclick=\"quickchart('df-a7925fd0-b813-47d1-8bd7-6a26bc18cf9e')\"\n",
              "            title=\"Suggest charts\"\n",
              "            style=\"display:none;\">\n",
              "\n",
              "<svg xmlns=\"http://www.w3.org/2000/svg\" height=\"24px\"viewBox=\"0 0 24 24\"\n",
              "     width=\"24px\">\n",
              "    <g>\n",
              "        <path d=\"M19 3H5c-1.1 0-2 .9-2 2v14c0 1.1.9 2 2 2h14c1.1 0 2-.9 2-2V5c0-1.1-.9-2-2-2zM9 17H7v-7h2v7zm4 0h-2V7h2v10zm4 0h-2v-4h2v4z\"/>\n",
              "    </g>\n",
              "</svg>\n",
              "  </button>\n",
              "\n",
              "<style>\n",
              "  .colab-df-quickchart {\n",
              "      --bg-color: #E8F0FE;\n",
              "      --fill-color: #1967D2;\n",
              "      --hover-bg-color: #E2EBFA;\n",
              "      --hover-fill-color: #174EA6;\n",
              "      --disabled-fill-color: #AAA;\n",
              "      --disabled-bg-color: #DDD;\n",
              "  }\n",
              "\n",
              "  [theme=dark] .colab-df-quickchart {\n",
              "      --bg-color: #3B4455;\n",
              "      --fill-color: #D2E3FC;\n",
              "      --hover-bg-color: #434B5C;\n",
              "      --hover-fill-color: #FFFFFF;\n",
              "      --disabled-bg-color: #3B4455;\n",
              "      --disabled-fill-color: #666;\n",
              "  }\n",
              "\n",
              "  .colab-df-quickchart {\n",
              "    background-color: var(--bg-color);\n",
              "    border: none;\n",
              "    border-radius: 50%;\n",
              "    cursor: pointer;\n",
              "    display: none;\n",
              "    fill: var(--fill-color);\n",
              "    height: 32px;\n",
              "    padding: 0;\n",
              "    width: 32px;\n",
              "  }\n",
              "\n",
              "  .colab-df-quickchart:hover {\n",
              "    background-color: var(--hover-bg-color);\n",
              "    box-shadow: 0 1px 2px rgba(60, 64, 67, 0.3), 0 1px 3px 1px rgba(60, 64, 67, 0.15);\n",
              "    fill: var(--button-hover-fill-color);\n",
              "  }\n",
              "\n",
              "  .colab-df-quickchart-complete:disabled,\n",
              "  .colab-df-quickchart-complete:disabled:hover {\n",
              "    background-color: var(--disabled-bg-color);\n",
              "    fill: var(--disabled-fill-color);\n",
              "    box-shadow: none;\n",
              "  }\n",
              "\n",
              "  .colab-df-spinner {\n",
              "    border: 2px solid var(--fill-color);\n",
              "    border-color: transparent;\n",
              "    border-bottom-color: var(--fill-color);\n",
              "    animation:\n",
              "      spin 1s steps(1) infinite;\n",
              "  }\n",
              "\n",
              "  @keyframes spin {\n",
              "    0% {\n",
              "      border-color: transparent;\n",
              "      border-bottom-color: var(--fill-color);\n",
              "      border-left-color: var(--fill-color);\n",
              "    }\n",
              "    20% {\n",
              "      border-color: transparent;\n",
              "      border-left-color: var(--fill-color);\n",
              "      border-top-color: var(--fill-color);\n",
              "    }\n",
              "    30% {\n",
              "      border-color: transparent;\n",
              "      border-left-color: var(--fill-color);\n",
              "      border-top-color: var(--fill-color);\n",
              "      border-right-color: var(--fill-color);\n",
              "    }\n",
              "    40% {\n",
              "      border-color: transparent;\n",
              "      border-right-color: var(--fill-color);\n",
              "      border-top-color: var(--fill-color);\n",
              "    }\n",
              "    60% {\n",
              "      border-color: transparent;\n",
              "      border-right-color: var(--fill-color);\n",
              "    }\n",
              "    80% {\n",
              "      border-color: transparent;\n",
              "      border-right-color: var(--fill-color);\n",
              "      border-bottom-color: var(--fill-color);\n",
              "    }\n",
              "    90% {\n",
              "      border-color: transparent;\n",
              "      border-bottom-color: var(--fill-color);\n",
              "    }\n",
              "  }\n",
              "</style>\n",
              "\n",
              "  <script>\n",
              "    async function quickchart(key) {\n",
              "      const quickchartButtonEl =\n",
              "        document.querySelector('#' + key + ' button');\n",
              "      quickchartButtonEl.disabled = true;  // To prevent multiple clicks.\n",
              "      quickchartButtonEl.classList.add('colab-df-spinner');\n",
              "      try {\n",
              "        const charts = await google.colab.kernel.invokeFunction(\n",
              "            'suggestCharts', [key], {});\n",
              "      } catch (error) {\n",
              "        console.error('Error during call to suggestCharts:', error);\n",
              "      }\n",
              "      quickchartButtonEl.classList.remove('colab-df-spinner');\n",
              "      quickchartButtonEl.classList.add('colab-df-quickchart-complete');\n",
              "    }\n",
              "    (() => {\n",
              "      let quickchartButtonEl =\n",
              "        document.querySelector('#df-a7925fd0-b813-47d1-8bd7-6a26bc18cf9e button');\n",
              "      quickchartButtonEl.style.display =\n",
              "        google.colab.kernel.accessAllowed ? 'block' : 'none';\n",
              "    })();\n",
              "  </script>\n",
              "</div>\n",
              "    </div>\n",
              "  </div>\n"
            ]
          },
          "metadata": {},
          "execution_count": 9
        }
      ],
      "source": [
        "df_predicted = pickle.load(open(df_predicted_path, 'rb'))\n",
        "df_predicted"
      ]
    },
    {
      "cell_type": "code",
      "execution_count": null,
      "id": "32233535",
      "metadata": {
        "id": "32233535"
      },
      "outputs": [],
      "source": [
        "def get_relevant_sections_with_score(file_id):\n",
        "    cutoff_score = 0.744291\n",
        "    df_dict = df_predicted[df_predicted.file_id == int(file_id)][['toc_section', 'True']].to_dict('list')\n",
        "    section_score_dict = {}\n",
        "    toc_sections = df_dict['toc_section']\n",
        "    section_scores = df_dict['True']\n",
        "    for i in range(len(toc_sections)):\n",
        "        if section_scores[i] >= cutoff_score:\n",
        "            section_score_dict[toc_sections[i]] = section_scores[i]\n",
        "    return section_score_dict"
      ]
    },
    {
      "cell_type": "code",
      "execution_count": null,
      "id": "40b9eeb6",
      "metadata": {
        "id": "40b9eeb6"
      },
      "outputs": [],
      "source": [
        "def get_relevant_sections_with_body_len(file_id):\n",
        "    section_body_len_dict = {}\n",
        "    section_score_dict = get_relevant_sections_with_score(file_id)\n",
        "    for section in section_score_dict.keys():\n",
        "        body = extract_section_body(file_id, section, dir_, annual_reports_dir, toc_loc_pkl_file_path)\n",
        "        section_body_len_dict[section] = len(body.split(' '))\n",
        "    return section_body_len_dict"
      ]
    },
    {
      "cell_type": "code",
      "execution_count": null,
      "id": "795b782c",
      "metadata": {
        "id": "795b782c"
      },
      "outputs": [],
      "source": [
        "def get_section_number_of_words(file_id):\n",
        "    section_num_words_dict = {}\n",
        "    section_score_dict = get_relevant_sections_with_score(file_id)\n",
        "    sections = list(section_score_dict.keys())\n",
        "    section_scores = np.array(list(section_score_dict.values()))\n",
        "    section_body_len_dict = get_relevant_sections_with_body_len(file_id)\n",
        "    section_body_len = np.array(list(section_body_len_dict.values()))\n",
        "    prev_num_required_words = np.zeros(len(section_body_len))\n",
        "    num_words = get_number_of_words(section_scores, section_body_len, 1000, prev_num_required_words)\n",
        "    for i in range(len(sections)):\n",
        "        section_num_words_dict[sections[i]] = int(num_words[i])\n",
        "    return section_num_words_dict"
      ]
    },
    {
      "cell_type": "code",
      "source": [
        "import shutil\n",
        "shutil.rmtree(system_summary_dir)"
      ],
      "metadata": {
        "id": "huzqKHdJd8gx"
      },
      "id": "huzqKHdJd8gx",
      "execution_count": null,
      "outputs": []
    },
    {
      "cell_type": "code",
      "source": [
        "file_id=4150\n",
        "relevant_sections_with_score = get_relevant_sections_with_score(file_id)\n",
        "        # Section order is maintained\n",
        "relevant_sections = list(relevant_sections_with_score.keys())\n",
        "print(file_id, relevant_sections)\n",
        "summary = \"\"\n",
        "if relevant_sections:\n",
        "    for section in relevant_sections:\n",
        "        summary = summary + \" \" +summarize(extract_section_body(file_id, section, dir_, annual_reports_dir, toc_loc_pkl_file_path))\n",
        "    summary_split = summary.split(' ')\n",
        "    number_of_words = len(summary_split)\n",
        "    print(number_of_words)\n",
        "else:\n",
        "    print('Relevant Section Not Found in ', file_id)\n",
        "    summary = open(os.path.join(dir_, annual_reports_dir, '4117.txt'), \"r\", encoding=\"utf-8\").read()\n",
        "    summary_split = summary.split(' ')\n",
        "    number_of_words = len(summary_split)\n",
        "    print(number_of_words)"
      ],
      "metadata": {
        "colab": {
          "base_uri": "https://localhost:8080/"
        },
        "id": "LDiE08FG9hc3",
        "outputId": "b54553f2-4221-445f-ccfa-28ce3c8e2687"
      },
      "id": "LDiE08FG9hc3",
      "execution_count": null,
      "outputs": [
        {
          "output_type": "stream",
          "name": "stdout",
          "text": [
            "4150 ['start']\n",
            "3954\n"
          ]
        }
      ]
    },
    {
      "cell_type": "code",
      "execution_count": null,
      "id": "1ee92d9f",
      "metadata": {
        "colab": {
          "base_uri": "https://localhost:8080/"
        },
        "id": "1ee92d9f",
        "outputId": "77c5c282-4c68-414c-c1d4-e1c4f7ece244"
      },
      "outputs": [
        {
          "output_type": "stream",
          "name": "stderr",
          "text": [
            "Processing Files: 100%|\u001b[32m███████████████████████\u001b[0m| 413/413 [01:13<00:00,  5.60it/s]\u001b[0m\n"
          ]
        }
      ],
      "source": [
        "os.makedirs(system_summary_dir)\n",
        "total_files = len(os.listdir(os.path.join(dir_, annual_reports_dir)))\n",
        "for file in tqdm(os.listdir(os.path.join(dir_, annual_reports_dir)), desc=\"Processing Files\", total=total_files, ncols=80, colour='green', leave=True):\n",
        "    try:\n",
        "        file_id = file.split('.')[0]\n",
        "        relevant_sections_with_score = get_relevant_sections_with_score(file_id)\n",
        "        # Section order is maintained\n",
        "        relevant_sections = list(relevant_sections_with_score.keys())\n",
        "        section_num_words_dict = get_section_number_of_words(file_id)\n",
        "\n",
        "        #print(file_id, relevant_sections)\n",
        "        summary = \"\"\n",
        "        total_number_of_words_in_body = 0\n",
        "        total_number_of_words_in_summary = 0\n",
        "        if relevant_sections:\n",
        "\n",
        "            #print('Relevant Section Found in ', file_id)\n",
        "            for section in relevant_sections:\n",
        "                number_of_words_to_be_extracted = section_num_words_dict[section]\n",
        "                section_body = extract_section_body(file_id, section, dir_, annual_reports_dir, toc_loc_pkl_file_path)\n",
        "                section_body_split = section_body.split(' ')\n",
        "                number_of_words_in_body = len(section_body_split)\n",
        "                total_number_of_words_in_body = total_number_of_words_in_body + number_of_words_in_body\n",
        "                ratio = int(number_of_words_in_body/number_of_words_to_be_extracted)\n",
        "                if number_of_words_in_body > number_of_words_to_be_extracted:\n",
        "                  if ratio > 20:\n",
        "                    summary = \" \".join(section_body_split[:number_of_words_to_be_extracted])\n",
        "                  else:\n",
        "                    summary = summary+ \" \"+ summarize(section_body,words = number_of_words_to_be_extracted)\n",
        "                  total_number_of_words_in_summary = total_number_of_words_in_summary + number_of_words_to_be_extracted\n",
        "                else:\n",
        "                    #print(file_id, section, number_of_words_in_body, number_of_words_to_be_extracted)\n",
        "                    summary = summary+ \" \"+\" \".join(section_body_split[:number_of_words_in_body])\n",
        "                    total_number_of_words_in_summary = total_number_of_words_in_summary + number_of_words_in_body\n",
        "\n",
        "\n",
        "            #print(file_id, 'number_of_words_in_output_summary' , total_number_of_words_in_summary)\n",
        "            #print(file_id,  'number_of_words_in_body', total_number_of_words_in_body)\n",
        "            #print('\\n')\n",
        "        else:\n",
        "            #print('Relevant Section Not Found in ', file_id)\n",
        "            summary = open(os.path.join(dir_, annual_reports_dir, file), \"r\", encoding=\"utf-8\").read()\n",
        "            summary_split = summary.split(' ')\n",
        "            number_of_words = len(summary_split)\n",
        "            #print(number_of_words)\n",
        "            if number_of_words > 1000:\n",
        "                summary = \" \".join(summary_split[:1000])\n",
        "\n",
        "        with open(os.path.join(system_summary_dir, file_id+'_'+team_name+'.txt'), 'w', encoding='utf-8') as f:\n",
        "            f.write(str(summary))\n",
        "\n",
        "        if \".DS_Store\" in file:\n",
        "            continue\n",
        "    except Exception as e:\n",
        "        print(file, e)"
      ]
    },
    {
      "cell_type": "code",
      "execution_count": null,
      "id": "e297d691",
      "metadata": {
        "colab": {
          "base_uri": "https://localhost:8080/"
        },
        "id": "e297d691",
        "outputId": "048b7ffc-4063-4abd-a28d-d99fbd1221e8"
      },
      "outputs": [
        {
          "output_type": "stream",
          "name": "stdout",
          "text": [
            "Processing File Number:  0\n",
            "Processing File Number:  50\n",
            "Processing File Number:  100\n",
            "Processing File Number:  150\n",
            "Processing File Number:  200\n",
            "Processing File Number:  250\n",
            "Processing File Number:  300\n",
            "Processing File Number:  350\n",
            "Processing File Number:  400\n",
            "Number of files processed:  413\n"
          ]
        }
      ],
      "source": [
        "if VALIDATION_DATASET:\n",
        "    gold_summary_dir_ =  os.path.join(dir_, gold_summary_dir)\n",
        "    rouge_scores = get_rouge_scores(system_summary_dir, gold_summary_dir_)\n",
        "    rouge_scores"
      ]
    },
    {
      "cell_type": "code",
      "execution_count": null,
      "id": "d632c3ed",
      "metadata": {
        "colab": {
          "base_uri": "https://localhost:8080/"
        },
        "id": "d632c3ed",
        "outputId": "f75acaf1-afdf-4a6d-bd5d-418d7d2b6263"
      },
      "outputs": [
        {
          "output_type": "execute_result",
          "data": {
            "text/plain": [
              "{'rouge-1': {'p': 0.5149676953196044,\n",
              "  'r': 0.5456923150307942,\n",
              "  'f': 0.44987872445725513},\n",
              " 'rouge-2': {'p': 0.3210612406305114,\n",
              "  'r': 0.368369159817146,\n",
              "  'f': 0.2900307623265418}}"
            ]
          },
          "metadata": {},
          "execution_count": 14
        }
      ],
      "source": [
        "rouge_scores"
      ]
    }
  ],
  "metadata": {
    "kernelspec": {
      "display_name": "Python 3 (ipykernel)",
      "language": "python",
      "name": "python3"
    },
    "language_info": {
      "codemirror_mode": {
        "name": "ipython",
        "version": 3
      },
      "file_extension": ".py",
      "mimetype": "text/x-python",
      "name": "python",
      "nbconvert_exporter": "python",
      "pygments_lexer": "ipython3",
      "version": "3.9.13"
    },
    "colab": {
      "provenance": []
    }
  },
  "nbformat": 4,
  "nbformat_minor": 5
}