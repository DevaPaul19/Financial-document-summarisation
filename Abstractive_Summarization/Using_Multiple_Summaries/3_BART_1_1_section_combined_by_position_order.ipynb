{
  "cells": [
    {
      "cell_type": "markdown",
      "id": "97a5a4a8",
      "metadata": {
        "id": "97a5a4a8"
      },
      "source": [
        "### Section bodies combined by position order top 1000 words\n",
        "\n",
        "#### Steps:\n",
        "\n",
        "1. Get the relevant sections and their position in the report\n",
        "2. Order the sections by position\n",
        "3. Extract the body of section and keep on concatenating\n",
        "4. Extract top 1000 words\n",
        "5. If no relevant sections -> Write the complete file as summary with top 1000 words\n",
        "6. Compare the system summary with each gold summary and get the rouge score. Take average of all gold summaries for the respective file.\n",
        "7. Take average of all the scores for all the files."
      ]
    },
    {
      "cell_type": "code",
      "source": [
        "from google.colab import drive\n",
        "drive.mount('/content/drive')"
      ],
      "metadata": {
        "colab": {
          "base_uri": "https://localhost:8080/"
        },
        "id": "qO67d_jMkJnd",
        "outputId": "df1d07b7-5378-461a-8255-ed2742b9d753"
      },
      "id": "qO67d_jMkJnd",
      "execution_count": null,
      "outputs": [
        {
          "output_type": "stream",
          "name": "stdout",
          "text": [
            "Mounted at /content/drive\n"
          ]
        }
      ]
    },
    {
      "cell_type": "code",
      "source": [
        "pip install transformers"
      ],
      "metadata": {
        "id": "TWqQUDKju1_F"
      },
      "id": "TWqQUDKju1_F",
      "execution_count": null,
      "outputs": []
    },
    {
      "cell_type": "code",
      "source": [
        "pip install rouge_score"
      ],
      "metadata": {
        "id": "C62M7JmUqeXB"
      },
      "id": "C62M7JmUqeXB",
      "execution_count": null,
      "outputs": []
    },
    {
      "cell_type": "code",
      "source": [
        "from transformers import AutoTokenizer, AutoModelForSeq2SeqLM\n",
        "from transformers import BartTokenizer, BartForConditionalGeneration\n",
        "import torch\n",
        "import torch.nn.functional as F"
      ],
      "metadata": {
        "id": "OWkftwXwu6f_"
      },
      "id": "OWkftwXwu6f_",
      "execution_count": null,
      "outputs": []
    },
    {
      "cell_type": "code",
      "execution_count": null,
      "id": "eb1e8324",
      "metadata": {
        "id": "eb1e8324"
      },
      "outputs": [],
      "source": [
        "import pandas as pd\n",
        "import pickle\n",
        "import os\n",
        "from tqdm import tqdm\n",
        "from extract_section_body import extract_section_body\n",
        "from rouge_evaluation import get_rouge_scores"
      ]
    },
    {
      "cell_type": "code",
      "source": [
        "model_path='/content/drive/MyDrive/NLP_Project/fine_tuned_model'\n",
        "fine_tuned_model = AutoModelForSeq2SeqLM.from_pretrained(model_path)"
      ],
      "metadata": {
        "id": "NjBah4HivUIe"
      },
      "id": "NjBah4HivUIe",
      "execution_count": null,
      "outputs": []
    },
    {
      "cell_type": "code",
      "source": [
        "tokenizer = BartTokenizer.from_pretrained('facebook/bart-large-cnn')\n",
        "device = torch.device(\"cuda\" if torch.cuda.is_available() else \"cpu\")"
      ],
      "metadata": {
        "colab": {
          "base_uri": "https://localhost:8080/",
          "height": 257,
          "referenced_widgets": [
            "eb4961a0c0d94efaa86d8c0c5b7f7ee6",
            "dc004b05dd464688addabf7cdc270403",
            "266c3eaf58494822bc2a01fc0898ceaf",
            "7f40838c10cf41b09016719514eeeed2",
            "aafeeaf19cb8465daba7537e7076ad56",
            "b20234dc88584e16938cb297f371b349",
            "54f2e8f11f4e40c2a4b7f291e5d8332b",
            "e52e88f467c14e309eef5f2207a689bf",
            "61965d7c20a64d6dac72067e55a4c407",
            "3e7d9f1ebf8e4dc49d5f1b694de653d7",
            "a61f5b2adb1748f88d3935b1e79a1486",
            "7f85f3e03c1a4b94b48311e78655198e",
            "8bc04a4e6f3041bf9d473a9cc26551d3",
            "31154812aa03450b91a06672d6c1346b",
            "d607875a8d19435b94809ae2722a2438",
            "ac933dd362ba41f98c1f10d130865374",
            "4205b4ca32f340e6873ad1e02ae46a9b",
            "508c9c73f3cf4fdeb9ef77c45fe08d37",
            "95e44d869ba2411e97c35992135c11c0",
            "ce9edfe2052641148f351b589d575c4f",
            "eb126204a2284394abb7c65e73f44ce5",
            "e86c8662901745f58e6277e119ddea85",
            "15ea7bf01cba445f9979708de1540378",
            "c1f7af5c7e5c4d64b10985093cc44a66",
            "c0f93c8fb4c4447b8969feb2b612b932",
            "ec87de78350242a7b4a78911c50faaf4",
            "de13ccd303794acb8fdd14079754fdcf",
            "59ae65ddeb4943efbf954ab5c795f190",
            "7486605e1a604f0192af692b786db479",
            "bad6de7426c24660b3db7cb47c085ca3",
            "0bf40426d99a4148a57861394526b8eb",
            "2b6916b72a8941ca9dd5a51c96048ed3",
            "29a7f7588f9b475f96f8c825bc664baa",
            "883d109da27042ebac9ff49f2af7dabd",
            "309d1f08bc6a4895ac0d6b2d2f046630",
            "22dadbf74afc4a8f9665e4dbc01c4ead",
            "c481b226d8844f539e94742cfb21612c",
            "5a77e3e09a5a4b0fa9eec6be7fc9d8b4",
            "fee847238132498993348d5497992feb",
            "c79d56e428524666a5068f95f357ca60",
            "0a462ee8a4b94fdfbf5201a3711a3a05",
            "4e71aba998e44473b693a78820127499",
            "61f536d7a87b4e2889ad402e4a4c017f",
            "5ecdbb2e822149e6bb07cd11d55d2101"
          ]
        },
        "id": "KKLJ1rKKvVbn",
        "outputId": "bbe67d38-9849-491b-a734-9591fe7bfc82"
      },
      "id": "KKLJ1rKKvVbn",
      "execution_count": null,
      "outputs": [
        {
          "output_type": "display_data",
          "data": {
            "text/plain": [
              "Downloading (…)olve/main/vocab.json:   0%|          | 0.00/899k [00:00<?, ?B/s]"
            ],
            "application/vnd.jupyter.widget-view+json": {
              "version_major": 2,
              "version_minor": 0,
              "model_id": "eb4961a0c0d94efaa86d8c0c5b7f7ee6"
            }
          },
          "metadata": {}
        },
        {
          "output_type": "display_data",
          "data": {
            "text/plain": [
              "Downloading (…)olve/main/merges.txt:   0%|          | 0.00/456k [00:00<?, ?B/s]"
            ],
            "application/vnd.jupyter.widget-view+json": {
              "version_major": 2,
              "version_minor": 0,
              "model_id": "7f85f3e03c1a4b94b48311e78655198e"
            }
          },
          "metadata": {}
        },
        {
          "output_type": "display_data",
          "data": {
            "text/plain": [
              "Downloading (…)/main/tokenizer.json:   0%|          | 0.00/1.36M [00:00<?, ?B/s]"
            ],
            "application/vnd.jupyter.widget-view+json": {
              "version_major": 2,
              "version_minor": 0,
              "model_id": "15ea7bf01cba445f9979708de1540378"
            }
          },
          "metadata": {}
        },
        {
          "output_type": "display_data",
          "data": {
            "text/plain": [
              "Downloading (…)lve/main/config.json:   0%|          | 0.00/1.58k [00:00<?, ?B/s]"
            ],
            "application/vnd.jupyter.widget-view+json": {
              "version_major": 2,
              "version_minor": 0,
              "model_id": "883d109da27042ebac9ff49f2af7dabd"
            }
          },
          "metadata": {}
        }
      ]
    },
    {
      "cell_type": "code",
      "execution_count": null,
      "id": "86aed7cf",
      "metadata": {
        "id": "86aed7cf"
      },
      "outputs": [],
      "source": [
        "VALIDATION_DATASET = True\n",
        "TEST_DATASET = False"
      ]
    },
    {
      "cell_type": "code",
      "execution_count": null,
      "id": "ed50bbcd",
      "metadata": {
        "colab": {
          "base_uri": "https://localhost:8080/",
          "height": 36
        },
        "id": "ed50bbcd",
        "outputId": "0dca82c0-fc49-4df0-cb12-9ec78d728ce7"
      },
      "outputs": [
        {
          "output_type": "execute_result",
          "data": {
            "text/plain": [
              "'/content/drive/MyDrive/FNS_Dataset_2023/validation/'"
            ],
            "application/vnd.google.colaboratory.intrinsic+json": {
              "type": "string"
            }
          },
          "metadata": {},
          "execution_count": 8
        }
      ],
      "source": [
        "if VALIDATION_DATASET:\n",
        "    dir_ = '/content/drive/MyDrive/FNS_Dataset_2023/validation/'\n",
        "    toc_loc_pkl_file_path = '/content/drive/MyDrive/FNS_Dataset_2023/validation/out/valid_toc_loc.pkl'\n",
        "    df_predicted_path = '/content/drive/MyDrive/NLP_Project/2_Section_Classification/out/validation_df_predicted.pkl'\n",
        "\n",
        "if TEST_DATASET:\n",
        "    dir_ = '/content/drive/MyDrive/FNS_Dataset_2023/testing/'\n",
        "    toc_loc_pkl_file_path = '/content/drive/MyDrive/FNS_Dataset_2023/testing/out/test_toc_loc.pkl'\n",
        "    df_predicted_path = '/content/drive/MyDrive/NLP_Project/2_Section_Classification/out/test_df_predicted.pkl'\n",
        "\n",
        "annual_reports_dir = \"annual_reports\"\n",
        "gold_summary_dir = \"gold_summaries\"\n",
        "system_summary_dir = 'section_combined_by_position_BART'\n",
        "team_name = 'IT-356'\n",
        "dir_"
      ]
    },
    {
      "cell_type": "code",
      "execution_count": null,
      "id": "77ae5bf6",
      "metadata": {
        "colab": {
          "base_uri": "https://localhost:8080/",
          "height": 565
        },
        "id": "77ae5bf6",
        "outputId": "644bd0f8-fa23-4f57-851a-833f22a45b28"
      },
      "outputs": [
        {
          "output_type": "execute_result",
          "data": {
            "text/plain": [
              "       file_id                           toc_section  toc_section_pos  \\\n",
              "0        30777  Financial and operational highlights              161   \n",
              "1        30777                      Strategic report              183   \n",
              "2        30777                        Global network              189   \n",
              "3        30777                  Chairman’s statement              200   \n",
              "4        30777              Chief Executive’s review              204   \n",
              "...        ...                                   ...              ...   \n",
              "10547     4162                               to 110,            21914   \n",
              "10548     4162                               and 117            23018   \n",
              "10549     4162                                to 116            24122   \n",
              "10550     4162                                to 122            25226   \n",
              "10551     4162                                to 135            30666   \n",
              "\n",
              "       toc_section_len  is_section_in_summary     toc_section_cleaned  pred  \\\n",
              "0                   22                      0  financi oper highlight     1   \n",
              "1                    6                      1          strateg report     0   \n",
              "2                   11                      0          global network     0   \n",
              "3                    4                      1      chairman statement     1   \n",
              "4                    4                      1     chief execut review     1   \n",
              "...                ...                    ...                     ...   ...   \n",
              "10547             1104                      0                             0   \n",
              "10548             1104                      0                             0   \n",
              "10549             1104                      0                             0   \n",
              "10550             5440                      0                             0   \n",
              "10551             5440                      0                             0   \n",
              "\n",
              "          False      True  \n",
              "0      0.407563  0.592437  \n",
              "1      0.932972  0.067028  \n",
              "2      0.756613  0.243387  \n",
              "3      0.018573  0.981427  \n",
              "4      0.007140  0.992860  \n",
              "...         ...       ...  \n",
              "10547  0.983343  0.016657  \n",
              "10548  0.985658  0.014342  \n",
              "10549  0.987655  0.012345  \n",
              "10550  0.987178  0.012822  \n",
              "10551  0.993895  0.006105  \n",
              "\n",
              "[10552 rows x 9 columns]"
            ],
            "text/html": [
              "\n",
              "  <div id=\"df-2ceabba2-a6d8-4a7d-a609-2d42ce1c4667\" class=\"colab-df-container\">\n",
              "    <div>\n",
              "<style scoped>\n",
              "    .dataframe tbody tr th:only-of-type {\n",
              "        vertical-align: middle;\n",
              "    }\n",
              "\n",
              "    .dataframe tbody tr th {\n",
              "        vertical-align: top;\n",
              "    }\n",
              "\n",
              "    .dataframe thead th {\n",
              "        text-align: right;\n",
              "    }\n",
              "</style>\n",
              "<table border=\"1\" class=\"dataframe\">\n",
              "  <thead>\n",
              "    <tr style=\"text-align: right;\">\n",
              "      <th></th>\n",
              "      <th>file_id</th>\n",
              "      <th>toc_section</th>\n",
              "      <th>toc_section_pos</th>\n",
              "      <th>toc_section_len</th>\n",
              "      <th>is_section_in_summary</th>\n",
              "      <th>toc_section_cleaned</th>\n",
              "      <th>pred</th>\n",
              "      <th>False</th>\n",
              "      <th>True</th>\n",
              "    </tr>\n",
              "  </thead>\n",
              "  <tbody>\n",
              "    <tr>\n",
              "      <th>0</th>\n",
              "      <td>30777</td>\n",
              "      <td>Financial and operational highlights</td>\n",
              "      <td>161</td>\n",
              "      <td>22</td>\n",
              "      <td>0</td>\n",
              "      <td>financi oper highlight</td>\n",
              "      <td>1</td>\n",
              "      <td>0.407563</td>\n",
              "      <td>0.592437</td>\n",
              "    </tr>\n",
              "    <tr>\n",
              "      <th>1</th>\n",
              "      <td>30777</td>\n",
              "      <td>Strategic report</td>\n",
              "      <td>183</td>\n",
              "      <td>6</td>\n",
              "      <td>1</td>\n",
              "      <td>strateg report</td>\n",
              "      <td>0</td>\n",
              "      <td>0.932972</td>\n",
              "      <td>0.067028</td>\n",
              "    </tr>\n",
              "    <tr>\n",
              "      <th>2</th>\n",
              "      <td>30777</td>\n",
              "      <td>Global network</td>\n",
              "      <td>189</td>\n",
              "      <td>11</td>\n",
              "      <td>0</td>\n",
              "      <td>global network</td>\n",
              "      <td>0</td>\n",
              "      <td>0.756613</td>\n",
              "      <td>0.243387</td>\n",
              "    </tr>\n",
              "    <tr>\n",
              "      <th>3</th>\n",
              "      <td>30777</td>\n",
              "      <td>Chairman’s statement</td>\n",
              "      <td>200</td>\n",
              "      <td>4</td>\n",
              "      <td>1</td>\n",
              "      <td>chairman statement</td>\n",
              "      <td>1</td>\n",
              "      <td>0.018573</td>\n",
              "      <td>0.981427</td>\n",
              "    </tr>\n",
              "    <tr>\n",
              "      <th>4</th>\n",
              "      <td>30777</td>\n",
              "      <td>Chief Executive’s review</td>\n",
              "      <td>204</td>\n",
              "      <td>4</td>\n",
              "      <td>1</td>\n",
              "      <td>chief execut review</td>\n",
              "      <td>1</td>\n",
              "      <td>0.007140</td>\n",
              "      <td>0.992860</td>\n",
              "    </tr>\n",
              "    <tr>\n",
              "      <th>...</th>\n",
              "      <td>...</td>\n",
              "      <td>...</td>\n",
              "      <td>...</td>\n",
              "      <td>...</td>\n",
              "      <td>...</td>\n",
              "      <td>...</td>\n",
              "      <td>...</td>\n",
              "      <td>...</td>\n",
              "      <td>...</td>\n",
              "    </tr>\n",
              "    <tr>\n",
              "      <th>10547</th>\n",
              "      <td>4162</td>\n",
              "      <td>to 110,</td>\n",
              "      <td>21914</td>\n",
              "      <td>1104</td>\n",
              "      <td>0</td>\n",
              "      <td></td>\n",
              "      <td>0</td>\n",
              "      <td>0.983343</td>\n",
              "      <td>0.016657</td>\n",
              "    </tr>\n",
              "    <tr>\n",
              "      <th>10548</th>\n",
              "      <td>4162</td>\n",
              "      <td>and 117</td>\n",
              "      <td>23018</td>\n",
              "      <td>1104</td>\n",
              "      <td>0</td>\n",
              "      <td></td>\n",
              "      <td>0</td>\n",
              "      <td>0.985658</td>\n",
              "      <td>0.014342</td>\n",
              "    </tr>\n",
              "    <tr>\n",
              "      <th>10549</th>\n",
              "      <td>4162</td>\n",
              "      <td>to 116</td>\n",
              "      <td>24122</td>\n",
              "      <td>1104</td>\n",
              "      <td>0</td>\n",
              "      <td></td>\n",
              "      <td>0</td>\n",
              "      <td>0.987655</td>\n",
              "      <td>0.012345</td>\n",
              "    </tr>\n",
              "    <tr>\n",
              "      <th>10550</th>\n",
              "      <td>4162</td>\n",
              "      <td>to 122</td>\n",
              "      <td>25226</td>\n",
              "      <td>5440</td>\n",
              "      <td>0</td>\n",
              "      <td></td>\n",
              "      <td>0</td>\n",
              "      <td>0.987178</td>\n",
              "      <td>0.012822</td>\n",
              "    </tr>\n",
              "    <tr>\n",
              "      <th>10551</th>\n",
              "      <td>4162</td>\n",
              "      <td>to 135</td>\n",
              "      <td>30666</td>\n",
              "      <td>5440</td>\n",
              "      <td>0</td>\n",
              "      <td></td>\n",
              "      <td>0</td>\n",
              "      <td>0.993895</td>\n",
              "      <td>0.006105</td>\n",
              "    </tr>\n",
              "  </tbody>\n",
              "</table>\n",
              "<p>10552 rows × 9 columns</p>\n",
              "</div>\n",
              "    <div class=\"colab-df-buttons\">\n",
              "\n",
              "  <div class=\"colab-df-container\">\n",
              "    <button class=\"colab-df-convert\" onclick=\"convertToInteractive('df-2ceabba2-a6d8-4a7d-a609-2d42ce1c4667')\"\n",
              "            title=\"Convert this dataframe to an interactive table.\"\n",
              "            style=\"display:none;\">\n",
              "\n",
              "  <svg xmlns=\"http://www.w3.org/2000/svg\" height=\"24px\" viewBox=\"0 -960 960 960\">\n",
              "    <path d=\"M120-120v-720h720v720H120Zm60-500h600v-160H180v160Zm220 220h160v-160H400v160Zm0 220h160v-160H400v160ZM180-400h160v-160H180v160Zm440 0h160v-160H620v160ZM180-180h160v-160H180v160Zm440 0h160v-160H620v160Z\"/>\n",
              "  </svg>\n",
              "    </button>\n",
              "\n",
              "  <style>\n",
              "    .colab-df-container {\n",
              "      display:flex;\n",
              "      gap: 12px;\n",
              "    }\n",
              "\n",
              "    .colab-df-convert {\n",
              "      background-color: #E8F0FE;\n",
              "      border: none;\n",
              "      border-radius: 50%;\n",
              "      cursor: pointer;\n",
              "      display: none;\n",
              "      fill: #1967D2;\n",
              "      height: 32px;\n",
              "      padding: 0 0 0 0;\n",
              "      width: 32px;\n",
              "    }\n",
              "\n",
              "    .colab-df-convert:hover {\n",
              "      background-color: #E2EBFA;\n",
              "      box-shadow: 0px 1px 2px rgba(60, 64, 67, 0.3), 0px 1px 3px 1px rgba(60, 64, 67, 0.15);\n",
              "      fill: #174EA6;\n",
              "    }\n",
              "\n",
              "    .colab-df-buttons div {\n",
              "      margin-bottom: 4px;\n",
              "    }\n",
              "\n",
              "    [theme=dark] .colab-df-convert {\n",
              "      background-color: #3B4455;\n",
              "      fill: #D2E3FC;\n",
              "    }\n",
              "\n",
              "    [theme=dark] .colab-df-convert:hover {\n",
              "      background-color: #434B5C;\n",
              "      box-shadow: 0px 1px 3px 1px rgba(0, 0, 0, 0.15);\n",
              "      filter: drop-shadow(0px 1px 2px rgba(0, 0, 0, 0.3));\n",
              "      fill: #FFFFFF;\n",
              "    }\n",
              "  </style>\n",
              "\n",
              "    <script>\n",
              "      const buttonEl =\n",
              "        document.querySelector('#df-2ceabba2-a6d8-4a7d-a609-2d42ce1c4667 button.colab-df-convert');\n",
              "      buttonEl.style.display =\n",
              "        google.colab.kernel.accessAllowed ? 'block' : 'none';\n",
              "\n",
              "      async function convertToInteractive(key) {\n",
              "        const element = document.querySelector('#df-2ceabba2-a6d8-4a7d-a609-2d42ce1c4667');\n",
              "        const dataTable =\n",
              "          await google.colab.kernel.invokeFunction('convertToInteractive',\n",
              "                                                    [key], {});\n",
              "        if (!dataTable) return;\n",
              "\n",
              "        const docLinkHtml = 'Like what you see? Visit the ' +\n",
              "          '<a target=\"_blank\" href=https://colab.research.google.com/notebooks/data_table.ipynb>data table notebook</a>'\n",
              "          + ' to learn more about interactive tables.';\n",
              "        element.innerHTML = '';\n",
              "        dataTable['output_type'] = 'display_data';\n",
              "        await google.colab.output.renderOutput(dataTable, element);\n",
              "        const docLink = document.createElement('div');\n",
              "        docLink.innerHTML = docLinkHtml;\n",
              "        element.appendChild(docLink);\n",
              "      }\n",
              "    </script>\n",
              "  </div>\n",
              "\n",
              "\n",
              "<div id=\"df-afc55a26-beb1-4d70-9a30-c7549e37c361\">\n",
              "  <button class=\"colab-df-quickchart\" onclick=\"quickchart('df-afc55a26-beb1-4d70-9a30-c7549e37c361')\"\n",
              "            title=\"Suggest charts\"\n",
              "            style=\"display:none;\">\n",
              "\n",
              "<svg xmlns=\"http://www.w3.org/2000/svg\" height=\"24px\"viewBox=\"0 0 24 24\"\n",
              "     width=\"24px\">\n",
              "    <g>\n",
              "        <path d=\"M19 3H5c-1.1 0-2 .9-2 2v14c0 1.1.9 2 2 2h14c1.1 0 2-.9 2-2V5c0-1.1-.9-2-2-2zM9 17H7v-7h2v7zm4 0h-2V7h2v10zm4 0h-2v-4h2v4z\"/>\n",
              "    </g>\n",
              "</svg>\n",
              "  </button>\n",
              "\n",
              "<style>\n",
              "  .colab-df-quickchart {\n",
              "      --bg-color: #E8F0FE;\n",
              "      --fill-color: #1967D2;\n",
              "      --hover-bg-color: #E2EBFA;\n",
              "      --hover-fill-color: #174EA6;\n",
              "      --disabled-fill-color: #AAA;\n",
              "      --disabled-bg-color: #DDD;\n",
              "  }\n",
              "\n",
              "  [theme=dark] .colab-df-quickchart {\n",
              "      --bg-color: #3B4455;\n",
              "      --fill-color: #D2E3FC;\n",
              "      --hover-bg-color: #434B5C;\n",
              "      --hover-fill-color: #FFFFFF;\n",
              "      --disabled-bg-color: #3B4455;\n",
              "      --disabled-fill-color: #666;\n",
              "  }\n",
              "\n",
              "  .colab-df-quickchart {\n",
              "    background-color: var(--bg-color);\n",
              "    border: none;\n",
              "    border-radius: 50%;\n",
              "    cursor: pointer;\n",
              "    display: none;\n",
              "    fill: var(--fill-color);\n",
              "    height: 32px;\n",
              "    padding: 0;\n",
              "    width: 32px;\n",
              "  }\n",
              "\n",
              "  .colab-df-quickchart:hover {\n",
              "    background-color: var(--hover-bg-color);\n",
              "    box-shadow: 0 1px 2px rgba(60, 64, 67, 0.3), 0 1px 3px 1px rgba(60, 64, 67, 0.15);\n",
              "    fill: var(--button-hover-fill-color);\n",
              "  }\n",
              "\n",
              "  .colab-df-quickchart-complete:disabled,\n",
              "  .colab-df-quickchart-complete:disabled:hover {\n",
              "    background-color: var(--disabled-bg-color);\n",
              "    fill: var(--disabled-fill-color);\n",
              "    box-shadow: none;\n",
              "  }\n",
              "\n",
              "  .colab-df-spinner {\n",
              "    border: 2px solid var(--fill-color);\n",
              "    border-color: transparent;\n",
              "    border-bottom-color: var(--fill-color);\n",
              "    animation:\n",
              "      spin 1s steps(1) infinite;\n",
              "  }\n",
              "\n",
              "  @keyframes spin {\n",
              "    0% {\n",
              "      border-color: transparent;\n",
              "      border-bottom-color: var(--fill-color);\n",
              "      border-left-color: var(--fill-color);\n",
              "    }\n",
              "    20% {\n",
              "      border-color: transparent;\n",
              "      border-left-color: var(--fill-color);\n",
              "      border-top-color: var(--fill-color);\n",
              "    }\n",
              "    30% {\n",
              "      border-color: transparent;\n",
              "      border-left-color: var(--fill-color);\n",
              "      border-top-color: var(--fill-color);\n",
              "      border-right-color: var(--fill-color);\n",
              "    }\n",
              "    40% {\n",
              "      border-color: transparent;\n",
              "      border-right-color: var(--fill-color);\n",
              "      border-top-color: var(--fill-color);\n",
              "    }\n",
              "    60% {\n",
              "      border-color: transparent;\n",
              "      border-right-color: var(--fill-color);\n",
              "    }\n",
              "    80% {\n",
              "      border-color: transparent;\n",
              "      border-right-color: var(--fill-color);\n",
              "      border-bottom-color: var(--fill-color);\n",
              "    }\n",
              "    90% {\n",
              "      border-color: transparent;\n",
              "      border-bottom-color: var(--fill-color);\n",
              "    }\n",
              "  }\n",
              "</style>\n",
              "\n",
              "  <script>\n",
              "    async function quickchart(key) {\n",
              "      const quickchartButtonEl =\n",
              "        document.querySelector('#' + key + ' button');\n",
              "      quickchartButtonEl.disabled = true;  // To prevent multiple clicks.\n",
              "      quickchartButtonEl.classList.add('colab-df-spinner');\n",
              "      try {\n",
              "        const charts = await google.colab.kernel.invokeFunction(\n",
              "            'suggestCharts', [key], {});\n",
              "      } catch (error) {\n",
              "        console.error('Error during call to suggestCharts:', error);\n",
              "      }\n",
              "      quickchartButtonEl.classList.remove('colab-df-spinner');\n",
              "      quickchartButtonEl.classList.add('colab-df-quickchart-complete');\n",
              "    }\n",
              "    (() => {\n",
              "      let quickchartButtonEl =\n",
              "        document.querySelector('#df-afc55a26-beb1-4d70-9a30-c7549e37c361 button');\n",
              "      quickchartButtonEl.style.display =\n",
              "        google.colab.kernel.accessAllowed ? 'block' : 'none';\n",
              "    })();\n",
              "  </script>\n",
              "</div>\n",
              "    </div>\n",
              "  </div>\n"
            ]
          },
          "metadata": {},
          "execution_count": 11
        }
      ],
      "source": [
        "df_predicted = pickle.load(open(df_predicted_path, 'rb'))\n",
        "df_predicted"
      ]
    },
    {
      "cell_type": "code",
      "execution_count": null,
      "id": "32233535",
      "metadata": {
        "id": "32233535"
      },
      "outputs": [],
      "source": [
        "def get_relevant_sections_with_score(file_id):\n",
        "    result_dict = df_predicted[(df_predicted.file_id == int(file_id)) & (df_predicted.pred == 1)][['toc_section', 'True']].to_dict('list')\n",
        "    return result_dict"
      ]
    },
    {
      "cell_type": "code",
      "source": [
        "import shutil\n",
        "shutil.rmtree(system_summary_dir)"
      ],
      "metadata": {
        "id": "G65MMuxOI6Ht"
      },
      "id": "G65MMuxOI6Ht",
      "execution_count": null,
      "outputs": []
    },
    {
      "cell_type": "code",
      "source": [
        "def summarize(text):\n",
        "  inputs = tokenizer(text, return_tensors='pt', padding=True, truncation=True)\n",
        "  with torch.no_grad():\n",
        "    summary_ids = fine_tuned_model.generate(inputs['input_ids'].to(device),num_beams=2)\n",
        "\n",
        "  # Decode the generated summary\n",
        "  generated_summary = tokenizer.decode(summary_ids[0], skip_special_tokens=True)\n",
        "\n",
        "  return generated_summary"
      ],
      "metadata": {
        "id": "sKbuPSM6viTw"
      },
      "id": "sKbuPSM6viTw",
      "execution_count": null,
      "outputs": []
    },
    {
      "cell_type": "code",
      "execution_count": null,
      "id": "fbdef7b9",
      "metadata": {
        "colab": {
          "base_uri": "https://localhost:8080/"
        },
        "id": "fbdef7b9",
        "outputId": "feda98eb-7742-4d8c-cb08-e38ee7b057ab"
      },
      "outputs": [
        {
          "output_type": "stream",
          "name": "stderr",
          "text": [
            "Processing Files:   0%|\u001b[32m                       \u001b[0m| 1/413 [00:46<5:21:20, 46.80s/it]\u001b[0m"
          ]
        },
        {
          "output_type": "stream",
          "name": "stdout",
          "text": [
            "119\n"
          ]
        },
        {
          "output_type": "stream",
          "name": "stderr",
          "text": [
            "\rProcessing Files:   0%|\u001b[32m                       \u001b[0m| 2/413 [01:31<5:12:34, 45.63s/it]\u001b[0m"
          ]
        },
        {
          "output_type": "stream",
          "name": "stdout",
          "text": [
            "88\n",
            "1000\n"
          ]
        },
        {
          "output_type": "stream",
          "name": "stderr",
          "text": [
            "\rProcessing Files:   1%|\u001b[32m▏                      \u001b[0m| 4/413 [02:16<3:31:39, 31.05s/it]\u001b[0m"
          ]
        },
        {
          "output_type": "stream",
          "name": "stdout",
          "text": [
            "113\n"
          ]
        },
        {
          "output_type": "stream",
          "name": "stderr",
          "text": [
            "\rProcessing Files:   1%|\u001b[32m▎                      \u001b[0m| 5/413 [03:00<3:57:44, 34.96s/it]\u001b[0m"
          ]
        },
        {
          "output_type": "stream",
          "name": "stdout",
          "text": [
            "75\n"
          ]
        },
        {
          "output_type": "stream",
          "name": "stderr",
          "text": [
            "\rProcessing Files:   1%|\u001b[32m▎                      \u001b[0m| 6/413 [03:54<4:37:34, 40.92s/it]\u001b[0m"
          ]
        },
        {
          "output_type": "stream",
          "name": "stdout",
          "text": [
            "104\n"
          ]
        },
        {
          "output_type": "stream",
          "name": "stderr",
          "text": [
            "\rProcessing Files:   2%|\u001b[32m▍                      \u001b[0m| 7/413 [04:42<4:52:12, 43.18s/it]\u001b[0m"
          ]
        },
        {
          "output_type": "stream",
          "name": "stdout",
          "text": [
            "61\n"
          ]
        },
        {
          "output_type": "stream",
          "name": "stderr",
          "text": [
            "\rProcessing Files:   2%|\u001b[32m▍                      \u001b[0m| 8/413 [05:31<5:03:36, 44.98s/it]\u001b[0m"
          ]
        },
        {
          "output_type": "stream",
          "name": "stdout",
          "text": [
            "64\n"
          ]
        },
        {
          "output_type": "stream",
          "name": "stderr",
          "text": [
            "\rProcessing Files:   2%|\u001b[32m▌                      \u001b[0m| 9/413 [06:14<4:57:47, 44.23s/it]\u001b[0m"
          ]
        },
        {
          "output_type": "stream",
          "name": "stdout",
          "text": [
            "102\n"
          ]
        },
        {
          "output_type": "stream",
          "name": "stderr",
          "text": [
            "\rProcessing Files:   2%|\u001b[32m▌                     \u001b[0m| 10/413 [06:57<4:55:20, 43.97s/it]\u001b[0m"
          ]
        },
        {
          "output_type": "stream",
          "name": "stdout",
          "text": [
            "79\n"
          ]
        },
        {
          "output_type": "stream",
          "name": "stderr",
          "text": [
            "\rProcessing Files:   3%|\u001b[32m▌                     \u001b[0m| 11/413 [07:42<4:55:20, 44.08s/it]\u001b[0m"
          ]
        },
        {
          "output_type": "stream",
          "name": "stdout",
          "text": [
            "97\n"
          ]
        },
        {
          "output_type": "stream",
          "name": "stderr",
          "text": [
            "\rProcessing Files:   3%|\u001b[32m▋                     \u001b[0m| 12/413 [08:28<5:00:08, 44.91s/it]\u001b[0m"
          ]
        },
        {
          "output_type": "stream",
          "name": "stdout",
          "text": [
            "85\n"
          ]
        },
        {
          "output_type": "stream",
          "name": "stderr",
          "text": [
            "\rProcessing Files:   3%|\u001b[32m▋                     \u001b[0m| 13/413 [09:12<4:55:44, 44.36s/it]\u001b[0m"
          ]
        },
        {
          "output_type": "stream",
          "name": "stdout",
          "text": [
            "81\n"
          ]
        },
        {
          "output_type": "stream",
          "name": "stderr",
          "text": [
            "\rProcessing Files:   3%|\u001b[32m▋                     \u001b[0m| 14/413 [09:54<4:51:48, 43.88s/it]\u001b[0m"
          ]
        },
        {
          "output_type": "stream",
          "name": "stdout",
          "text": [
            "100\n"
          ]
        },
        {
          "output_type": "stream",
          "name": "stderr",
          "text": [
            "Processing Files:   4%|\u001b[32m▊                     \u001b[0m| 16/413 [10:38<3:22:57, 30.67s/it]\u001b[0m"
          ]
        },
        {
          "output_type": "stream",
          "name": "stdout",
          "text": [
            "79\n",
            "1000\n",
            "791\n"
          ]
        },
        {
          "output_type": "stream",
          "name": "stderr",
          "text": [
            "\rProcessing Files:   4%|\u001b[32m▉                     \u001b[0m| 18/413 [11:23<2:56:30, 26.81s/it]\u001b[0m"
          ]
        },
        {
          "output_type": "stream",
          "name": "stdout",
          "text": [
            "113\n"
          ]
        },
        {
          "output_type": "stream",
          "name": "stderr",
          "text": [
            "\rProcessing Files:   5%|\u001b[32m█                     \u001b[0m| 19/413 [12:06<3:22:26, 30.83s/it]\u001b[0m"
          ]
        },
        {
          "output_type": "stream",
          "name": "stdout",
          "text": [
            "71\n"
          ]
        },
        {
          "output_type": "stream",
          "name": "stderr",
          "text": [
            "\rProcessing Files:   5%|\u001b[32m█                     \u001b[0m| 20/413 [12:49<3:43:38, 34.14s/it]\u001b[0m"
          ]
        },
        {
          "output_type": "stream",
          "name": "stdout",
          "text": [
            "69\n"
          ]
        },
        {
          "output_type": "stream",
          "name": "stderr",
          "text": [
            "\rProcessing Files:   5%|\u001b[32m█                     \u001b[0m| 21/413 [13:38<4:09:04, 38.12s/it]\u001b[0m"
          ]
        },
        {
          "output_type": "stream",
          "name": "stdout",
          "text": [
            "90\n"
          ]
        },
        {
          "output_type": "stream",
          "name": "stderr",
          "text": [
            "\rProcessing Files:   5%|\u001b[32m█▏                    \u001b[0m| 22/413 [14:23<4:20:31, 39.98s/it]\u001b[0m"
          ]
        },
        {
          "output_type": "stream",
          "name": "stdout",
          "text": [
            "84\n",
            "1000\n"
          ]
        },
        {
          "output_type": "stream",
          "name": "stderr",
          "text": [
            "\rProcessing Files:   6%|\u001b[32m█▎                    \u001b[0m| 24/413 [15:05<3:25:19, 31.67s/it]\u001b[0m"
          ]
        },
        {
          "output_type": "stream",
          "name": "stdout",
          "text": [
            "89\n"
          ]
        },
        {
          "output_type": "stream",
          "name": "stderr",
          "text": [
            "\rProcessing Files:   6%|\u001b[32m█▎                    \u001b[0m| 25/413 [15:48<3:42:44, 34.44s/it]\u001b[0m"
          ]
        },
        {
          "output_type": "stream",
          "name": "stdout",
          "text": [
            "111\n"
          ]
        },
        {
          "output_type": "stream",
          "name": "stderr",
          "text": [
            "\rProcessing Files:   6%|\u001b[32m█▍                    \u001b[0m| 26/413 [16:33<3:58:26, 36.97s/it]\u001b[0m"
          ]
        },
        {
          "output_type": "stream",
          "name": "stdout",
          "text": [
            "116\n"
          ]
        },
        {
          "output_type": "stream",
          "name": "stderr",
          "text": [
            "\rProcessing Files:   7%|\u001b[32m█▍                    \u001b[0m| 27/413 [17:17<4:10:40, 38.96s/it]\u001b[0m"
          ]
        },
        {
          "output_type": "stream",
          "name": "stdout",
          "text": [
            "77\n"
          ]
        },
        {
          "output_type": "stream",
          "name": "stderr",
          "text": [
            "\rProcessing Files:   7%|\u001b[32m█▍                    \u001b[0m| 28/413 [18:02<4:21:02, 40.68s/it]\u001b[0m"
          ]
        },
        {
          "output_type": "stream",
          "name": "stdout",
          "text": [
            "84\n"
          ]
        },
        {
          "output_type": "stream",
          "name": "stderr",
          "text": [
            "\rProcessing Files:   7%|\u001b[32m█▌                    \u001b[0m| 29/413 [18:46<4:25:36, 41.50s/it]\u001b[0m"
          ]
        },
        {
          "output_type": "stream",
          "name": "stdout",
          "text": [
            "71\n"
          ]
        },
        {
          "output_type": "stream",
          "name": "stderr",
          "text": [
            "\rProcessing Files:   7%|\u001b[32m█▌                    \u001b[0m| 30/413 [19:31<4:30:54, 42.44s/it]\u001b[0m"
          ]
        },
        {
          "output_type": "stream",
          "name": "stdout",
          "text": [
            "92\n"
          ]
        },
        {
          "output_type": "stream",
          "name": "stderr",
          "text": [
            "\rProcessing Files:   8%|\u001b[32m█▋                    \u001b[0m| 31/413 [20:14<4:32:52, 42.86s/it]\u001b[0m"
          ]
        },
        {
          "output_type": "stream",
          "name": "stdout",
          "text": [
            "60\n"
          ]
        },
        {
          "output_type": "stream",
          "name": "stderr",
          "text": [
            "\rProcessing Files:   8%|\u001b[32m█▋                    \u001b[0m| 32/413 [20:57<4:32:02, 42.84s/it]\u001b[0m"
          ]
        },
        {
          "output_type": "stream",
          "name": "stdout",
          "text": [
            "74\n"
          ]
        },
        {
          "output_type": "stream",
          "name": "stderr",
          "text": [
            "\rProcessing Files:   8%|\u001b[32m█▊                    \u001b[0m| 33/413 [21:41<4:33:13, 43.14s/it]\u001b[0m"
          ]
        },
        {
          "output_type": "stream",
          "name": "stdout",
          "text": [
            "94\n"
          ]
        },
        {
          "output_type": "stream",
          "name": "stderr",
          "text": [
            "\rProcessing Files:   8%|\u001b[32m█▊                    \u001b[0m| 34/413 [22:26<4:36:05, 43.71s/it]\u001b[0m"
          ]
        },
        {
          "output_type": "stream",
          "name": "stdout",
          "text": [
            "77\n"
          ]
        },
        {
          "output_type": "stream",
          "name": "stderr",
          "text": [
            "\rProcessing Files:   8%|\u001b[32m█▊                    \u001b[0m| 35/413 [23:14<4:42:33, 44.85s/it]\u001b[0m"
          ]
        },
        {
          "output_type": "stream",
          "name": "stdout",
          "text": [
            "112\n"
          ]
        },
        {
          "output_type": "stream",
          "name": "stderr",
          "text": [
            "\rProcessing Files:   9%|\u001b[32m█▉                    \u001b[0m| 36/413 [23:57<4:39:06, 44.42s/it]\u001b[0m"
          ]
        },
        {
          "output_type": "stream",
          "name": "stdout",
          "text": [
            "102\n"
          ]
        },
        {
          "output_type": "stream",
          "name": "stderr",
          "text": [
            "\rProcessing Files:   9%|\u001b[32m█▉                    \u001b[0m| 37/413 [24:42<4:38:34, 44.45s/it]\u001b[0m"
          ]
        },
        {
          "output_type": "stream",
          "name": "stdout",
          "text": [
            "83\n"
          ]
        },
        {
          "output_type": "stream",
          "name": "stderr",
          "text": [
            "\rProcessing Files:   9%|\u001b[32m██                    \u001b[0m| 38/413 [25:32<4:49:39, 46.34s/it]\u001b[0m"
          ]
        },
        {
          "output_type": "stream",
          "name": "stdout",
          "text": [
            "91\n"
          ]
        },
        {
          "output_type": "stream",
          "name": "stderr",
          "text": [
            "\rProcessing Files:   9%|\u001b[32m██                    \u001b[0m| 39/413 [26:16<4:43:11, 45.43s/it]\u001b[0m"
          ]
        },
        {
          "output_type": "stream",
          "name": "stdout",
          "text": [
            "66\n"
          ]
        },
        {
          "output_type": "stream",
          "name": "stderr",
          "text": [
            "\rProcessing Files:  10%|\u001b[32m██▏                   \u001b[0m| 40/413 [27:00<4:40:38, 45.14s/it]\u001b[0m"
          ]
        },
        {
          "output_type": "stream",
          "name": "stdout",
          "text": [
            "64\n"
          ]
        },
        {
          "output_type": "stream",
          "name": "stderr",
          "text": [
            "\rProcessing Files:  10%|\u001b[32m██▏                   \u001b[0m| 41/413 [27:48<4:45:15, 46.01s/it]\u001b[0m"
          ]
        },
        {
          "output_type": "stream",
          "name": "stdout",
          "text": [
            "117\n",
            "683\n",
            "795\n",
            "1000\n"
          ]
        },
        {
          "output_type": "stream",
          "name": "stderr",
          "text": [
            "\rProcessing Files:  11%|\u001b[32m██▍                   \u001b[0m| 45/413 [28:31<2:25:37, 23.74s/it]\u001b[0m"
          ]
        },
        {
          "output_type": "stream",
          "name": "stdout",
          "text": [
            "92\n"
          ]
        },
        {
          "output_type": "stream",
          "name": "stderr",
          "text": [
            "\rProcessing Files:  11%|\u001b[32m██▍                   \u001b[0m| 46/413 [29:15<2:47:51, 27.44s/it]\u001b[0m"
          ]
        },
        {
          "output_type": "stream",
          "name": "stdout",
          "text": [
            "78\n"
          ]
        },
        {
          "output_type": "stream",
          "name": "stderr",
          "text": [
            "\rProcessing Files:  11%|\u001b[32m██▌                   \u001b[0m| 47/413 [30:00<3:09:55, 31.14s/it]\u001b[0m"
          ]
        },
        {
          "output_type": "stream",
          "name": "stdout",
          "text": [
            "95\n"
          ]
        },
        {
          "output_type": "stream",
          "name": "stderr",
          "text": [
            "\rProcessing Files:  12%|\u001b[32m██▌                   \u001b[0m| 48/413 [30:44<3:27:05, 34.04s/it]\u001b[0m"
          ]
        },
        {
          "output_type": "stream",
          "name": "stdout",
          "text": [
            "121\n"
          ]
        },
        {
          "output_type": "stream",
          "name": "stderr",
          "text": [
            "\rProcessing Files:  12%|\u001b[32m██▌                   \u001b[0m| 49/413 [31:27<3:40:06, 36.28s/it]\u001b[0m"
          ]
        },
        {
          "output_type": "stream",
          "name": "stdout",
          "text": [
            "117\n"
          ]
        },
        {
          "output_type": "stream",
          "name": "stderr",
          "text": [
            "\rProcessing Files:  12%|\u001b[32m██▋                   \u001b[0m| 50/413 [32:11<3:51:42, 38.30s/it]\u001b[0m"
          ]
        },
        {
          "output_type": "stream",
          "name": "stdout",
          "text": [
            "90\n"
          ]
        },
        {
          "output_type": "stream",
          "name": "stderr",
          "text": [
            "\rProcessing Files:  12%|\u001b[32m██▋                   \u001b[0m| 51/413 [33:00<4:08:41, 41.22s/it]\u001b[0m"
          ]
        },
        {
          "output_type": "stream",
          "name": "stdout",
          "text": [
            "102\n"
          ]
        },
        {
          "output_type": "stream",
          "name": "stderr",
          "text": [
            "\rProcessing Files:  13%|\u001b[32m██▊                   \u001b[0m| 52/413 [33:43<4:11:03, 41.73s/it]\u001b[0m"
          ]
        },
        {
          "output_type": "stream",
          "name": "stdout",
          "text": [
            "90\n"
          ]
        },
        {
          "output_type": "stream",
          "name": "stderr",
          "text": [
            "\rProcessing Files:  13%|\u001b[32m██▊                   \u001b[0m| 53/413 [34:27<4:13:57, 42.33s/it]\u001b[0m"
          ]
        },
        {
          "output_type": "stream",
          "name": "stdout",
          "text": [
            "72\n"
          ]
        },
        {
          "output_type": "stream",
          "name": "stderr",
          "text": [
            "\rProcessing Files:  13%|\u001b[32m██▉                   \u001b[0m| 54/413 [35:14<4:21:19, 43.68s/it]\u001b[0m"
          ]
        },
        {
          "output_type": "stream",
          "name": "stdout",
          "text": [
            "86\n"
          ]
        },
        {
          "output_type": "stream",
          "name": "stderr",
          "text": [
            "\rProcessing Files:  13%|\u001b[32m██▉                   \u001b[0m| 55/413 [35:57<4:19:44, 43.53s/it]\u001b[0m"
          ]
        },
        {
          "output_type": "stream",
          "name": "stdout",
          "text": [
            "108\n",
            "1000\n"
          ]
        },
        {
          "output_type": "stream",
          "name": "stderr",
          "text": [
            "\rProcessing Files:  14%|\u001b[32m███                   \u001b[0m| 57/413 [36:41<3:19:14, 33.58s/it]\u001b[0m"
          ]
        },
        {
          "output_type": "stream",
          "name": "stdout",
          "text": [
            "58\n"
          ]
        },
        {
          "output_type": "stream",
          "name": "stderr",
          "text": [
            "\rProcessing Files:  14%|\u001b[32m███                   \u001b[0m| 58/413 [37:28<3:38:18, 36.90s/it]\u001b[0m"
          ]
        },
        {
          "output_type": "stream",
          "name": "stdout",
          "text": [
            "108\n"
          ]
        },
        {
          "output_type": "stream",
          "name": "stderr",
          "text": [
            "\rProcessing Files:  14%|\u001b[32m███▏                  \u001b[0m| 59/413 [38:12<3:49:30, 38.90s/it]\u001b[0m"
          ]
        },
        {
          "output_type": "stream",
          "name": "stdout",
          "text": [
            "81\n"
          ]
        },
        {
          "output_type": "stream",
          "name": "stderr",
          "text": [
            "\rProcessing Files:  15%|\u001b[32m███▏                  \u001b[0m| 60/413 [38:55<3:54:35, 39.87s/it]\u001b[0m"
          ]
        },
        {
          "output_type": "stream",
          "name": "stdout",
          "text": [
            "106\n"
          ]
        },
        {
          "output_type": "stream",
          "name": "stderr",
          "text": [
            "\rProcessing Files:  15%|\u001b[32m███▏                  \u001b[0m| 61/413 [39:38<3:59:58, 40.90s/it]\u001b[0m"
          ]
        },
        {
          "output_type": "stream",
          "name": "stdout",
          "text": [
            "89\n"
          ]
        },
        {
          "output_type": "stream",
          "name": "stderr",
          "text": [
            "\rProcessing Files:  15%|\u001b[32m███▎                  \u001b[0m| 62/413 [40:23<4:05:08, 41.90s/it]\u001b[0m"
          ]
        },
        {
          "output_type": "stream",
          "name": "stdout",
          "text": [
            "58\n"
          ]
        },
        {
          "output_type": "stream",
          "name": "stderr",
          "text": [
            "\rProcessing Files:  15%|\u001b[32m███▎                  \u001b[0m| 63/413 [41:07<4:08:54, 42.67s/it]\u001b[0m"
          ]
        },
        {
          "output_type": "stream",
          "name": "stdout",
          "text": [
            "111\n",
            "803\n"
          ]
        },
        {
          "output_type": "stream",
          "name": "stderr",
          "text": [
            "\rProcessing Files:  16%|\u001b[32m███▍                  \u001b[0m| 65/413 [41:50<3:11:45, 33.06s/it]\u001b[0m"
          ]
        },
        {
          "output_type": "stream",
          "name": "stdout",
          "text": [
            "110\n"
          ]
        },
        {
          "output_type": "stream",
          "name": "stderr",
          "text": [
            "\rProcessing Files:  16%|\u001b[32m███▌                  \u001b[0m| 66/413 [42:37<3:29:54, 36.29s/it]\u001b[0m"
          ]
        },
        {
          "output_type": "stream",
          "name": "stdout",
          "text": [
            "88\n"
          ]
        },
        {
          "output_type": "stream",
          "name": "stderr",
          "text": [
            "\rProcessing Files:  16%|\u001b[32m███▌                  \u001b[0m| 67/413 [43:22<3:42:59, 38.67s/it]\u001b[0m"
          ]
        },
        {
          "output_type": "stream",
          "name": "stdout",
          "text": [
            "115\n"
          ]
        },
        {
          "output_type": "stream",
          "name": "stderr",
          "text": [
            "\rProcessing Files:  16%|\u001b[32m███▌                  \u001b[0m| 68/413 [44:06<3:50:37, 40.11s/it]\u001b[0m"
          ]
        },
        {
          "output_type": "stream",
          "name": "stdout",
          "text": [
            "99\n"
          ]
        },
        {
          "output_type": "stream",
          "name": "stderr",
          "text": [
            "\rProcessing Files:  17%|\u001b[32m███▋                  \u001b[0m| 69/413 [44:50<3:55:35, 41.09s/it]\u001b[0m"
          ]
        },
        {
          "output_type": "stream",
          "name": "stdout",
          "text": [
            "74\n",
            "627\n"
          ]
        },
        {
          "output_type": "stream",
          "name": "stderr",
          "text": [
            "\rProcessing Files:  17%|\u001b[32m███▊                  \u001b[0m| 71/413 [45:34<3:06:47, 32.77s/it]\u001b[0m"
          ]
        },
        {
          "output_type": "stream",
          "name": "stdout",
          "text": [
            "70\n"
          ]
        },
        {
          "output_type": "stream",
          "name": "stderr",
          "text": [
            "\rProcessing Files:  17%|\u001b[32m███▊                  \u001b[0m| 72/413 [46:20<3:23:20, 35.78s/it]\u001b[0m"
          ]
        },
        {
          "output_type": "stream",
          "name": "stdout",
          "text": [
            "70\n"
          ]
        },
        {
          "output_type": "stream",
          "name": "stderr",
          "text": [
            "\rProcessing Files:  18%|\u001b[32m███▉                  \u001b[0m| 73/413 [47:05<3:36:42, 38.24s/it]\u001b[0m"
          ]
        },
        {
          "output_type": "stream",
          "name": "stdout",
          "text": [
            "91\n"
          ]
        },
        {
          "output_type": "stream",
          "name": "stderr",
          "text": [
            "\rProcessing Files:  18%|\u001b[32m███▉                  \u001b[0m| 74/413 [47:49<3:44:55, 39.81s/it]\u001b[0m"
          ]
        },
        {
          "output_type": "stream",
          "name": "stdout",
          "text": [
            "84\n"
          ]
        },
        {
          "output_type": "stream",
          "name": "stderr",
          "text": [
            "\rProcessing Files:  18%|\u001b[32m███▉                  \u001b[0m| 75/413 [48:34<3:51:46, 41.14s/it]\u001b[0m"
          ]
        },
        {
          "output_type": "stream",
          "name": "stdout",
          "text": [
            "83\n"
          ]
        },
        {
          "output_type": "stream",
          "name": "stderr",
          "text": [
            "\rProcessing Files:  18%|\u001b[32m████                  \u001b[0m| 76/413 [49:19<3:57:07, 42.22s/it]\u001b[0m"
          ]
        },
        {
          "output_type": "stream",
          "name": "stdout",
          "text": [
            "94\n"
          ]
        },
        {
          "output_type": "stream",
          "name": "stderr",
          "text": [
            "\rProcessing Files:  19%|\u001b[32m████                  \u001b[0m| 77/413 [50:02<3:58:13, 42.54s/it]\u001b[0m"
          ]
        },
        {
          "output_type": "stream",
          "name": "stdout",
          "text": [
            "78\n"
          ]
        },
        {
          "output_type": "stream",
          "name": "stderr",
          "text": [
            "\rProcessing Files:  19%|\u001b[32m████▏                 \u001b[0m| 78/413 [50:46<4:00:13, 43.03s/it]\u001b[0m"
          ]
        },
        {
          "output_type": "stream",
          "name": "stdout",
          "text": [
            "103\n"
          ]
        },
        {
          "output_type": "stream",
          "name": "stderr",
          "text": [
            "\rProcessing Files:  19%|\u001b[32m████▏                 \u001b[0m| 79/413 [51:32<4:03:19, 43.71s/it]\u001b[0m"
          ]
        },
        {
          "output_type": "stream",
          "name": "stdout",
          "text": [
            "101\n"
          ]
        },
        {
          "output_type": "stream",
          "name": "stderr",
          "text": [
            "\rProcessing Files:  19%|\u001b[32m████▎                 \u001b[0m| 80/413 [52:19<4:08:16, 44.73s/it]\u001b[0m"
          ]
        },
        {
          "output_type": "stream",
          "name": "stdout",
          "text": [
            "101\n"
          ]
        },
        {
          "output_type": "stream",
          "name": "stderr",
          "text": [
            "\rProcessing Files:  20%|\u001b[32m████▎                 \u001b[0m| 81/413 [53:02<4:04:29, 44.18s/it]\u001b[0m"
          ]
        },
        {
          "output_type": "stream",
          "name": "stdout",
          "text": [
            "113\n",
            "1000\n"
          ]
        },
        {
          "output_type": "stream",
          "name": "stderr",
          "text": [
            "\rProcessing Files:  20%|\u001b[32m████▍                 \u001b[0m| 83/413 [53:46<3:06:53, 33.98s/it]\u001b[0m"
          ]
        },
        {
          "output_type": "stream",
          "name": "stdout",
          "text": [
            "119\n",
            "1000\n"
          ]
        },
        {
          "output_type": "stream",
          "name": "stderr",
          "text": [
            "\rProcessing Files:  21%|\u001b[32m████▌                 \u001b[0m| 85/413 [54:31<2:41:10, 29.48s/it]\u001b[0m"
          ]
        },
        {
          "output_type": "stream",
          "name": "stdout",
          "text": [
            "128\n"
          ]
        },
        {
          "output_type": "stream",
          "name": "stderr",
          "text": [
            "\rProcessing Files:  21%|\u001b[32m████▌                 \u001b[0m| 86/413 [55:15<2:58:07, 32.68s/it]\u001b[0m"
          ]
        },
        {
          "output_type": "stream",
          "name": "stdout",
          "text": [
            "95\n"
          ]
        },
        {
          "output_type": "stream",
          "name": "stderr",
          "text": [
            "\rProcessing Files:  21%|\u001b[32m████▋                 \u001b[0m| 87/413 [55:58<3:11:06, 35.17s/it]\u001b[0m"
          ]
        },
        {
          "output_type": "stream",
          "name": "stdout",
          "text": [
            "107\n"
          ]
        },
        {
          "output_type": "stream",
          "name": "stderr",
          "text": [
            "\rProcessing Files:  21%|\u001b[32m████▋                 \u001b[0m| 88/413 [56:44<3:26:20, 38.09s/it]\u001b[0m"
          ]
        },
        {
          "output_type": "stream",
          "name": "stdout",
          "text": [
            "109\n"
          ]
        },
        {
          "output_type": "stream",
          "name": "stderr",
          "text": [
            "\rProcessing Files:  22%|\u001b[32m████▋                 \u001b[0m| 89/413 [57:30<3:36:21, 40.07s/it]\u001b[0m"
          ]
        },
        {
          "output_type": "stream",
          "name": "stdout",
          "text": [
            "86\n"
          ]
        },
        {
          "output_type": "stream",
          "name": "stderr",
          "text": [
            "\rProcessing Files:  22%|\u001b[32m████▊                 \u001b[0m| 90/413 [58:13<3:40:46, 41.01s/it]\u001b[0m"
          ]
        },
        {
          "output_type": "stream",
          "name": "stdout",
          "text": [
            "118\n"
          ]
        },
        {
          "output_type": "stream",
          "name": "stderr",
          "text": [
            "\rProcessing Files:  22%|\u001b[32m████▊                 \u001b[0m| 91/413 [58:57<3:43:26, 41.64s/it]\u001b[0m"
          ]
        },
        {
          "output_type": "stream",
          "name": "stdout",
          "text": [
            "76\n"
          ]
        },
        {
          "output_type": "stream",
          "name": "stderr",
          "text": [
            "\rProcessing Files:  22%|\u001b[32m████▉                 \u001b[0m| 92/413 [59:41<3:47:08, 42.46s/it]\u001b[0m"
          ]
        },
        {
          "output_type": "stream",
          "name": "stdout",
          "text": [
            "66\n"
          ]
        },
        {
          "output_type": "stream",
          "name": "stderr",
          "text": [
            "\rProcessing Files:  23%|\u001b[32m████▌               \u001b[0m| 93/413 [1:00:27<3:51:05, 43.33s/it]\u001b[0m"
          ]
        },
        {
          "output_type": "stream",
          "name": "stdout",
          "text": [
            "102\n"
          ]
        },
        {
          "output_type": "stream",
          "name": "stderr",
          "text": [
            "\rProcessing Files:  23%|\u001b[32m████▌               \u001b[0m| 94/413 [1:01:10<3:50:48, 43.41s/it]\u001b[0m"
          ]
        },
        {
          "output_type": "stream",
          "name": "stdout",
          "text": [
            "89\n"
          ]
        },
        {
          "output_type": "stream",
          "name": "stderr",
          "text": [
            "\rProcessing Files:  23%|\u001b[32m████▌               \u001b[0m| 95/413 [1:01:57<3:55:40, 44.47s/it]\u001b[0m"
          ]
        },
        {
          "output_type": "stream",
          "name": "stdout",
          "text": [
            "81\n"
          ]
        },
        {
          "output_type": "stream",
          "name": "stderr",
          "text": [
            "\rProcessing Files:  23%|\u001b[32m████▋               \u001b[0m| 96/413 [1:02:41<3:54:32, 44.39s/it]\u001b[0m"
          ]
        },
        {
          "output_type": "stream",
          "name": "stdout",
          "text": [
            "80\n",
            "18\n"
          ]
        },
        {
          "output_type": "stream",
          "name": "stderr",
          "text": [
            "\rProcessing Files:  24%|\u001b[32m████▋               \u001b[0m| 98/413 [1:03:27<3:01:06, 34.50s/it]\u001b[0m"
          ]
        },
        {
          "output_type": "stream",
          "name": "stdout",
          "text": [
            "105\n"
          ]
        },
        {
          "output_type": "stream",
          "name": "stderr",
          "text": [
            "\rProcessing Files:  24%|\u001b[32m████▊               \u001b[0m| 99/413 [1:04:11<3:13:15, 36.93s/it]\u001b[0m"
          ]
        },
        {
          "output_type": "stream",
          "name": "stdout",
          "text": [
            "100\n"
          ]
        },
        {
          "output_type": "stream",
          "name": "stderr",
          "text": [
            "\rProcessing Files:  24%|\u001b[32m████▌              \u001b[0m| 100/413 [1:04:55<3:21:41, 38.66s/it]\u001b[0m"
          ]
        },
        {
          "output_type": "stream",
          "name": "stdout",
          "text": [
            "80\n"
          ]
        },
        {
          "output_type": "stream",
          "name": "stderr",
          "text": [
            "\rProcessing Files:  24%|\u001b[32m████▋              \u001b[0m| 101/413 [1:05:40<3:29:43, 40.33s/it]\u001b[0m"
          ]
        },
        {
          "output_type": "stream",
          "name": "stdout",
          "text": [
            "78\n"
          ]
        },
        {
          "output_type": "stream",
          "name": "stderr",
          "text": [
            "\rProcessing Files:  25%|\u001b[32m████▋              \u001b[0m| 102/413 [1:06:27<3:38:25, 42.14s/it]\u001b[0m"
          ]
        },
        {
          "output_type": "stream",
          "name": "stdout",
          "text": [
            "78\n"
          ]
        },
        {
          "output_type": "stream",
          "name": "stderr",
          "text": [
            "\rProcessing Files:  25%|\u001b[32m████▋              \u001b[0m| 103/413 [1:07:12<3:42:15, 43.02s/it]\u001b[0m"
          ]
        },
        {
          "output_type": "stream",
          "name": "stdout",
          "text": [
            "105\n"
          ]
        },
        {
          "output_type": "stream",
          "name": "stderr",
          "text": [
            "\rProcessing Files:  25%|\u001b[32m████▊              \u001b[0m| 104/413 [1:07:55<3:41:54, 43.09s/it]\u001b[0m"
          ]
        },
        {
          "output_type": "stream",
          "name": "stdout",
          "text": [
            "109\n"
          ]
        },
        {
          "output_type": "stream",
          "name": "stderr",
          "text": [
            "\rProcessing Files:  25%|\u001b[32m████▊              \u001b[0m| 105/413 [1:08:39<3:42:45, 43.39s/it]\u001b[0m"
          ]
        },
        {
          "output_type": "stream",
          "name": "stdout",
          "text": [
            "91\n"
          ]
        },
        {
          "output_type": "stream",
          "name": "stderr",
          "text": [
            "\rProcessing Files:  26%|\u001b[32m████▉              \u001b[0m| 106/413 [1:09:25<3:46:14, 44.22s/it]\u001b[0m"
          ]
        },
        {
          "output_type": "stream",
          "name": "stdout",
          "text": [
            "58\n"
          ]
        },
        {
          "output_type": "stream",
          "name": "stderr",
          "text": [
            "\rProcessing Files:  26%|\u001b[32m████▉              \u001b[0m| 107/413 [1:10:09<3:44:17, 43.98s/it]\u001b[0m"
          ]
        },
        {
          "output_type": "stream",
          "name": "stdout",
          "text": [
            "73\n"
          ]
        },
        {
          "output_type": "stream",
          "name": "stderr",
          "text": [
            "\rProcessing Files:  26%|\u001b[32m████▉              \u001b[0m| 108/413 [1:10:55<3:46:34, 44.57s/it]\u001b[0m"
          ]
        },
        {
          "output_type": "stream",
          "name": "stdout",
          "text": [
            "104\n"
          ]
        },
        {
          "output_type": "stream",
          "name": "stderr",
          "text": [
            "\rProcessing Files:  26%|\u001b[32m█████              \u001b[0m| 109/413 [1:11:40<3:46:44, 44.75s/it]\u001b[0m"
          ]
        },
        {
          "output_type": "stream",
          "name": "stdout",
          "text": [
            "71\n"
          ]
        },
        {
          "output_type": "stream",
          "name": "stderr",
          "text": [
            "\rProcessing Files:  27%|\u001b[32m█████              \u001b[0m| 110/413 [1:12:24<3:45:26, 44.64s/it]\u001b[0m"
          ]
        },
        {
          "output_type": "stream",
          "name": "stdout",
          "text": [
            "110\n"
          ]
        },
        {
          "output_type": "stream",
          "name": "stderr",
          "text": [
            "\rProcessing Files:  27%|\u001b[32m█████              \u001b[0m| 111/413 [1:13:08<3:42:59, 44.30s/it]\u001b[0m"
          ]
        },
        {
          "output_type": "stream",
          "name": "stdout",
          "text": [
            "88\n",
            "1000\n"
          ]
        },
        {
          "output_type": "stream",
          "name": "stderr",
          "text": [
            "\rProcessing Files:  27%|\u001b[32m█████▏             \u001b[0m| 113/413 [1:13:53<2:51:01, 34.20s/it]\u001b[0m"
          ]
        },
        {
          "output_type": "stream",
          "name": "stdout",
          "text": [
            "86\n"
          ]
        },
        {
          "output_type": "stream",
          "name": "stderr",
          "text": [
            "\rProcessing Files:  28%|\u001b[32m█████▏             \u001b[0m| 114/413 [1:14:38<3:04:13, 36.97s/it]\u001b[0m"
          ]
        },
        {
          "output_type": "stream",
          "name": "stdout",
          "text": [
            "129\n"
          ]
        },
        {
          "output_type": "stream",
          "name": "stderr",
          "text": [
            "\rProcessing Files:  28%|\u001b[32m█████▎             \u001b[0m| 115/413 [1:15:21<3:11:58, 38.65s/it]\u001b[0m"
          ]
        },
        {
          "output_type": "stream",
          "name": "stdout",
          "text": [
            "100\n"
          ]
        },
        {
          "output_type": "stream",
          "name": "stderr",
          "text": [
            "\rProcessing Files:  28%|\u001b[32m█████▎             \u001b[0m| 116/413 [1:16:08<3:22:31, 40.91s/it]\u001b[0m"
          ]
        },
        {
          "output_type": "stream",
          "name": "stdout",
          "text": [
            "84\n"
          ]
        },
        {
          "output_type": "stream",
          "name": "stderr",
          "text": [
            "\rProcessing Files:  28%|\u001b[32m█████▍             \u001b[0m| 117/413 [1:16:52<3:26:00, 41.76s/it]\u001b[0m"
          ]
        },
        {
          "output_type": "stream",
          "name": "stdout",
          "text": [
            "85\n"
          ]
        },
        {
          "output_type": "stream",
          "name": "stderr",
          "text": [
            "\rProcessing Files:  29%|\u001b[32m█████▍             \u001b[0m| 118/413 [1:17:38<3:30:23, 42.79s/it]\u001b[0m"
          ]
        },
        {
          "output_type": "stream",
          "name": "stdout",
          "text": [
            "67\n"
          ]
        },
        {
          "output_type": "stream",
          "name": "stderr",
          "text": [
            "\rProcessing Files:  29%|\u001b[32m█████▍             \u001b[0m| 119/413 [1:18:22<3:31:44, 43.21s/it]\u001b[0m"
          ]
        },
        {
          "output_type": "stream",
          "name": "stdout",
          "text": [
            "71\n"
          ]
        },
        {
          "output_type": "stream",
          "name": "stderr",
          "text": [
            "\rProcessing Files:  29%|\u001b[32m█████▌             \u001b[0m| 120/413 [1:19:06<3:31:42, 43.35s/it]\u001b[0m"
          ]
        },
        {
          "output_type": "stream",
          "name": "stdout",
          "text": [
            "113\n"
          ]
        },
        {
          "output_type": "stream",
          "name": "stderr",
          "text": [
            "\rProcessing Files:  29%|\u001b[32m█████▌             \u001b[0m| 121/413 [1:19:50<3:32:15, 43.62s/it]\u001b[0m"
          ]
        },
        {
          "output_type": "stream",
          "name": "stdout",
          "text": [
            "80\n"
          ]
        },
        {
          "output_type": "stream",
          "name": "stderr",
          "text": [
            "\rProcessing Files:  30%|\u001b[32m█████▌             \u001b[0m| 122/413 [1:20:37<3:35:52, 44.51s/it]\u001b[0m"
          ]
        },
        {
          "output_type": "stream",
          "name": "stdout",
          "text": [
            "111\n"
          ]
        },
        {
          "output_type": "stream",
          "name": "stderr",
          "text": [
            "\rProcessing Files:  30%|\u001b[32m█████▋             \u001b[0m| 123/413 [1:21:20<3:34:00, 44.28s/it]\u001b[0m"
          ]
        },
        {
          "output_type": "stream",
          "name": "stdout",
          "text": [
            "119\n"
          ]
        },
        {
          "output_type": "stream",
          "name": "stderr",
          "text": [
            "\rProcessing Files:  30%|\u001b[32m█████▋             \u001b[0m| 124/413 [1:22:03<3:30:29, 43.70s/it]\u001b[0m"
          ]
        },
        {
          "output_type": "stream",
          "name": "stdout",
          "text": [
            "85\n"
          ]
        },
        {
          "output_type": "stream",
          "name": "stderr",
          "text": [
            "\rProcessing Files:  30%|\u001b[32m█████▊             \u001b[0m| 125/413 [1:22:46<3:29:28, 43.64s/it]\u001b[0m"
          ]
        },
        {
          "output_type": "stream",
          "name": "stdout",
          "text": [
            "66\n"
          ]
        },
        {
          "output_type": "stream",
          "name": "stderr",
          "text": [
            "\rProcessing Files:  31%|\u001b[32m█████▊             \u001b[0m| 126/413 [1:23:30<3:29:30, 43.80s/it]\u001b[0m"
          ]
        },
        {
          "output_type": "stream",
          "name": "stdout",
          "text": [
            "90\n"
          ]
        },
        {
          "output_type": "stream",
          "name": "stderr",
          "text": [
            "\rProcessing Files:  31%|\u001b[32m█████▊             \u001b[0m| 127/413 [1:24:14<3:28:59, 43.84s/it]\u001b[0m"
          ]
        },
        {
          "output_type": "stream",
          "name": "stdout",
          "text": [
            "83\n"
          ]
        },
        {
          "output_type": "stream",
          "name": "stderr",
          "text": [
            "\rProcessing Files:  31%|\u001b[32m█████▉             \u001b[0m| 128/413 [1:24:57<3:26:57, 43.57s/it]\u001b[0m"
          ]
        },
        {
          "output_type": "stream",
          "name": "stdout",
          "text": [
            "99\n"
          ]
        },
        {
          "output_type": "stream",
          "name": "stderr",
          "text": [
            "\rProcessing Files:  31%|\u001b[32m█████▉             \u001b[0m| 129/413 [1:25:43<3:29:21, 44.23s/it]\u001b[0m"
          ]
        },
        {
          "output_type": "stream",
          "name": "stdout",
          "text": [
            "80\n"
          ]
        },
        {
          "output_type": "stream",
          "name": "stderr",
          "text": [
            "\rProcessing Files:  31%|\u001b[32m█████▉             \u001b[0m| 130/413 [1:26:28<3:29:31, 44.42s/it]\u001b[0m"
          ]
        },
        {
          "output_type": "stream",
          "name": "stdout",
          "text": [
            "102\n"
          ]
        },
        {
          "output_type": "stream",
          "name": "stderr",
          "text": [
            "\rProcessing Files:  32%|\u001b[32m██████             \u001b[0m| 131/413 [1:27:11<3:27:09, 44.08s/it]\u001b[0m"
          ]
        },
        {
          "output_type": "stream",
          "name": "stdout",
          "text": [
            "88\n"
          ]
        },
        {
          "output_type": "stream",
          "name": "stderr",
          "text": [
            "\rProcessing Files:  32%|\u001b[32m██████             \u001b[0m| 132/413 [1:27:53<3:24:02, 43.57s/it]\u001b[0m"
          ]
        },
        {
          "output_type": "stream",
          "name": "stdout",
          "text": [
            "115\n",
            "1000\n"
          ]
        },
        {
          "output_type": "stream",
          "name": "stderr",
          "text": [
            "\rProcessing Files:  32%|\u001b[32m██████▏            \u001b[0m| 134/413 [1:28:37<2:35:40, 33.48s/it]\u001b[0m"
          ]
        },
        {
          "output_type": "stream",
          "name": "stdout",
          "text": [
            "69\n"
          ]
        },
        {
          "output_type": "stream",
          "name": "stderr",
          "text": [
            "\rProcessing Files:  33%|\u001b[32m██████▏            \u001b[0m| 135/413 [1:29:21<2:47:14, 36.09s/it]\u001b[0m"
          ]
        },
        {
          "output_type": "stream",
          "name": "stdout",
          "text": [
            "71\n"
          ]
        },
        {
          "output_type": "stream",
          "name": "stderr",
          "text": [
            "\rProcessing Files:  33%|\u001b[32m██████▎            \u001b[0m| 136/413 [1:30:07<2:58:25, 38.65s/it]\u001b[0m"
          ]
        },
        {
          "output_type": "stream",
          "name": "stdout",
          "text": [
            "126\n"
          ]
        },
        {
          "output_type": "stream",
          "name": "stderr",
          "text": [
            "\rProcessing Files:  33%|\u001b[32m██████▎            \u001b[0m| 137/413 [1:30:50<3:03:57, 39.99s/it]\u001b[0m"
          ]
        },
        {
          "output_type": "stream",
          "name": "stdout",
          "text": [
            "78\n"
          ]
        },
        {
          "output_type": "stream",
          "name": "stderr",
          "text": [
            "\rProcessing Files:  33%|\u001b[32m██████▎            \u001b[0m| 138/413 [1:31:33<3:06:24, 40.67s/it]\u001b[0m"
          ]
        },
        {
          "output_type": "stream",
          "name": "stdout",
          "text": [
            "88\n"
          ]
        },
        {
          "output_type": "stream",
          "name": "stderr",
          "text": [
            "\rProcessing Files:  34%|\u001b[32m██████▍            \u001b[0m| 139/413 [1:32:16<3:09:21, 41.47s/it]\u001b[0m"
          ]
        },
        {
          "output_type": "stream",
          "name": "stdout",
          "text": [
            "115\n"
          ]
        },
        {
          "output_type": "stream",
          "name": "stderr",
          "text": [
            "\rProcessing Files:  34%|\u001b[32m██████▍            \u001b[0m| 140/413 [1:33:00<3:12:24, 42.29s/it]\u001b[0m"
          ]
        },
        {
          "output_type": "stream",
          "name": "stdout",
          "text": [
            "107\n"
          ]
        },
        {
          "output_type": "stream",
          "name": "stderr",
          "text": [
            "\rProcessing Files:  34%|\u001b[32m██████▍            \u001b[0m| 141/413 [1:33:45<3:14:50, 42.98s/it]\u001b[0m"
          ]
        },
        {
          "output_type": "stream",
          "name": "stdout",
          "text": [
            "116\n"
          ]
        },
        {
          "output_type": "stream",
          "name": "stderr",
          "text": [
            "\rProcessing Files:  34%|\u001b[32m██████▌            \u001b[0m| 142/413 [1:34:31<3:17:32, 43.74s/it]\u001b[0m"
          ]
        },
        {
          "output_type": "stream",
          "name": "stdout",
          "text": [
            "83\n"
          ]
        },
        {
          "output_type": "stream",
          "name": "stderr",
          "text": [
            "\rProcessing Files:  35%|\u001b[32m██████▌            \u001b[0m| 143/413 [1:35:14<3:15:49, 43.52s/it]\u001b[0m"
          ]
        },
        {
          "output_type": "stream",
          "name": "stdout",
          "text": [
            "88\n"
          ]
        },
        {
          "output_type": "stream",
          "name": "stderr",
          "text": [
            "\rProcessing Files:  35%|\u001b[32m██████▌            \u001b[0m| 144/413 [1:35:58<3:15:37, 43.64s/it]\u001b[0m"
          ]
        },
        {
          "output_type": "stream",
          "name": "stdout",
          "text": [
            "82\n"
          ]
        },
        {
          "output_type": "stream",
          "name": "stderr",
          "text": [
            "\rProcessing Files:  35%|\u001b[32m██████▋            \u001b[0m| 145/413 [1:36:42<3:16:04, 43.90s/it]\u001b[0m"
          ]
        },
        {
          "output_type": "stream",
          "name": "stdout",
          "text": [
            "111\n",
            "778\n"
          ]
        },
        {
          "output_type": "stream",
          "name": "stderr",
          "text": [
            "\rProcessing Files:  36%|\u001b[32m██████▊            \u001b[0m| 147/413 [1:37:25<2:28:59, 33.61s/it]\u001b[0m"
          ]
        },
        {
          "output_type": "stream",
          "name": "stdout",
          "text": [
            "72\n",
            "1000\n"
          ]
        },
        {
          "output_type": "stream",
          "name": "stderr",
          "text": [
            "\rProcessing Files:  36%|\u001b[32m██████▊            \u001b[0m| 149/413 [1:38:08<2:06:55, 28.85s/it]\u001b[0m"
          ]
        },
        {
          "output_type": "stream",
          "name": "stdout",
          "text": [
            "82\n"
          ]
        },
        {
          "output_type": "stream",
          "name": "stderr",
          "text": [
            "\rProcessing Files:  36%|\u001b[32m██████▉            \u001b[0m| 150/413 [1:38:52<2:20:58, 32.16s/it]\u001b[0m"
          ]
        },
        {
          "output_type": "stream",
          "name": "stdout",
          "text": [
            "107\n"
          ]
        },
        {
          "output_type": "stream",
          "name": "stderr",
          "text": [
            "\rProcessing Files:  37%|\u001b[32m██████▉            \u001b[0m| 151/413 [1:39:39<2:35:59, 35.72s/it]\u001b[0m"
          ]
        },
        {
          "output_type": "stream",
          "name": "stdout",
          "text": [
            "89\n"
          ]
        },
        {
          "output_type": "stream",
          "name": "stderr",
          "text": [
            "\rProcessing Files:  37%|\u001b[32m██████▉            \u001b[0m| 152/413 [1:40:24<2:45:09, 37.97s/it]\u001b[0m"
          ]
        },
        {
          "output_type": "stream",
          "name": "stdout",
          "text": [
            "64\n"
          ]
        },
        {
          "output_type": "stream",
          "name": "stderr",
          "text": [
            "\rProcessing Files:  37%|\u001b[32m███████            \u001b[0m| 153/413 [1:41:07<2:51:00, 39.46s/it]\u001b[0m"
          ]
        },
        {
          "output_type": "stream",
          "name": "stdout",
          "text": [
            "84\n"
          ]
        },
        {
          "output_type": "stream",
          "name": "stderr",
          "text": [
            "\rProcessing Files:  37%|\u001b[32m███████            \u001b[0m| 154/413 [1:41:50<2:54:20, 40.39s/it]\u001b[0m"
          ]
        },
        {
          "output_type": "stream",
          "name": "stdout",
          "text": [
            "105\n",
            "761\n"
          ]
        },
        {
          "output_type": "stream",
          "name": "stderr",
          "text": [
            "\rProcessing Files:  38%|\u001b[32m███████▏           \u001b[0m| 156/413 [1:42:34<2:17:48, 32.17s/it]\u001b[0m"
          ]
        },
        {
          "output_type": "stream",
          "name": "stdout",
          "text": [
            "48\n"
          ]
        },
        {
          "output_type": "stream",
          "name": "stderr",
          "text": [
            "\rProcessing Files:  38%|\u001b[32m███████▏           \u001b[0m| 157/413 [1:43:19<2:30:18, 35.23s/it]\u001b[0m"
          ]
        },
        {
          "output_type": "stream",
          "name": "stdout",
          "text": [
            "98\n",
            "1000\n"
          ]
        },
        {
          "output_type": "stream",
          "name": "stderr",
          "text": [
            "\rProcessing Files:  38%|\u001b[32m███████▎           \u001b[0m| 159/413 [1:44:05<2:08:11, 30.28s/it]\u001b[0m"
          ]
        },
        {
          "output_type": "stream",
          "name": "stdout",
          "text": [
            "97\n"
          ]
        },
        {
          "output_type": "stream",
          "name": "stderr",
          "text": [
            "\rProcessing Files:  39%|\u001b[32m███████▎           \u001b[0m| 160/413 [1:44:48<2:19:51, 33.17s/it]\u001b[0m"
          ]
        },
        {
          "output_type": "stream",
          "name": "stdout",
          "text": [
            "69\n"
          ]
        },
        {
          "output_type": "stream",
          "name": "stderr",
          "text": [
            "\rProcessing Files:  39%|\u001b[32m███████▍           \u001b[0m| 161/413 [1:45:31<2:29:20, 35.56s/it]\u001b[0m"
          ]
        },
        {
          "output_type": "stream",
          "name": "stdout",
          "text": [
            "99\n"
          ]
        },
        {
          "output_type": "stream",
          "name": "stderr",
          "text": [
            "\rProcessing Files:  39%|\u001b[32m███████▍           \u001b[0m| 162/413 [1:46:14<2:37:26, 37.63s/it]\u001b[0m"
          ]
        },
        {
          "output_type": "stream",
          "name": "stdout",
          "text": [
            "90\n",
            "968\n"
          ]
        },
        {
          "output_type": "stream",
          "name": "stderr",
          "text": [
            "\rProcessing Files:  40%|\u001b[32m███████▌           \u001b[0m| 164/413 [1:46:59<2:09:25, 31.19s/it]\u001b[0m"
          ]
        },
        {
          "output_type": "stream",
          "name": "stdout",
          "text": [
            "92\n"
          ]
        },
        {
          "output_type": "stream",
          "name": "stderr",
          "text": [
            "\rProcessing Files:  40%|\u001b[32m███████▌           \u001b[0m| 165/413 [1:47:42<2:20:25, 33.97s/it]\u001b[0m"
          ]
        },
        {
          "output_type": "stream",
          "name": "stdout",
          "text": [
            "98\n"
          ]
        },
        {
          "output_type": "stream",
          "name": "stderr",
          "text": [
            "\rProcessing Files:  40%|\u001b[32m███████▋           \u001b[0m| 166/413 [1:48:28<2:31:45, 36.86s/it]\u001b[0m"
          ]
        },
        {
          "output_type": "stream",
          "name": "stdout",
          "text": [
            "93\n"
          ]
        },
        {
          "output_type": "stream",
          "name": "stderr",
          "text": [
            "\rProcessing Files:  40%|\u001b[32m███████▋           \u001b[0m| 167/413 [1:49:10<2:37:03, 38.30s/it]\u001b[0m"
          ]
        },
        {
          "output_type": "stream",
          "name": "stdout",
          "text": [
            "84\n",
            "518\n"
          ]
        },
        {
          "output_type": "stream",
          "name": "stderr",
          "text": [
            "\rProcessing Files:  41%|\u001b[32m███████▊           \u001b[0m| 169/413 [1:49:54<2:06:36, 31.13s/it]\u001b[0m"
          ]
        },
        {
          "output_type": "stream",
          "name": "stdout",
          "text": [
            "76\n"
          ]
        },
        {
          "output_type": "stream",
          "name": "stderr",
          "text": [
            "\rProcessing Files:  41%|\u001b[32m███████▊           \u001b[0m| 170/413 [1:50:37<2:18:14, 34.14s/it]\u001b[0m"
          ]
        },
        {
          "output_type": "stream",
          "name": "stdout",
          "text": [
            "80\n"
          ]
        },
        {
          "output_type": "stream",
          "name": "stderr",
          "text": [
            "\rProcessing Files:  41%|\u001b[32m███████▊           \u001b[0m| 171/413 [1:51:21<2:27:38, 36.61s/it]\u001b[0m"
          ]
        },
        {
          "output_type": "stream",
          "name": "stdout",
          "text": [
            "110\n"
          ]
        },
        {
          "output_type": "stream",
          "name": "stderr",
          "text": [
            "\rProcessing Files:  42%|\u001b[32m███████▉           \u001b[0m| 172/413 [1:52:04<2:33:11, 38.14s/it]\u001b[0m"
          ]
        },
        {
          "output_type": "stream",
          "name": "stdout",
          "text": [
            "83\n"
          ]
        },
        {
          "output_type": "stream",
          "name": "stderr",
          "text": [
            "\rProcessing Files:  42%|\u001b[32m███████▉           \u001b[0m| 173/413 [1:52:47<2:37:29, 39.37s/it]\u001b[0m"
          ]
        },
        {
          "output_type": "stream",
          "name": "stdout",
          "text": [
            "70\n"
          ]
        },
        {
          "output_type": "stream",
          "name": "stderr",
          "text": [
            "\rProcessing Files:  42%|\u001b[32m████████           \u001b[0m| 174/413 [1:53:33<2:44:30, 41.30s/it]\u001b[0m"
          ]
        },
        {
          "output_type": "stream",
          "name": "stdout",
          "text": [
            "92\n"
          ]
        },
        {
          "output_type": "stream",
          "name": "stderr",
          "text": [
            "\rProcessing Files:  42%|\u001b[32m████████           \u001b[0m| 175/413 [1:54:16<2:45:50, 41.81s/it]\u001b[0m"
          ]
        },
        {
          "output_type": "stream",
          "name": "stdout",
          "text": [
            "70\n"
          ]
        },
        {
          "output_type": "stream",
          "name": "stderr",
          "text": [
            "\rProcessing Files:  43%|\u001b[32m████████           \u001b[0m| 176/413 [1:55:00<2:47:32, 42.41s/it]\u001b[0m"
          ]
        },
        {
          "output_type": "stream",
          "name": "stdout",
          "text": [
            "65\n"
          ]
        },
        {
          "output_type": "stream",
          "name": "stderr",
          "text": [
            "\rProcessing Files:  43%|\u001b[32m████████▏          \u001b[0m| 177/413 [1:55:44<2:48:41, 42.89s/it]\u001b[0m"
          ]
        },
        {
          "output_type": "stream",
          "name": "stdout",
          "text": [
            "105\n"
          ]
        },
        {
          "output_type": "stream",
          "name": "stderr",
          "text": [
            "\rProcessing Files:  43%|\u001b[32m████████▏          \u001b[0m| 178/413 [1:56:26<2:47:18, 42.72s/it]\u001b[0m"
          ]
        },
        {
          "output_type": "stream",
          "name": "stdout",
          "text": [
            "88\n"
          ]
        },
        {
          "output_type": "stream",
          "name": "stderr",
          "text": [
            "\rProcessing Files:  43%|\u001b[32m████████▏          \u001b[0m| 179/413 [1:57:09<2:46:54, 42.80s/it]\u001b[0m"
          ]
        },
        {
          "output_type": "stream",
          "name": "stdout",
          "text": [
            "98\n"
          ]
        },
        {
          "output_type": "stream",
          "name": "stderr",
          "text": [
            "\rProcessing Files:  44%|\u001b[32m████████▎          \u001b[0m| 180/413 [1:57:55<2:49:56, 43.76s/it]\u001b[0m"
          ]
        },
        {
          "output_type": "stream",
          "name": "stdout",
          "text": [
            "80\n"
          ]
        },
        {
          "output_type": "stream",
          "name": "stderr",
          "text": [
            "\rProcessing Files:  44%|\u001b[32m████████▎          \u001b[0m| 181/413 [1:58:39<2:49:01, 43.71s/it]\u001b[0m"
          ]
        },
        {
          "output_type": "stream",
          "name": "stdout",
          "text": [
            "89\n"
          ]
        },
        {
          "output_type": "stream",
          "name": "stderr",
          "text": [
            "\rProcessing Files:  44%|\u001b[32m████████▎          \u001b[0m| 182/413 [1:59:23<2:48:28, 43.76s/it]\u001b[0m"
          ]
        },
        {
          "output_type": "stream",
          "name": "stdout",
          "text": [
            "109\n"
          ]
        },
        {
          "output_type": "stream",
          "name": "stderr",
          "text": [
            "\rProcessing Files:  44%|\u001b[32m████████▍          \u001b[0m| 183/413 [2:00:05<2:46:22, 43.40s/it]\u001b[0m"
          ]
        },
        {
          "output_type": "stream",
          "name": "stdout",
          "text": [
            "115\n",
            "1000\n"
          ]
        },
        {
          "output_type": "stream",
          "name": "stderr",
          "text": [
            "\rProcessing Files:  45%|\u001b[32m████████▌          \u001b[0m| 185/413 [2:00:47<2:05:58, 33.15s/it]\u001b[0m"
          ]
        },
        {
          "output_type": "stream",
          "name": "stdout",
          "text": [
            "81\n",
            "471\n"
          ]
        },
        {
          "output_type": "stream",
          "name": "stderr",
          "text": [
            "\rProcessing Files:  45%|\u001b[32m████████▌          \u001b[0m| 187/413 [2:01:31<1:47:32, 28.55s/it]\u001b[0m"
          ]
        },
        {
          "output_type": "stream",
          "name": "stdout",
          "text": [
            "71\n"
          ]
        },
        {
          "output_type": "stream",
          "name": "stderr",
          "text": [
            "\rProcessing Files:  46%|\u001b[32m████████▋          \u001b[0m| 188/413 [2:02:15<2:00:28, 32.13s/it]\u001b[0m"
          ]
        },
        {
          "output_type": "stream",
          "name": "stdout",
          "text": [
            "116\n"
          ]
        },
        {
          "output_type": "stream",
          "name": "stderr",
          "text": [
            "\rProcessing Files:  46%|\u001b[32m████████▋          \u001b[0m| 189/413 [2:03:00<2:11:22, 35.19s/it]\u001b[0m"
          ]
        },
        {
          "output_type": "stream",
          "name": "stdout",
          "text": [
            "98\n"
          ]
        },
        {
          "output_type": "stream",
          "name": "stderr",
          "text": [
            "\rProcessing Files:  46%|\u001b[32m████████▋          \u001b[0m| 190/413 [2:03:46<2:20:29, 37.80s/it]\u001b[0m"
          ]
        },
        {
          "output_type": "stream",
          "name": "stdout",
          "text": [
            "58\n"
          ]
        },
        {
          "output_type": "stream",
          "name": "stderr",
          "text": [
            "\rProcessing Files:  46%|\u001b[32m████████▊          \u001b[0m| 191/413 [2:04:29<2:25:37, 39.36s/it]\u001b[0m"
          ]
        },
        {
          "output_type": "stream",
          "name": "stdout",
          "text": [
            "105\n",
            "280\n"
          ]
        },
        {
          "output_type": "stream",
          "name": "stderr",
          "text": [
            "\rProcessing Files:  47%|\u001b[32m████████▉          \u001b[0m| 193/413 [2:05:14<1:57:01, 31.92s/it]\u001b[0m"
          ]
        },
        {
          "output_type": "stream",
          "name": "stdout",
          "text": [
            "120\n",
            "100\n"
          ]
        },
        {
          "output_type": "stream",
          "name": "stderr",
          "text": [
            "\rProcessing Files:  47%|\u001b[32m████████▉          \u001b[0m| 195/413 [2:05:58<1:42:45, 28.28s/it]\u001b[0m"
          ]
        },
        {
          "output_type": "stream",
          "name": "stdout",
          "text": [
            "84\n"
          ]
        },
        {
          "output_type": "stream",
          "name": "stderr",
          "text": [
            "Processing Files:  48%|\u001b[32m█████████          \u001b[0m| 197/413 [2:06:44<1:28:02, 24.46s/it]\u001b[0m"
          ]
        },
        {
          "output_type": "stream",
          "name": "stdout",
          "text": [
            "110\n",
            "620\n"
          ]
        },
        {
          "output_type": "stream",
          "name": "stderr",
          "text": [
            "\rProcessing Files:  48%|\u001b[32m█████████          \u001b[0m| 198/413 [2:07:31<1:48:28, 30.27s/it]\u001b[0m"
          ]
        },
        {
          "output_type": "stream",
          "name": "stdout",
          "text": [
            "91\n"
          ]
        },
        {
          "output_type": "stream",
          "name": "stderr",
          "text": [
            "\rProcessing Files:  48%|\u001b[32m█████████▏         \u001b[0m| 199/413 [2:08:15<2:00:15, 33.72s/it]\u001b[0m"
          ]
        },
        {
          "output_type": "stream",
          "name": "stdout",
          "text": [
            "119\n"
          ]
        },
        {
          "output_type": "stream",
          "name": "stderr",
          "text": [
            "\rProcessing Files:  48%|\u001b[32m█████████▏         \u001b[0m| 200/413 [2:08:59<2:10:11, 36.68s/it]\u001b[0m"
          ]
        },
        {
          "output_type": "stream",
          "name": "stdout",
          "text": [
            "73\n"
          ]
        },
        {
          "output_type": "stream",
          "name": "stderr",
          "text": [
            "\rProcessing Files:  49%|\u001b[32m█████████▏         \u001b[0m| 201/413 [2:09:44<2:18:03, 39.07s/it]\u001b[0m"
          ]
        },
        {
          "output_type": "stream",
          "name": "stdout",
          "text": [
            "111\n"
          ]
        },
        {
          "output_type": "stream",
          "name": "stderr",
          "text": [
            "\rProcessing Files:  49%|\u001b[32m█████████▎         \u001b[0m| 202/413 [2:10:29<2:22:46, 40.60s/it]\u001b[0m"
          ]
        },
        {
          "output_type": "stream",
          "name": "stdout",
          "text": [
            "120\n"
          ]
        },
        {
          "output_type": "stream",
          "name": "stderr",
          "text": [
            "\rProcessing Files:  49%|\u001b[32m█████████▎         \u001b[0m| 203/413 [2:11:13<2:25:23, 41.54s/it]\u001b[0m"
          ]
        },
        {
          "output_type": "stream",
          "name": "stdout",
          "text": [
            "121\n",
            "749\n"
          ]
        },
        {
          "output_type": "stream",
          "name": "stderr",
          "text": [
            "\rProcessing Files:  50%|\u001b[32m█████████▍         \u001b[0m| 205/413 [2:12:01<1:56:22, 33.57s/it]\u001b[0m"
          ]
        },
        {
          "output_type": "stream",
          "name": "stdout",
          "text": [
            "83\n"
          ]
        },
        {
          "output_type": "stream",
          "name": "stderr",
          "text": [
            "\rProcessing Files:  50%|\u001b[32m█████████▍         \u001b[0m| 206/413 [2:12:45<2:05:19, 36.32s/it]\u001b[0m"
          ]
        },
        {
          "output_type": "stream",
          "name": "stdout",
          "text": [
            "89\n"
          ]
        },
        {
          "output_type": "stream",
          "name": "stderr",
          "text": [
            "\rProcessing Files:  50%|\u001b[32m█████████▌         \u001b[0m| 207/413 [2:13:31<2:12:49, 38.69s/it]\u001b[0m"
          ]
        },
        {
          "output_type": "stream",
          "name": "stdout",
          "text": [
            "110\n"
          ]
        },
        {
          "output_type": "stream",
          "name": "stderr",
          "text": [
            "\rProcessing Files:  50%|\u001b[32m█████████▌         \u001b[0m| 208/413 [2:14:16<2:18:19, 40.49s/it]\u001b[0m"
          ]
        },
        {
          "output_type": "stream",
          "name": "stdout",
          "text": [
            "78\n"
          ]
        },
        {
          "output_type": "stream",
          "name": "stderr",
          "text": [
            "\rProcessing Files:  51%|\u001b[32m█████████▌         \u001b[0m| 209/413 [2:14:59<2:20:11, 41.23s/it]\u001b[0m"
          ]
        },
        {
          "output_type": "stream",
          "name": "stdout",
          "text": [
            "85\n"
          ]
        },
        {
          "output_type": "stream",
          "name": "stderr",
          "text": [
            "\rProcessing Files:  51%|\u001b[32m█████████▋         \u001b[0m| 210/413 [2:15:44<2:22:17, 42.06s/it]\u001b[0m"
          ]
        },
        {
          "output_type": "stream",
          "name": "stdout",
          "text": [
            "89\n"
          ]
        },
        {
          "output_type": "stream",
          "name": "stderr",
          "text": [
            "Processing Files:  52%|\u001b[32m█████████▊         \u001b[0m| 213/413 [2:16:32<1:20:02, 24.01s/it]\u001b[0m"
          ]
        },
        {
          "output_type": "stream",
          "name": "stdout",
          "text": [
            "110\n",
            "1000\n",
            "1000\n"
          ]
        },
        {
          "output_type": "stream",
          "name": "stderr",
          "text": [
            "\rProcessing Files:  52%|\u001b[32m█████████▊         \u001b[0m| 214/413 [2:17:16<1:36:01, 28.95s/it]\u001b[0m"
          ]
        },
        {
          "output_type": "stream",
          "name": "stdout",
          "text": [
            "89\n"
          ]
        },
        {
          "output_type": "stream",
          "name": "stderr",
          "text": [
            "\rProcessing Files:  52%|\u001b[32m█████████▉         \u001b[0m| 215/413 [2:17:59<1:47:30, 32.58s/it]\u001b[0m"
          ]
        },
        {
          "output_type": "stream",
          "name": "stdout",
          "text": [
            "107\n",
            "1000\n"
          ]
        },
        {
          "output_type": "stream",
          "name": "stderr",
          "text": [
            "\rProcessing Files:  53%|\u001b[32m█████████▉         \u001b[0m| 217/413 [2:18:41<1:30:45, 27.78s/it]\u001b[0m"
          ]
        },
        {
          "output_type": "stream",
          "name": "stdout",
          "text": [
            "99\n"
          ]
        },
        {
          "output_type": "stream",
          "name": "stderr",
          "text": [
            "\rProcessing Files:  53%|\u001b[32m██████████         \u001b[0m| 218/413 [2:19:25<1:42:00, 31.39s/it]\u001b[0m"
          ]
        },
        {
          "output_type": "stream",
          "name": "stdout",
          "text": [
            "96\n"
          ]
        },
        {
          "output_type": "stream",
          "name": "stderr",
          "text": [
            "\rProcessing Files:  53%|\u001b[32m██████████         \u001b[0m| 219/413 [2:20:09<1:51:53, 34.61s/it]\u001b[0m"
          ]
        },
        {
          "output_type": "stream",
          "name": "stdout",
          "text": [
            "125\n"
          ]
        },
        {
          "output_type": "stream",
          "name": "stderr",
          "text": [
            "\rProcessing Files:  53%|\u001b[32m██████████         \u001b[0m| 220/413 [2:20:55<2:00:55, 37.59s/it]\u001b[0m"
          ]
        },
        {
          "output_type": "stream",
          "name": "stdout",
          "text": [
            "61\n"
          ]
        },
        {
          "output_type": "stream",
          "name": "stderr",
          "text": [
            "\rProcessing Files:  54%|\u001b[32m██████████▏        \u001b[0m| 221/413 [2:21:39<2:05:36, 39.25s/it]\u001b[0m"
          ]
        },
        {
          "output_type": "stream",
          "name": "stdout",
          "text": [
            "81\n"
          ]
        },
        {
          "output_type": "stream",
          "name": "stderr",
          "text": [
            "\rProcessing Files:  54%|\u001b[32m██████████▏        \u001b[0m| 222/413 [2:22:21<2:07:26, 40.03s/it]\u001b[0m"
          ]
        },
        {
          "output_type": "stream",
          "name": "stdout",
          "text": [
            "103\n"
          ]
        },
        {
          "output_type": "stream",
          "name": "stderr",
          "text": [
            "\rProcessing Files:  54%|\u001b[32m██████████▎        \u001b[0m| 223/413 [2:23:04<2:09:31, 40.90s/it]\u001b[0m"
          ]
        },
        {
          "output_type": "stream",
          "name": "stdout",
          "text": [
            "111\n",
            "727\n"
          ]
        },
        {
          "output_type": "stream",
          "name": "stderr",
          "text": [
            "\rProcessing Files:  54%|\u001b[32m██████████▎        \u001b[0m| 225/413 [2:23:47<1:41:18, 32.33s/it]\u001b[0m"
          ]
        },
        {
          "output_type": "stream",
          "name": "stdout",
          "text": [
            "101\n"
          ]
        },
        {
          "output_type": "stream",
          "name": "stderr",
          "text": [
            "\rProcessing Files:  55%|\u001b[32m██████████▍        \u001b[0m| 226/413 [2:24:32<1:49:49, 35.24s/it]\u001b[0m"
          ]
        },
        {
          "output_type": "stream",
          "name": "stdout",
          "text": [
            "103\n"
          ]
        },
        {
          "output_type": "stream",
          "name": "stderr",
          "text": [
            "\rProcessing Files:  55%|\u001b[32m██████████▍        \u001b[0m| 227/413 [2:25:16<1:56:42, 37.65s/it]\u001b[0m"
          ]
        },
        {
          "output_type": "stream",
          "name": "stdout",
          "text": [
            "85\n"
          ]
        },
        {
          "output_type": "stream",
          "name": "stderr",
          "text": [
            "\rProcessing Files:  55%|\u001b[32m██████████▍        \u001b[0m| 228/413 [2:25:59<2:00:36, 39.11s/it]\u001b[0m"
          ]
        },
        {
          "output_type": "stream",
          "name": "stdout",
          "text": [
            "82\n"
          ]
        },
        {
          "output_type": "stream",
          "name": "stderr",
          "text": [
            "\rProcessing Files:  55%|\u001b[32m██████████▌        \u001b[0m| 229/413 [2:26:42<2:02:47, 40.04s/it]\u001b[0m"
          ]
        },
        {
          "output_type": "stream",
          "name": "stdout",
          "text": [
            "107\n"
          ]
        },
        {
          "output_type": "stream",
          "name": "stderr",
          "text": [
            "\rProcessing Files:  56%|\u001b[32m██████████▌        \u001b[0m| 230/413 [2:27:25<2:04:56, 40.97s/it]\u001b[0m"
          ]
        },
        {
          "output_type": "stream",
          "name": "stdout",
          "text": [
            "63\n"
          ]
        },
        {
          "output_type": "stream",
          "name": "stderr",
          "text": [
            "\rProcessing Files:  56%|\u001b[32m██████████▋        \u001b[0m| 231/413 [2:28:09<2:06:59, 41.87s/it]\u001b[0m"
          ]
        },
        {
          "output_type": "stream",
          "name": "stdout",
          "text": [
            "120\n"
          ]
        },
        {
          "output_type": "stream",
          "name": "stderr",
          "text": [
            "\rProcessing Files:  56%|\u001b[32m██████████▋        \u001b[0m| 232/413 [2:28:53<2:08:10, 42.49s/it]\u001b[0m"
          ]
        },
        {
          "output_type": "stream",
          "name": "stdout",
          "text": [
            "92\n"
          ]
        },
        {
          "output_type": "stream",
          "name": "stderr",
          "text": [
            "\rProcessing Files:  56%|\u001b[32m██████████▋        \u001b[0m| 233/413 [2:29:35<2:07:14, 42.41s/it]\u001b[0m"
          ]
        },
        {
          "output_type": "stream",
          "name": "stdout",
          "text": [
            "91\n"
          ]
        },
        {
          "output_type": "stream",
          "name": "stderr",
          "text": [
            "\rProcessing Files:  57%|\u001b[32m██████████▊        \u001b[0m| 234/413 [2:30:22<2:10:00, 43.58s/it]\u001b[0m"
          ]
        },
        {
          "output_type": "stream",
          "name": "stdout",
          "text": [
            "104\n"
          ]
        },
        {
          "output_type": "stream",
          "name": "stderr",
          "text": [
            "\rProcessing Files:  57%|\u001b[32m██████████▊        \u001b[0m| 235/413 [2:31:05<2:09:01, 43.49s/it]\u001b[0m"
          ]
        },
        {
          "output_type": "stream",
          "name": "stdout",
          "text": [
            "99\n"
          ]
        },
        {
          "output_type": "stream",
          "name": "stderr",
          "text": [
            "\rProcessing Files:  57%|\u001b[32m██████████▊        \u001b[0m| 236/413 [2:31:50<2:09:11, 43.79s/it]\u001b[0m"
          ]
        },
        {
          "output_type": "stream",
          "name": "stdout",
          "text": [
            "89\n"
          ]
        },
        {
          "output_type": "stream",
          "name": "stderr",
          "text": [
            "\rProcessing Files:  57%|\u001b[32m██████████▉        \u001b[0m| 237/413 [2:32:33<2:08:25, 43.78s/it]\u001b[0m"
          ]
        },
        {
          "output_type": "stream",
          "name": "stdout",
          "text": [
            "71\n"
          ]
        },
        {
          "output_type": "stream",
          "name": "stderr",
          "text": [
            "\rProcessing Files:  58%|\u001b[32m██████████▉        \u001b[0m| 238/413 [2:33:16<2:06:35, 43.40s/it]\u001b[0m"
          ]
        },
        {
          "output_type": "stream",
          "name": "stdout",
          "text": [
            "85\n"
          ]
        },
        {
          "output_type": "stream",
          "name": "stderr",
          "text": [
            "\rProcessing Files:  58%|\u001b[32m██████████▉        \u001b[0m| 239/413 [2:34:00<2:06:09, 43.50s/it]\u001b[0m"
          ]
        },
        {
          "output_type": "stream",
          "name": "stdout",
          "text": [
            "56\n"
          ]
        },
        {
          "output_type": "stream",
          "name": "stderr",
          "text": [
            "\rProcessing Files:  58%|\u001b[32m███████████        \u001b[0m| 240/413 [2:34:48<2:10:02, 45.10s/it]\u001b[0m"
          ]
        },
        {
          "output_type": "stream",
          "name": "stdout",
          "text": [
            "129\n"
          ]
        },
        {
          "output_type": "stream",
          "name": "stderr",
          "text": [
            "\rProcessing Files:  58%|\u001b[32m███████████        \u001b[0m| 241/413 [2:35:33<2:08:25, 44.80s/it]\u001b[0m"
          ]
        },
        {
          "output_type": "stream",
          "name": "stdout",
          "text": [
            "125\n"
          ]
        },
        {
          "output_type": "stream",
          "name": "stderr",
          "text": [
            "\rProcessing Files:  59%|\u001b[32m███████████▏       \u001b[0m| 242/413 [2:36:16<2:06:55, 44.53s/it]\u001b[0m"
          ]
        },
        {
          "output_type": "stream",
          "name": "stdout",
          "text": [
            "82\n"
          ]
        },
        {
          "output_type": "stream",
          "name": "stderr",
          "text": [
            "\rProcessing Files:  59%|\u001b[32m███████████▏       \u001b[0m| 243/413 [2:37:01<2:06:23, 44.61s/it]\u001b[0m"
          ]
        },
        {
          "output_type": "stream",
          "name": "stdout",
          "text": [
            "63\n"
          ]
        },
        {
          "output_type": "stream",
          "name": "stderr",
          "text": [
            "\rProcessing Files:  59%|\u001b[32m███████████▏       \u001b[0m| 244/413 [2:37:46<2:05:55, 44.71s/it]\u001b[0m"
          ]
        },
        {
          "output_type": "stream",
          "name": "stdout",
          "text": [
            "119\n"
          ]
        },
        {
          "output_type": "stream",
          "name": "stderr",
          "text": [
            "\rProcessing Files:  59%|\u001b[32m███████████▎       \u001b[0m| 245/413 [2:38:29<2:03:54, 44.25s/it]\u001b[0m"
          ]
        },
        {
          "output_type": "stream",
          "name": "stdout",
          "text": [
            "75\n"
          ]
        },
        {
          "output_type": "stream",
          "name": "stderr",
          "text": [
            "\rProcessing Files:  60%|\u001b[32m███████████▎       \u001b[0m| 246/413 [2:39:16<2:05:01, 44.92s/it]\u001b[0m"
          ]
        },
        {
          "output_type": "stream",
          "name": "stdout",
          "text": [
            "113\n"
          ]
        },
        {
          "output_type": "stream",
          "name": "stderr",
          "text": [
            "\rProcessing Files:  60%|\u001b[32m███████████▎       \u001b[0m| 247/413 [2:40:00<2:03:53, 44.78s/it]\u001b[0m"
          ]
        },
        {
          "output_type": "stream",
          "name": "stdout",
          "text": [
            "99\n",
            "169\n"
          ]
        },
        {
          "output_type": "stream",
          "name": "stderr",
          "text": [
            "\rProcessing Files:  60%|\u001b[32m███████████▍       \u001b[0m| 249/413 [2:40:45<1:34:12, 34.47s/it]\u001b[0m"
          ]
        },
        {
          "output_type": "stream",
          "name": "stdout",
          "text": [
            "103\n",
            "970\n",
            "1000\n"
          ]
        },
        {
          "output_type": "stream",
          "name": "stderr",
          "text": [
            "\rProcessing Files:  61%|\u001b[32m███████████▌       \u001b[0m| 252/413 [2:41:28<1:05:35, 24.45s/it]\u001b[0m"
          ]
        },
        {
          "output_type": "stream",
          "name": "stdout",
          "text": [
            "105\n"
          ]
        },
        {
          "output_type": "stream",
          "name": "stderr",
          "text": [
            "\rProcessing Files:  61%|\u001b[32m███████████▋       \u001b[0m| 253/413 [2:42:11<1:14:48, 28.05s/it]\u001b[0m"
          ]
        },
        {
          "output_type": "stream",
          "name": "stdout",
          "text": [
            "84\n"
          ]
        },
        {
          "output_type": "stream",
          "name": "stderr",
          "text": [
            "\rProcessing Files:  62%|\u001b[32m███████████▋       \u001b[0m| 254/413 [2:42:55<1:23:23, 31.47s/it]\u001b[0m"
          ]
        },
        {
          "output_type": "stream",
          "name": "stdout",
          "text": [
            "81\n"
          ]
        },
        {
          "output_type": "stream",
          "name": "stderr",
          "text": [
            "\rProcessing Files:  62%|\u001b[32m███████████▋       \u001b[0m| 255/413 [2:43:42<1:31:55, 34.91s/it]\u001b[0m"
          ]
        },
        {
          "output_type": "stream",
          "name": "stdout",
          "text": [
            "67\n"
          ]
        },
        {
          "output_type": "stream",
          "name": "stderr",
          "text": [
            "\rProcessing Files:  62%|\u001b[32m███████████▊       \u001b[0m| 256/413 [2:44:26<1:37:42, 37.34s/it]\u001b[0m"
          ]
        },
        {
          "output_type": "stream",
          "name": "stdout",
          "text": [
            "103\n"
          ]
        },
        {
          "output_type": "stream",
          "name": "stderr",
          "text": [
            "\rProcessing Files:  62%|\u001b[32m███████████▊       \u001b[0m| 257/413 [2:45:09<1:41:12, 38.92s/it]\u001b[0m"
          ]
        },
        {
          "output_type": "stream",
          "name": "stdout",
          "text": [
            "69\n"
          ]
        },
        {
          "output_type": "stream",
          "name": "stderr",
          "text": [
            "\rProcessing Files:  62%|\u001b[32m███████████▊       \u001b[0m| 258/413 [2:45:52<1:43:15, 39.97s/it]\u001b[0m"
          ]
        },
        {
          "output_type": "stream",
          "name": "stdout",
          "text": [
            "118\n"
          ]
        },
        {
          "output_type": "stream",
          "name": "stderr",
          "text": [
            "\rProcessing Files:  63%|\u001b[32m███████████▉       \u001b[0m| 259/413 [2:46:36<1:45:00, 40.91s/it]\u001b[0m"
          ]
        },
        {
          "output_type": "stream",
          "name": "stdout",
          "text": [
            "92\n"
          ]
        },
        {
          "output_type": "stream",
          "name": "stderr",
          "text": [
            "\rProcessing Files:  63%|\u001b[32m███████████▉       \u001b[0m| 260/413 [2:47:20<1:46:59, 41.95s/it]\u001b[0m"
          ]
        },
        {
          "output_type": "stream",
          "name": "stdout",
          "text": [
            "111\n"
          ]
        },
        {
          "output_type": "stream",
          "name": "stderr",
          "text": [
            "\rProcessing Files:  63%|\u001b[32m████████████       \u001b[0m| 261/413 [2:48:07<1:49:45, 43.32s/it]\u001b[0m"
          ]
        },
        {
          "output_type": "stream",
          "name": "stdout",
          "text": [
            "60\n"
          ]
        },
        {
          "output_type": "stream",
          "name": "stderr",
          "text": [
            "\rProcessing Files:  63%|\u001b[32m████████████       \u001b[0m| 262/413 [2:48:49<1:48:24, 43.08s/it]\u001b[0m"
          ]
        },
        {
          "output_type": "stream",
          "name": "stdout",
          "text": [
            "112\n"
          ]
        },
        {
          "output_type": "stream",
          "name": "stderr",
          "text": [
            "\rProcessing Files:  64%|\u001b[32m████████████       \u001b[0m| 263/413 [2:49:32<1:47:38, 43.06s/it]\u001b[0m"
          ]
        },
        {
          "output_type": "stream",
          "name": "stdout",
          "text": [
            "93\n",
            "786\n"
          ]
        },
        {
          "output_type": "stream",
          "name": "stderr",
          "text": [
            "\rProcessing Files:  64%|\u001b[32m████████████▏      \u001b[0m| 265/413 [2:50:16<1:22:13, 33.34s/it]\u001b[0m"
          ]
        },
        {
          "output_type": "stream",
          "name": "stdout",
          "text": [
            "98\n"
          ]
        },
        {
          "output_type": "stream",
          "name": "stderr",
          "text": [
            "\rProcessing Files:  64%|\u001b[32m████████████▏      \u001b[0m| 266/413 [2:51:00<1:28:14, 36.01s/it]\u001b[0m"
          ]
        },
        {
          "output_type": "stream",
          "name": "stdout",
          "text": [
            "78\n"
          ]
        },
        {
          "output_type": "stream",
          "name": "stderr",
          "text": [
            "\rProcessing Files:  65%|\u001b[32m████████████▎      \u001b[0m| 267/413 [2:51:43<1:31:57, 37.79s/it]\u001b[0m"
          ]
        },
        {
          "output_type": "stream",
          "name": "stdout",
          "text": [
            "88\n"
          ]
        },
        {
          "output_type": "stream",
          "name": "stderr",
          "text": [
            "\rProcessing Files:  65%|\u001b[32m████████████▎      \u001b[0m| 268/413 [2:52:28<1:36:05, 39.76s/it]\u001b[0m"
          ]
        },
        {
          "output_type": "stream",
          "name": "stdout",
          "text": [
            "52\n"
          ]
        },
        {
          "output_type": "stream",
          "name": "stderr",
          "text": [
            "\rProcessing Files:  65%|\u001b[32m████████████▍      \u001b[0m| 269/413 [2:53:11<1:37:28, 40.61s/it]\u001b[0m"
          ]
        },
        {
          "output_type": "stream",
          "name": "stdout",
          "text": [
            "94\n"
          ]
        },
        {
          "output_type": "stream",
          "name": "stderr",
          "text": [
            "\rProcessing Files:  65%|\u001b[32m████████████▍      \u001b[0m| 270/413 [2:53:54<1:38:40, 41.40s/it]\u001b[0m"
          ]
        },
        {
          "output_type": "stream",
          "name": "stdout",
          "text": [
            "100\n"
          ]
        },
        {
          "output_type": "stream",
          "name": "stderr",
          "text": [
            "\rProcessing Files:  66%|\u001b[32m████████████▍      \u001b[0m| 271/413 [2:54:38<1:39:40, 42.11s/it]\u001b[0m"
          ]
        },
        {
          "output_type": "stream",
          "name": "stdout",
          "text": [
            "105\n"
          ]
        },
        {
          "output_type": "stream",
          "name": "stderr",
          "text": [
            "\rProcessing Files:  66%|\u001b[32m████████████▌      \u001b[0m| 272/413 [2:55:21<1:39:17, 42.25s/it]\u001b[0m"
          ]
        },
        {
          "output_type": "stream",
          "name": "stdout",
          "text": [
            "116\n"
          ]
        },
        {
          "output_type": "stream",
          "name": "stderr",
          "text": [
            "\rProcessing Files:  66%|\u001b[32m████████████▌      \u001b[0m| 273/413 [2:56:03<1:38:31, 42.22s/it]\u001b[0m"
          ]
        },
        {
          "output_type": "stream",
          "name": "stdout",
          "text": [
            "105\n",
            "1000\n"
          ]
        },
        {
          "output_type": "stream",
          "name": "stderr",
          "text": [
            "\rProcessing Files:  67%|\u001b[32m████████████▋      \u001b[0m| 275/413 [2:56:49<1:16:52, 33.43s/it]\u001b[0m"
          ]
        },
        {
          "output_type": "stream",
          "name": "stdout",
          "text": [
            "55\n"
          ]
        },
        {
          "output_type": "stream",
          "name": "stderr",
          "text": [
            "\rProcessing Files:  67%|\u001b[32m████████████▋      \u001b[0m| 276/413 [2:57:32<1:21:45, 35.81s/it]\u001b[0m"
          ]
        },
        {
          "output_type": "stream",
          "name": "stdout",
          "text": [
            "91\n"
          ]
        },
        {
          "output_type": "stream",
          "name": "stderr",
          "text": [
            "\rProcessing Files:  67%|\u001b[32m████████████▋      \u001b[0m| 277/413 [2:58:16<1:26:09, 38.01s/it]\u001b[0m"
          ]
        },
        {
          "output_type": "stream",
          "name": "stdout",
          "text": [
            "74\n"
          ]
        },
        {
          "output_type": "stream",
          "name": "stderr",
          "text": [
            "\rProcessing Files:  67%|\u001b[32m████████████▊      \u001b[0m| 278/413 [2:58:59<1:28:36, 39.38s/it]\u001b[0m"
          ]
        },
        {
          "output_type": "stream",
          "name": "stdout",
          "text": [
            "79\n"
          ]
        },
        {
          "output_type": "stream",
          "name": "stderr",
          "text": [
            "\rProcessing Files:  68%|\u001b[32m████████████▊      \u001b[0m| 279/413 [2:59:41<1:29:36, 40.12s/it]\u001b[0m"
          ]
        },
        {
          "output_type": "stream",
          "name": "stdout",
          "text": [
            "82\n",
            "1000\n"
          ]
        },
        {
          "output_type": "stream",
          "name": "stderr",
          "text": [
            "\rProcessing Files:  68%|\u001b[32m████████████▉      \u001b[0m| 281/413 [3:00:24<1:09:57, 31.80s/it]\u001b[0m"
          ]
        },
        {
          "output_type": "stream",
          "name": "stdout",
          "text": [
            "116\n"
          ]
        },
        {
          "output_type": "stream",
          "name": "stderr",
          "text": [
            "\rProcessing Files:  68%|\u001b[32m████████████▉      \u001b[0m| 282/413 [3:01:10<1:16:53, 35.22s/it]\u001b[0m"
          ]
        },
        {
          "output_type": "stream",
          "name": "stdout",
          "text": [
            "79\n"
          ]
        },
        {
          "output_type": "stream",
          "name": "stderr",
          "text": [
            "\rProcessing Files:  69%|\u001b[32m█████████████      \u001b[0m| 283/413 [3:01:54<1:21:08, 37.45s/it]\u001b[0m"
          ]
        },
        {
          "output_type": "stream",
          "name": "stdout",
          "text": [
            "97\n"
          ]
        },
        {
          "output_type": "stream",
          "name": "stderr",
          "text": [
            "\rProcessing Files:  69%|\u001b[32m█████████████      \u001b[0m| 284/413 [3:02:38<1:24:27, 39.28s/it]\u001b[0m"
          ]
        },
        {
          "output_type": "stream",
          "name": "stdout",
          "text": [
            "104\n"
          ]
        },
        {
          "output_type": "stream",
          "name": "stderr",
          "text": [
            "\rProcessing Files:  69%|\u001b[32m█████████████      \u001b[0m| 285/413 [3:03:21<1:25:59, 40.31s/it]\u001b[0m"
          ]
        },
        {
          "output_type": "stream",
          "name": "stdout",
          "text": [
            "119\n"
          ]
        },
        {
          "output_type": "stream",
          "name": "stderr",
          "text": [
            "\rProcessing Files:  69%|\u001b[32m█████████████▏     \u001b[0m| 286/413 [3:04:04<1:27:00, 41.11s/it]\u001b[0m"
          ]
        },
        {
          "output_type": "stream",
          "name": "stdout",
          "text": [
            "109\n"
          ]
        },
        {
          "output_type": "stream",
          "name": "stderr",
          "text": [
            "\rProcessing Files:  69%|\u001b[32m█████████████▏     \u001b[0m| 287/413 [3:04:48<1:27:36, 41.72s/it]\u001b[0m"
          ]
        },
        {
          "output_type": "stream",
          "name": "stdout",
          "text": [
            "101\n"
          ]
        },
        {
          "output_type": "stream",
          "name": "stderr",
          "text": [
            "\rProcessing Files:  70%|\u001b[32m█████████████▏     \u001b[0m| 288/413 [3:05:34<1:29:53, 43.15s/it]\u001b[0m"
          ]
        },
        {
          "output_type": "stream",
          "name": "stdout",
          "text": [
            "82\n"
          ]
        },
        {
          "output_type": "stream",
          "name": "stderr",
          "text": [
            "\rProcessing Files:  70%|\u001b[32m█████████████▎     \u001b[0m| 289/413 [3:06:18<1:29:35, 43.35s/it]\u001b[0m"
          ]
        },
        {
          "output_type": "stream",
          "name": "stdout",
          "text": [
            "92\n"
          ]
        },
        {
          "output_type": "stream",
          "name": "stderr",
          "text": [
            "\rProcessing Files:  70%|\u001b[32m█████████████▎     \u001b[0m| 290/413 [3:07:01<1:28:24, 43.13s/it]\u001b[0m"
          ]
        },
        {
          "output_type": "stream",
          "name": "stdout",
          "text": [
            "111\n"
          ]
        },
        {
          "output_type": "stream",
          "name": "stderr",
          "text": [
            "\rProcessing Files:  70%|\u001b[32m█████████████▍     \u001b[0m| 291/413 [3:07:43<1:27:10, 42.87s/it]\u001b[0m"
          ]
        },
        {
          "output_type": "stream",
          "name": "stdout",
          "text": [
            "68\n"
          ]
        },
        {
          "output_type": "stream",
          "name": "stderr",
          "text": [
            "\rProcessing Files:  71%|\u001b[32m█████████████▍     \u001b[0m| 292/413 [3:08:26<1:26:45, 43.02s/it]\u001b[0m"
          ]
        },
        {
          "output_type": "stream",
          "name": "stdout",
          "text": [
            "83\n"
          ]
        },
        {
          "output_type": "stream",
          "name": "stderr",
          "text": [
            "\rProcessing Files:  71%|\u001b[32m█████████████▍     \u001b[0m| 293/413 [3:09:10<1:26:45, 43.38s/it]\u001b[0m"
          ]
        },
        {
          "output_type": "stream",
          "name": "stdout",
          "text": [
            "91\n"
          ]
        },
        {
          "output_type": "stream",
          "name": "stderr",
          "text": [
            "\rProcessing Files:  71%|\u001b[32m█████████████▌     \u001b[0m| 294/413 [3:09:56<1:27:19, 44.03s/it]\u001b[0m"
          ]
        },
        {
          "output_type": "stream",
          "name": "stdout",
          "text": [
            "117\n"
          ]
        },
        {
          "output_type": "stream",
          "name": "stderr",
          "text": [
            "\rProcessing Files:  71%|\u001b[32m█████████████▌     \u001b[0m| 295/413 [3:10:40<1:26:34, 44.02s/it]\u001b[0m"
          ]
        },
        {
          "output_type": "stream",
          "name": "stdout",
          "text": [
            "107\n"
          ]
        },
        {
          "output_type": "stream",
          "name": "stderr",
          "text": [
            "\rProcessing Files:  72%|\u001b[32m█████████████▌     \u001b[0m| 296/413 [3:11:23<1:25:06, 43.65s/it]\u001b[0m"
          ]
        },
        {
          "output_type": "stream",
          "name": "stdout",
          "text": [
            "108\n"
          ]
        },
        {
          "output_type": "stream",
          "name": "stderr",
          "text": [
            "\rProcessing Files:  72%|\u001b[32m█████████████▋     \u001b[0m| 297/413 [3:12:06<1:23:54, 43.40s/it]\u001b[0m"
          ]
        },
        {
          "output_type": "stream",
          "name": "stdout",
          "text": [
            "100\n"
          ]
        },
        {
          "output_type": "stream",
          "name": "stderr",
          "text": [
            "\rProcessing Files:  72%|\u001b[32m█████████████▋     \u001b[0m| 298/413 [3:12:49<1:23:18, 43.46s/it]\u001b[0m"
          ]
        },
        {
          "output_type": "stream",
          "name": "stdout",
          "text": [
            "107\n"
          ]
        },
        {
          "output_type": "stream",
          "name": "stderr",
          "text": [
            "\rProcessing Files:  72%|\u001b[32m█████████████▊     \u001b[0m| 299/413 [3:13:34<1:23:22, 43.88s/it]\u001b[0m"
          ]
        },
        {
          "output_type": "stream",
          "name": "stdout",
          "text": [
            "86\n",
            "1000\n"
          ]
        },
        {
          "output_type": "stream",
          "name": "stderr",
          "text": [
            "\rProcessing Files:  73%|\u001b[32m█████████████▊     \u001b[0m| 301/413 [3:14:21<1:04:24, 34.50s/it]\u001b[0m"
          ]
        },
        {
          "output_type": "stream",
          "name": "stdout",
          "text": [
            "85\n"
          ]
        },
        {
          "output_type": "stream",
          "name": "stderr",
          "text": [
            "\rProcessing Files:  73%|\u001b[32m█████████████▉     \u001b[0m| 302/413 [3:15:05<1:07:54, 36.71s/it]\u001b[0m"
          ]
        },
        {
          "output_type": "stream",
          "name": "stdout",
          "text": [
            "12\n",
            "493\n"
          ]
        },
        {
          "output_type": "stream",
          "name": "stderr",
          "text": [
            "\rProcessing Files:  74%|\u001b[32m███████████████▍     \u001b[0m| 304/413 [3:15:49<55:35, 30.60s/it]\u001b[0m"
          ]
        },
        {
          "output_type": "stream",
          "name": "stdout",
          "text": [
            "68\n"
          ]
        },
        {
          "output_type": "stream",
          "name": "stderr",
          "text": [
            "\rProcessing Files:  74%|\u001b[32m██████████████     \u001b[0m| 305/413 [3:16:32<1:00:34, 33.65s/it]\u001b[0m"
          ]
        },
        {
          "output_type": "stream",
          "name": "stdout",
          "text": [
            "87\n"
          ]
        },
        {
          "output_type": "stream",
          "name": "stderr",
          "text": [
            "\rProcessing Files:  74%|\u001b[32m██████████████     \u001b[0m| 306/413 [3:17:15<1:03:55, 35.84s/it]\u001b[0m"
          ]
        },
        {
          "output_type": "stream",
          "name": "stdout",
          "text": [
            "105\n"
          ]
        },
        {
          "output_type": "stream",
          "name": "stderr",
          "text": [
            "\rProcessing Files:  74%|\u001b[32m██████████████     \u001b[0m| 307/413 [3:18:00<1:07:44, 38.35s/it]\u001b[0m"
          ]
        },
        {
          "output_type": "stream",
          "name": "stdout",
          "text": [
            "65\n"
          ]
        },
        {
          "output_type": "stream",
          "name": "stderr",
          "text": [
            "\rProcessing Files:  75%|\u001b[32m██████████████▏    \u001b[0m| 308/413 [3:18:44<1:09:36, 39.78s/it]\u001b[0m"
          ]
        },
        {
          "output_type": "stream",
          "name": "stdout",
          "text": [
            "87\n"
          ]
        },
        {
          "output_type": "stream",
          "name": "stderr",
          "text": [
            "\rProcessing Files:  75%|\u001b[32m██████████████▏    \u001b[0m| 309/413 [3:19:28<1:11:01, 40.98s/it]\u001b[0m"
          ]
        },
        {
          "output_type": "stream",
          "name": "stdout",
          "text": [
            "90\n"
          ]
        },
        {
          "output_type": "stream",
          "name": "stderr",
          "text": [
            "\rProcessing Files:  75%|\u001b[32m██████████████▎    \u001b[0m| 310/413 [3:20:11<1:11:15, 41.51s/it]\u001b[0m"
          ]
        },
        {
          "output_type": "stream",
          "name": "stdout",
          "text": [
            "123\n"
          ]
        },
        {
          "output_type": "stream",
          "name": "stderr",
          "text": [
            "\rProcessing Files:  75%|\u001b[32m██████████████▎    \u001b[0m| 311/413 [3:20:54<1:11:04, 41.81s/it]\u001b[0m"
          ]
        },
        {
          "output_type": "stream",
          "name": "stdout",
          "text": [
            "105\n"
          ]
        },
        {
          "output_type": "stream",
          "name": "stderr",
          "text": [
            "\rProcessing Files:  76%|\u001b[32m██████████████▎    \u001b[0m| 312/413 [3:21:37<1:11:11, 42.29s/it]\u001b[0m"
          ]
        },
        {
          "output_type": "stream",
          "name": "stdout",
          "text": [
            "109\n"
          ]
        },
        {
          "output_type": "stream",
          "name": "stderr",
          "text": [
            "\rProcessing Files:  76%|\u001b[32m██████████████▍    \u001b[0m| 313/413 [3:22:23<1:12:15, 43.36s/it]\u001b[0m"
          ]
        },
        {
          "output_type": "stream",
          "name": "stdout",
          "text": [
            "61\n"
          ]
        },
        {
          "output_type": "stream",
          "name": "stderr",
          "text": [
            "\rProcessing Files:  76%|\u001b[32m██████████████▍    \u001b[0m| 314/413 [3:23:07<1:11:45, 43.49s/it]\u001b[0m"
          ]
        },
        {
          "output_type": "stream",
          "name": "stdout",
          "text": [
            "106\n",
            "1000\n"
          ]
        },
        {
          "output_type": "stream",
          "name": "stderr",
          "text": [
            "\rProcessing Files:  77%|\u001b[32m████████████████     \u001b[0m| 316/413 [3:23:51<54:25, 33.66s/it]\u001b[0m"
          ]
        },
        {
          "output_type": "stream",
          "name": "stdout",
          "text": [
            "92\n"
          ]
        },
        {
          "output_type": "stream",
          "name": "stderr",
          "text": [
            "Processing Files:  77%|\u001b[32m████████████████▏    \u001b[0m| 318/413 [3:24:34<42:07, 26.61s/it]\u001b[0m"
          ]
        },
        {
          "output_type": "stream",
          "name": "stdout",
          "text": [
            "88\n",
            "1000\n",
            "1000\n"
          ]
        },
        {
          "output_type": "stream",
          "name": "stderr",
          "text": [
            "\rProcessing Files:  77%|\u001b[32m████████████████▎    \u001b[0m| 320/413 [3:25:17<37:48, 24.39s/it]\u001b[0m"
          ]
        },
        {
          "output_type": "stream",
          "name": "stdout",
          "text": [
            "113\n"
          ]
        },
        {
          "output_type": "stream",
          "name": "stderr",
          "text": [
            "\rProcessing Files:  78%|\u001b[32m████████████████▎    \u001b[0m| 321/413 [3:26:00<44:19, 28.90s/it]\u001b[0m"
          ]
        },
        {
          "output_type": "stream",
          "name": "stdout",
          "text": [
            "70\n"
          ]
        },
        {
          "output_type": "stream",
          "name": "stderr",
          "text": [
            "\rProcessing Files:  78%|\u001b[32m████████████████▎    \u001b[0m| 322/413 [3:26:48<50:45, 33.47s/it]\u001b[0m"
          ]
        },
        {
          "output_type": "stream",
          "name": "stdout",
          "text": [
            "60\n"
          ]
        },
        {
          "output_type": "stream",
          "name": "stderr",
          "text": [
            "\rProcessing Files:  78%|\u001b[32m████████████████▍    \u001b[0m| 323/413 [3:27:32<54:34, 36.38s/it]\u001b[0m"
          ]
        },
        {
          "output_type": "stream",
          "name": "stdout",
          "text": [
            "116\n"
          ]
        },
        {
          "output_type": "stream",
          "name": "stderr",
          "text": [
            "\rProcessing Files:  78%|\u001b[32m████████████████▍    \u001b[0m| 324/413 [3:28:15<56:31, 38.10s/it]\u001b[0m"
          ]
        },
        {
          "output_type": "stream",
          "name": "stdout",
          "text": [
            "115\n"
          ]
        },
        {
          "output_type": "stream",
          "name": "stderr",
          "text": [
            "\rProcessing Files:  79%|\u001b[32m████████████████▌    \u001b[0m| 325/413 [3:28:57<57:46, 39.39s/it]\u001b[0m"
          ]
        },
        {
          "output_type": "stream",
          "name": "stdout",
          "text": [
            "79\n"
          ]
        },
        {
          "output_type": "stream",
          "name": "stderr",
          "text": [
            "\rProcessing Files:  79%|\u001b[32m████████████████▌    \u001b[0m| 326/413 [3:29:41<58:54, 40.63s/it]\u001b[0m"
          ]
        },
        {
          "output_type": "stream",
          "name": "stdout",
          "text": [
            "109\n"
          ]
        },
        {
          "output_type": "stream",
          "name": "stderr",
          "text": [
            "\rProcessing Files:  79%|\u001b[32m███████████████    \u001b[0m| 327/413 [3:30:29<1:01:04, 42.61s/it]\u001b[0m"
          ]
        },
        {
          "output_type": "stream",
          "name": "stdout",
          "text": [
            "83\n"
          ]
        },
        {
          "output_type": "stream",
          "name": "stderr",
          "text": [
            "\rProcessing Files:  79%|\u001b[32m███████████████    \u001b[0m| 328/413 [3:31:11<1:00:27, 42.67s/it]\u001b[0m"
          ]
        },
        {
          "output_type": "stream",
          "name": "stdout",
          "text": [
            "82\n"
          ]
        },
        {
          "output_type": "stream",
          "name": "stderr",
          "text": [
            "\rProcessing Files:  80%|\u001b[32m████████████████▋    \u001b[0m| 329/413 [3:31:54<59:51, 42.76s/it]\u001b[0m"
          ]
        },
        {
          "output_type": "stream",
          "name": "stdout",
          "text": [
            "99\n"
          ]
        },
        {
          "output_type": "stream",
          "name": "stderr",
          "text": [
            "\rProcessing Files:  80%|\u001b[32m████████████████▊    \u001b[0m| 330/413 [3:32:38<59:26, 42.96s/it]\u001b[0m"
          ]
        },
        {
          "output_type": "stream",
          "name": "stdout",
          "text": [
            "111\n"
          ]
        },
        {
          "output_type": "stream",
          "name": "stderr",
          "text": [
            "\rProcessing Files:  80%|\u001b[32m████████████████▊    \u001b[0m| 331/413 [3:33:23<59:35, 43.60s/it]\u001b[0m"
          ]
        },
        {
          "output_type": "stream",
          "name": "stdout",
          "text": [
            "103\n"
          ]
        },
        {
          "output_type": "stream",
          "name": "stderr",
          "text": [
            "\rProcessing Files:  80%|\u001b[32m████████████████▉    \u001b[0m| 332/413 [3:34:06<58:48, 43.57s/it]\u001b[0m"
          ]
        },
        {
          "output_type": "stream",
          "name": "stdout",
          "text": [
            "76\n"
          ]
        },
        {
          "output_type": "stream",
          "name": "stderr",
          "text": [
            "\rProcessing Files:  81%|\u001b[32m████████████████▉    \u001b[0m| 333/413 [3:34:52<58:58, 44.23s/it]\u001b[0m"
          ]
        },
        {
          "output_type": "stream",
          "name": "stdout",
          "text": [
            "99\n"
          ]
        },
        {
          "output_type": "stream",
          "name": "stderr",
          "text": [
            "\rProcessing Files:  81%|\u001b[32m████████████████▉    \u001b[0m| 334/413 [3:35:35<57:41, 43.82s/it]\u001b[0m"
          ]
        },
        {
          "output_type": "stream",
          "name": "stdout",
          "text": [
            "59\n"
          ]
        },
        {
          "output_type": "stream",
          "name": "stderr",
          "text": [
            "\rProcessing Files:  81%|\u001b[32m█████████████████    \u001b[0m| 335/413 [3:36:19<56:52, 43.75s/it]\u001b[0m"
          ]
        },
        {
          "output_type": "stream",
          "name": "stdout",
          "text": [
            "89\n"
          ]
        },
        {
          "output_type": "stream",
          "name": "stderr",
          "text": [
            "\rProcessing Files:  81%|\u001b[32m█████████████████    \u001b[0m| 336/413 [3:37:03<56:24, 43.95s/it]\u001b[0m"
          ]
        },
        {
          "output_type": "stream",
          "name": "stdout",
          "text": [
            "118\n"
          ]
        },
        {
          "output_type": "stream",
          "name": "stderr",
          "text": [
            "\rProcessing Files:  82%|\u001b[32m█████████████████▏   \u001b[0m| 337/413 [3:37:47<55:39, 43.95s/it]\u001b[0m"
          ]
        },
        {
          "output_type": "stream",
          "name": "stdout",
          "text": [
            "110\n"
          ]
        },
        {
          "output_type": "stream",
          "name": "stderr",
          "text": [
            "\rProcessing Files:  82%|\u001b[32m█████████████████▏   \u001b[0m| 338/413 [3:38:32<55:10, 44.15s/it]\u001b[0m"
          ]
        },
        {
          "output_type": "stream",
          "name": "stdout",
          "text": [
            "105\n"
          ]
        },
        {
          "output_type": "stream",
          "name": "stderr",
          "text": [
            "\rProcessing Files:  82%|\u001b[32m█████████████████▏   \u001b[0m| 339/413 [3:39:15<54:09, 43.91s/it]\u001b[0m"
          ]
        },
        {
          "output_type": "stream",
          "name": "stdout",
          "text": [
            "105\n"
          ]
        },
        {
          "output_type": "stream",
          "name": "stderr",
          "text": [
            "\rProcessing Files:  82%|\u001b[32m█████████████████▎   \u001b[0m| 340/413 [3:39:58<53:09, 43.69s/it]\u001b[0m"
          ]
        },
        {
          "output_type": "stream",
          "name": "stdout",
          "text": [
            "82\n"
          ]
        },
        {
          "output_type": "stream",
          "name": "stderr",
          "text": [
            "\rProcessing Files:  83%|\u001b[32m█████████████████▎   \u001b[0m| 341/413 [3:40:42<52:34, 43.82s/it]\u001b[0m"
          ]
        },
        {
          "output_type": "stream",
          "name": "stdout",
          "text": [
            "84\n",
            "1000\n"
          ]
        },
        {
          "output_type": "stream",
          "name": "stderr",
          "text": [
            "\rProcessing Files:  83%|\u001b[32m█████████████████▍   \u001b[0m| 343/413 [3:41:26<39:20, 33.72s/it]\u001b[0m"
          ]
        },
        {
          "output_type": "stream",
          "name": "stdout",
          "text": [
            "56\n"
          ]
        },
        {
          "output_type": "stream",
          "name": "stderr",
          "text": [
            "\rProcessing Files:  83%|\u001b[32m█████████████████▍   \u001b[0m| 344/413 [3:42:08<41:08, 35.78s/it]\u001b[0m"
          ]
        },
        {
          "output_type": "stream",
          "name": "stdout",
          "text": [
            "104\n"
          ]
        },
        {
          "output_type": "stream",
          "name": "stderr",
          "text": [
            "\rProcessing Files:  84%|\u001b[32m█████████████████▌   \u001b[0m| 345/413 [3:42:54<43:28, 38.36s/it]\u001b[0m"
          ]
        },
        {
          "output_type": "stream",
          "name": "stdout",
          "text": [
            "108\n"
          ]
        },
        {
          "output_type": "stream",
          "name": "stderr",
          "text": [
            "\rProcessing Files:  84%|\u001b[32m█████████████████▌   \u001b[0m| 346/413 [3:43:37<44:17, 39.67s/it]\u001b[0m"
          ]
        },
        {
          "output_type": "stream",
          "name": "stdout",
          "text": [
            "66\n"
          ]
        },
        {
          "output_type": "stream",
          "name": "stderr",
          "text": [
            "\rProcessing Files:  84%|\u001b[32m█████████████████▋   \u001b[0m| 347/413 [3:44:21<44:55, 40.84s/it]\u001b[0m"
          ]
        },
        {
          "output_type": "stream",
          "name": "stdout",
          "text": [
            "108\n"
          ]
        },
        {
          "output_type": "stream",
          "name": "stderr",
          "text": [
            "\rProcessing Files:  84%|\u001b[32m█████████████████▋   \u001b[0m| 348/413 [3:45:06<45:34, 42.08s/it]\u001b[0m"
          ]
        },
        {
          "output_type": "stream",
          "name": "stdout",
          "text": [
            "86\n"
          ]
        },
        {
          "output_type": "stream",
          "name": "stderr",
          "text": [
            "\rProcessing Files:  85%|\u001b[32m█████████████████▋   \u001b[0m| 349/413 [3:45:49<45:04, 42.25s/it]\u001b[0m"
          ]
        },
        {
          "output_type": "stream",
          "name": "stdout",
          "text": [
            "99\n"
          ]
        },
        {
          "output_type": "stream",
          "name": "stderr",
          "text": [
            "\rProcessing Files:  85%|\u001b[32m█████████████████▊   \u001b[0m| 350/413 [3:46:35<45:38, 43.47s/it]\u001b[0m"
          ]
        },
        {
          "output_type": "stream",
          "name": "stdout",
          "text": [
            "76\n"
          ]
        },
        {
          "output_type": "stream",
          "name": "stderr",
          "text": [
            "\rProcessing Files:  85%|\u001b[32m█████████████████▊   \u001b[0m| 351/413 [3:47:19<45:05, 43.64s/it]\u001b[0m"
          ]
        },
        {
          "output_type": "stream",
          "name": "stdout",
          "text": [
            "85\n"
          ]
        },
        {
          "output_type": "stream",
          "name": "stderr",
          "text": [
            "\rProcessing Files:  85%|\u001b[32m█████████████████▉   \u001b[0m| 352/413 [3:48:03<44:34, 43.84s/it]\u001b[0m"
          ]
        },
        {
          "output_type": "stream",
          "name": "stdout",
          "text": [
            "118\n"
          ]
        },
        {
          "output_type": "stream",
          "name": "stderr",
          "text": [
            "\rProcessing Files:  85%|\u001b[32m█████████████████▉   \u001b[0m| 353/413 [3:48:46<43:34, 43.58s/it]\u001b[0m"
          ]
        },
        {
          "output_type": "stream",
          "name": "stdout",
          "text": [
            "102\n"
          ]
        },
        {
          "output_type": "stream",
          "name": "stderr",
          "text": [
            "\rProcessing Files:  86%|\u001b[32m██████████████████   \u001b[0m| 354/413 [3:49:29<42:32, 43.26s/it]\u001b[0m"
          ]
        },
        {
          "output_type": "stream",
          "name": "stdout",
          "text": [
            "119\n"
          ]
        },
        {
          "output_type": "stream",
          "name": "stderr",
          "text": [
            "\rProcessing Files:  86%|\u001b[32m██████████████████   \u001b[0m| 355/413 [3:50:13<41:57, 43.41s/it]\u001b[0m"
          ]
        },
        {
          "output_type": "stream",
          "name": "stdout",
          "text": [
            "77\n"
          ]
        },
        {
          "output_type": "stream",
          "name": "stderr",
          "text": [
            "\rProcessing Files:  86%|\u001b[32m██████████████████   \u001b[0m| 356/413 [3:51:01<42:31, 44.76s/it]\u001b[0m"
          ]
        },
        {
          "output_type": "stream",
          "name": "stdout",
          "text": [
            "69\n"
          ]
        },
        {
          "output_type": "stream",
          "name": "stderr",
          "text": [
            "\rProcessing Files:  86%|\u001b[32m██████████████████▏  \u001b[0m| 357/413 [3:51:45<41:41, 44.67s/it]\u001b[0m"
          ]
        },
        {
          "output_type": "stream",
          "name": "stdout",
          "text": [
            "89\n"
          ]
        },
        {
          "output_type": "stream",
          "name": "stderr",
          "text": [
            "\rProcessing Files:  87%|\u001b[32m██████████████████▏  \u001b[0m| 358/413 [3:52:28<40:30, 44.19s/it]\u001b[0m"
          ]
        },
        {
          "output_type": "stream",
          "name": "stdout",
          "text": [
            "121\n"
          ]
        },
        {
          "output_type": "stream",
          "name": "stderr",
          "text": [
            "\rProcessing Files:  87%|\u001b[32m██████████████████▎  \u001b[0m| 359/413 [3:53:11<39:23, 43.77s/it]\u001b[0m"
          ]
        },
        {
          "output_type": "stream",
          "name": "stdout",
          "text": [
            "98\n"
          ]
        },
        {
          "output_type": "stream",
          "name": "stderr",
          "text": [
            "\rProcessing Files:  87%|\u001b[32m██████████████████▎  \u001b[0m| 360/413 [3:53:54<38:33, 43.65s/it]\u001b[0m"
          ]
        },
        {
          "output_type": "stream",
          "name": "stdout",
          "text": [
            "89\n"
          ]
        },
        {
          "output_type": "stream",
          "name": "stderr",
          "text": [
            "\rProcessing Files:  87%|\u001b[32m██████████████████▎  \u001b[0m| 361/413 [3:54:41<38:33, 44.48s/it]\u001b[0m"
          ]
        },
        {
          "output_type": "stream",
          "name": "stdout",
          "text": [
            "94\n"
          ]
        },
        {
          "output_type": "stream",
          "name": "stderr",
          "text": [
            "\rProcessing Files:  88%|\u001b[32m██████████████████▍  \u001b[0m| 362/413 [3:55:25<37:45, 44.41s/it]\u001b[0m"
          ]
        },
        {
          "output_type": "stream",
          "name": "stdout",
          "text": [
            "88\n"
          ]
        },
        {
          "output_type": "stream",
          "name": "stderr",
          "text": [
            "\rProcessing Files:  88%|\u001b[32m██████████████████▍  \u001b[0m| 363/413 [3:56:08<36:38, 43.97s/it]\u001b[0m"
          ]
        },
        {
          "output_type": "stream",
          "name": "stdout",
          "text": [
            "110\n"
          ]
        },
        {
          "output_type": "stream",
          "name": "stderr",
          "text": [
            "\rProcessing Files:  88%|\u001b[32m██████████████████▌  \u001b[0m| 364/413 [3:56:50<35:29, 43.47s/it]\u001b[0m"
          ]
        },
        {
          "output_type": "stream",
          "name": "stdout",
          "text": [
            "90\n"
          ]
        },
        {
          "output_type": "stream",
          "name": "stderr",
          "text": [
            "\rProcessing Files:  88%|\u001b[32m██████████████████▌  \u001b[0m| 365/413 [3:57:33<34:42, 43.38s/it]\u001b[0m"
          ]
        },
        {
          "output_type": "stream",
          "name": "stdout",
          "text": [
            "115\n"
          ]
        },
        {
          "output_type": "stream",
          "name": "stderr",
          "text": [
            "\rProcessing Files:  89%|\u001b[32m██████████████████▌  \u001b[0m| 366/413 [3:58:20<34:46, 44.40s/it]\u001b[0m"
          ]
        },
        {
          "output_type": "stream",
          "name": "stdout",
          "text": [
            "80\n"
          ]
        },
        {
          "output_type": "stream",
          "name": "stderr",
          "text": [
            "\rProcessing Files:  89%|\u001b[32m██████████████████▋  \u001b[0m| 367/413 [3:59:04<33:53, 44.20s/it]\u001b[0m"
          ]
        },
        {
          "output_type": "stream",
          "name": "stdout",
          "text": [
            "107\n"
          ]
        },
        {
          "output_type": "stream",
          "name": "stderr",
          "text": [
            "\rProcessing Files:  89%|\u001b[32m██████████████████▋  \u001b[0m| 368/413 [3:59:46<32:43, 43.62s/it]\u001b[0m"
          ]
        },
        {
          "output_type": "stream",
          "name": "stdout",
          "text": [
            "122\n"
          ]
        },
        {
          "output_type": "stream",
          "name": "stderr",
          "text": [
            "\rProcessing Files:  89%|\u001b[32m██████████████████▊  \u001b[0m| 369/413 [4:00:29<31:52, 43.46s/it]\u001b[0m"
          ]
        },
        {
          "output_type": "stream",
          "name": "stdout",
          "text": [
            "98\n"
          ]
        },
        {
          "output_type": "stream",
          "name": "stderr",
          "text": [
            "\rProcessing Files:  90%|\u001b[32m██████████████████▊  \u001b[0m| 370/413 [4:01:13<31:12, 43.54s/it]\u001b[0m"
          ]
        },
        {
          "output_type": "stream",
          "name": "stdout",
          "text": [
            "89\n"
          ]
        },
        {
          "output_type": "stream",
          "name": "stderr",
          "text": [
            "\rProcessing Files:  90%|\u001b[32m██████████████████▊  \u001b[0m| 371/413 [4:01:57<30:35, 43.69s/it]\u001b[0m"
          ]
        },
        {
          "output_type": "stream",
          "name": "stdout",
          "text": [
            "103\n"
          ]
        },
        {
          "output_type": "stream",
          "name": "stderr",
          "text": [
            "\rProcessing Files:  90%|\u001b[32m██████████████████▉  \u001b[0m| 372/413 [4:02:44<30:30, 44.64s/it]\u001b[0m"
          ]
        },
        {
          "output_type": "stream",
          "name": "stdout",
          "text": [
            "71\n"
          ]
        },
        {
          "output_type": "stream",
          "name": "stderr",
          "text": [
            "\rProcessing Files:  90%|\u001b[32m██████████████████▉  \u001b[0m| 373/413 [4:03:27<29:30, 44.26s/it]\u001b[0m"
          ]
        },
        {
          "output_type": "stream",
          "name": "stdout",
          "text": [
            "69\n"
          ]
        },
        {
          "output_type": "stream",
          "name": "stderr",
          "text": [
            "\rProcessing Files:  91%|\u001b[32m███████████████████  \u001b[0m| 374/413 [4:04:11<28:42, 44.16s/it]\u001b[0m"
          ]
        },
        {
          "output_type": "stream",
          "name": "stdout",
          "text": [
            "69\n"
          ]
        },
        {
          "output_type": "stream",
          "name": "stderr",
          "text": [
            "\rProcessing Files:  91%|\u001b[32m███████████████████  \u001b[0m| 375/413 [4:04:55<27:56, 44.11s/it]\u001b[0m"
          ]
        },
        {
          "output_type": "stream",
          "name": "stdout",
          "text": [
            "81\n"
          ]
        },
        {
          "output_type": "stream",
          "name": "stderr",
          "text": [
            "\rProcessing Files:  91%|\u001b[32m███████████████████  \u001b[0m| 376/413 [4:05:38<26:56, 43.70s/it]\u001b[0m"
          ]
        },
        {
          "output_type": "stream",
          "name": "stdout",
          "text": [
            "78\n"
          ]
        },
        {
          "output_type": "stream",
          "name": "stderr",
          "text": [
            "\rProcessing Files:  91%|\u001b[32m███████████████████▏ \u001b[0m| 377/413 [4:06:23<26:30, 44.18s/it]\u001b[0m"
          ]
        },
        {
          "output_type": "stream",
          "name": "stdout",
          "text": [
            "50\n"
          ]
        },
        {
          "output_type": "stream",
          "name": "stderr",
          "text": [
            "\rProcessing Files:  92%|\u001b[32m███████████████████▏ \u001b[0m| 378/413 [4:07:07<25:43, 44.11s/it]\u001b[0m"
          ]
        },
        {
          "output_type": "stream",
          "name": "stdout",
          "text": [
            "88\n"
          ]
        },
        {
          "output_type": "stream",
          "name": "stderr",
          "text": [
            "\rProcessing Files:  92%|\u001b[32m███████████████████▎ \u001b[0m| 379/413 [4:07:51<24:59, 44.09s/it]\u001b[0m"
          ]
        },
        {
          "output_type": "stream",
          "name": "stdout",
          "text": [
            "108\n"
          ]
        },
        {
          "output_type": "stream",
          "name": "stderr",
          "text": [
            "\rProcessing Files:  92%|\u001b[32m███████████████████▎ \u001b[0m| 380/413 [4:08:34<24:01, 43.69s/it]\u001b[0m"
          ]
        },
        {
          "output_type": "stream",
          "name": "stdout",
          "text": [
            "106\n"
          ]
        },
        {
          "output_type": "stream",
          "name": "stderr",
          "text": [
            "\rProcessing Files:  92%|\u001b[32m███████████████████▎ \u001b[0m| 381/413 [4:09:17<23:08, 43.38s/it]\u001b[0m"
          ]
        },
        {
          "output_type": "stream",
          "name": "stdout",
          "text": [
            "109\n"
          ]
        },
        {
          "output_type": "stream",
          "name": "stderr",
          "text": [
            "\rProcessing Files:  92%|\u001b[32m███████████████████▍ \u001b[0m| 382/413 [4:10:03<22:49, 44.18s/it]\u001b[0m"
          ]
        },
        {
          "output_type": "stream",
          "name": "stdout",
          "text": [
            "121\n"
          ]
        },
        {
          "output_type": "stream",
          "name": "stderr",
          "text": [
            "\rProcessing Files:  93%|\u001b[32m███████████████████▍ \u001b[0m| 383/413 [4:10:47<22:09, 44.30s/it]\u001b[0m"
          ]
        },
        {
          "output_type": "stream",
          "name": "stdout",
          "text": [
            "80\n",
            "1000\n"
          ]
        },
        {
          "output_type": "stream",
          "name": "stderr",
          "text": [
            "\rProcessing Files:  93%|\u001b[32m███████████████████▌ \u001b[0m| 385/413 [4:11:31<15:48, 33.87s/it]\u001b[0m"
          ]
        },
        {
          "output_type": "stream",
          "name": "stdout",
          "text": [
            "109\n"
          ]
        },
        {
          "output_type": "stream",
          "name": "stderr",
          "text": [
            "\rProcessing Files:  93%|\u001b[32m███████████████████▋ \u001b[0m| 386/413 [4:12:13<16:10, 35.95s/it]\u001b[0m"
          ]
        },
        {
          "output_type": "stream",
          "name": "stdout",
          "text": [
            "112\n"
          ]
        },
        {
          "output_type": "stream",
          "name": "stderr",
          "text": [
            "\rProcessing Files:  94%|\u001b[32m███████████████████▋ \u001b[0m| 387/413 [4:12:56<16:22, 37.78s/it]\u001b[0m"
          ]
        },
        {
          "output_type": "stream",
          "name": "stdout",
          "text": [
            "82\n"
          ]
        },
        {
          "output_type": "stream",
          "name": "stderr",
          "text": [
            "\rProcessing Files:  94%|\u001b[32m███████████████████▋ \u001b[0m| 388/413 [4:13:40<16:27, 39.49s/it]\u001b[0m"
          ]
        },
        {
          "output_type": "stream",
          "name": "stdout",
          "text": [
            "92\n"
          ]
        },
        {
          "output_type": "stream",
          "name": "stderr",
          "text": [
            "\rProcessing Files:  94%|\u001b[32m███████████████████▊ \u001b[0m| 389/413 [4:14:26<16:31, 41.32s/it]\u001b[0m"
          ]
        },
        {
          "output_type": "stream",
          "name": "stdout",
          "text": [
            "101\n"
          ]
        },
        {
          "output_type": "stream",
          "name": "stderr",
          "text": [
            "\rProcessing Files:  94%|\u001b[32m███████████████████▊ \u001b[0m| 390/413 [4:15:10<16:10, 42.18s/it]\u001b[0m"
          ]
        },
        {
          "output_type": "stream",
          "name": "stdout",
          "text": [
            "92\n"
          ]
        },
        {
          "output_type": "stream",
          "name": "stderr",
          "text": [
            "\rProcessing Files:  95%|\u001b[32m███████████████████▉ \u001b[0m| 391/413 [4:15:53<15:33, 42.42s/it]\u001b[0m"
          ]
        },
        {
          "output_type": "stream",
          "name": "stdout",
          "text": [
            "64\n"
          ]
        },
        {
          "output_type": "stream",
          "name": "stderr",
          "text": [
            "\rProcessing Files:  95%|\u001b[32m███████████████████▉ \u001b[0m| 392/413 [4:16:36<14:51, 42.45s/it]\u001b[0m"
          ]
        },
        {
          "output_type": "stream",
          "name": "stdout",
          "text": [
            "91\n"
          ]
        },
        {
          "output_type": "stream",
          "name": "stderr",
          "text": [
            "\rProcessing Files:  95%|\u001b[32m███████████████████▉ \u001b[0m| 393/413 [4:17:19<14:14, 42.73s/it]\u001b[0m"
          ]
        },
        {
          "output_type": "stream",
          "name": "stdout",
          "text": [
            "97\n"
          ]
        },
        {
          "output_type": "stream",
          "name": "stderr",
          "text": [
            "\rProcessing Files:  95%|\u001b[32m████████████████████ \u001b[0m| 394/413 [4:18:07<13:59, 44.17s/it]\u001b[0m"
          ]
        },
        {
          "output_type": "stream",
          "name": "stdout",
          "text": [
            "95\n"
          ]
        },
        {
          "output_type": "stream",
          "name": "stderr",
          "text": [
            "\rProcessing Files:  96%|\u001b[32m████████████████████ \u001b[0m| 395/413 [4:18:51<13:13, 44.09s/it]\u001b[0m"
          ]
        },
        {
          "output_type": "stream",
          "name": "stdout",
          "text": [
            "83\n"
          ]
        },
        {
          "output_type": "stream",
          "name": "stderr",
          "text": [
            "\rProcessing Files:  96%|\u001b[32m████████████████████▏\u001b[0m| 396/413 [4:19:33<12:21, 43.65s/it]\u001b[0m"
          ]
        },
        {
          "output_type": "stream",
          "name": "stdout",
          "text": [
            "79\n"
          ]
        },
        {
          "output_type": "stream",
          "name": "stderr",
          "text": [
            "\rProcessing Files:  96%|\u001b[32m████████████████████▏\u001b[0m| 397/413 [4:20:16<11:34, 43.41s/it]\u001b[0m"
          ]
        },
        {
          "output_type": "stream",
          "name": "stdout",
          "text": [
            "106\n"
          ]
        },
        {
          "output_type": "stream",
          "name": "stderr",
          "text": [
            "\rProcessing Files:  96%|\u001b[32m████████████████████▏\u001b[0m| 398/413 [4:21:00<10:52, 43.53s/it]\u001b[0m"
          ]
        },
        {
          "output_type": "stream",
          "name": "stdout",
          "text": [
            "85\n"
          ]
        },
        {
          "output_type": "stream",
          "name": "stderr",
          "text": [
            "\rProcessing Files:  97%|\u001b[32m████████████████████▎\u001b[0m| 399/413 [4:21:47<10:22, 44.45s/it]\u001b[0m"
          ]
        },
        {
          "output_type": "stream",
          "name": "stdout",
          "text": [
            "64\n"
          ]
        },
        {
          "output_type": "stream",
          "name": "stderr",
          "text": [
            "\rProcessing Files:  97%|\u001b[32m████████████████████▎\u001b[0m| 400/413 [4:22:31<09:36, 44.35s/it]\u001b[0m"
          ]
        },
        {
          "output_type": "stream",
          "name": "stdout",
          "text": [
            "70\n"
          ]
        },
        {
          "output_type": "stream",
          "name": "stderr",
          "text": [
            "\rProcessing Files:  97%|\u001b[32m████████████████████▍\u001b[0m| 401/413 [4:23:13<08:45, 43.81s/it]\u001b[0m"
          ]
        },
        {
          "output_type": "stream",
          "name": "stdout",
          "text": [
            "69\n"
          ]
        },
        {
          "output_type": "stream",
          "name": "stderr",
          "text": [
            "\rProcessing Files:  97%|\u001b[32m████████████████████▍\u001b[0m| 402/413 [4:23:56<07:59, 43.56s/it]\u001b[0m"
          ]
        },
        {
          "output_type": "stream",
          "name": "stdout",
          "text": [
            "66\n"
          ]
        },
        {
          "output_type": "stream",
          "name": "stderr",
          "text": [
            "\rProcessing Files:  98%|\u001b[32m████████████████████▍\u001b[0m| 403/413 [4:24:40<07:16, 43.61s/it]\u001b[0m"
          ]
        },
        {
          "output_type": "stream",
          "name": "stdout",
          "text": [
            "119\n"
          ]
        },
        {
          "output_type": "stream",
          "name": "stderr",
          "text": [
            "\rProcessing Files:  98%|\u001b[32m████████████████████▌\u001b[0m| 404/413 [4:25:27<06:41, 44.56s/it]\u001b[0m"
          ]
        },
        {
          "output_type": "stream",
          "name": "stdout",
          "text": [
            "87\n"
          ]
        },
        {
          "output_type": "stream",
          "name": "stderr",
          "text": [
            "\rProcessing Files:  98%|\u001b[32m████████████████████▌\u001b[0m| 405/413 [4:26:10<05:52, 44.09s/it]\u001b[0m"
          ]
        },
        {
          "output_type": "stream",
          "name": "stdout",
          "text": [
            "89\n"
          ]
        },
        {
          "output_type": "stream",
          "name": "stderr",
          "text": [
            "\rProcessing Files:  98%|\u001b[32m████████████████████▋\u001b[0m| 406/413 [4:26:52<05:04, 43.54s/it]\u001b[0m"
          ]
        },
        {
          "output_type": "stream",
          "name": "stdout",
          "text": [
            "100\n"
          ]
        },
        {
          "output_type": "stream",
          "name": "stderr",
          "text": [
            "\rProcessing Files:  99%|\u001b[32m████████████████████▋\u001b[0m| 407/413 [4:27:35<04:20, 43.47s/it]\u001b[0m"
          ]
        },
        {
          "output_type": "stream",
          "name": "stdout",
          "text": [
            "89\n"
          ]
        },
        {
          "output_type": "stream",
          "name": "stderr",
          "text": [
            "\rProcessing Files:  99%|\u001b[32m████████████████████▋\u001b[0m| 408/413 [4:28:20<03:38, 43.70s/it]\u001b[0m"
          ]
        },
        {
          "output_type": "stream",
          "name": "stdout",
          "text": [
            "75\n",
            "675\n"
          ]
        },
        {
          "output_type": "stream",
          "name": "stderr",
          "text": [
            "\rProcessing Files:  99%|\u001b[32m████████████████████▊\u001b[0m| 410/413 [4:29:05<01:42, 34.01s/it]\u001b[0m"
          ]
        },
        {
          "output_type": "stream",
          "name": "stdout",
          "text": [
            "104\n"
          ]
        },
        {
          "output_type": "stream",
          "name": "stderr",
          "text": [
            "\rProcessing Files: 100%|\u001b[32m████████████████████▉\u001b[0m| 411/413 [4:29:49<01:13, 36.55s/it]\u001b[0m"
          ]
        },
        {
          "output_type": "stream",
          "name": "stdout",
          "text": [
            "89\n"
          ]
        },
        {
          "output_type": "stream",
          "name": "stderr",
          "text": [
            "Processing Files: 100%|\u001b[32m█████████████████████\u001b[0m| 413/413 [4:30:31<00:00, 39.30s/it]\u001b[0m"
          ]
        },
        {
          "output_type": "stream",
          "name": "stdout",
          "text": [
            "118\n",
            "1000\n"
          ]
        },
        {
          "output_type": "stream",
          "name": "stderr",
          "text": [
            "\n"
          ]
        }
      ],
      "source": [
        "os.makedirs(system_summary_dir)\n",
        "#large_files=['4115','4117','31014']\n",
        "total_files = len(os.listdir(os.path.join(dir_, annual_reports_dir)))\n",
        "for file in tqdm(os.listdir(os.path.join(dir_, annual_reports_dir)), desc=\"Processing Files\", total=total_files, ncols=80, colour='green', leave=True):\n",
        "    try:\n",
        "        file_id = file.split('.')[0]\n",
        "        relevant_sections_with_score = get_relevant_sections_with_score(file_id)\n",
        "        # Section order is maintained\n",
        "        relevant_sections = relevant_sections_with_score['toc_section']\n",
        "        #print(file_id, relevant_sections)\n",
        "        summary = \"\"\n",
        "        if relevant_sections:\n",
        "            #print('Relevant Section Found in ', file_id)\n",
        "            for section in relevant_sections:\n",
        "                summary = summary + \" \" + extract_section_body(file_id, section, dir_, annual_reports_dir, toc_loc_pkl_file_path)\n",
        "            summary_split = summary.split(' ')\n",
        "            number_of_words = len(summary_split)\n",
        "            #print(f\"Number of words in narrative sections of {file_id}: \",number_of_words)\n",
        "            if number_of_words > 20000:\n",
        "              summary = \" \".join(summary_split[:1000])\n",
        "            elif number_of_words > 1000:\n",
        "                summary = summarize(summary)#\" \".join(summary_split[:1000])\n",
        "                summary_split = summary.split(' ')\n",
        "                summary = \" \".join(summary_split[:1000])\n",
        "\n",
        "        else:\n",
        "            #print('Relevant Section Not Found in ', file_id)\n",
        "            summary = open(os.path.join(dir_, annual_reports_dir, file), \"r\", encoding=\"utf-8\").read()\n",
        "            summary_split = summary.split(' ')\n",
        "            number_of_words = len(summary_split)\n",
        "            #print(number_of_words)\n",
        "            if number_of_words > 1000:\n",
        "                summary = \" \".join(summary_split[:1000])\n",
        "        summary_split = summary.split(' ')\n",
        "        number_of_words = len(summary_split)\n",
        "        print(number_of_words)\n",
        "        with open(os.path.join(system_summary_dir, file_id+'_'+team_name+'.txt'), 'w', encoding='utf-8') as f:\n",
        "            f.write(str(summary))\n",
        "\n",
        "        if \".DS_Store\" in file:\n",
        "            continue\n",
        "    except Exception as e:\n",
        "        print(file, e)"
      ]
    },
    {
      "cell_type": "code",
      "execution_count": null,
      "id": "e297d691",
      "metadata": {
        "colab": {
          "base_uri": "https://localhost:8080/"
        },
        "id": "e297d691",
        "outputId": "2d57d415-373a-4b87-d41c-3353bd14495c"
      },
      "outputs": [
        {
          "output_type": "stream",
          "name": "stdout",
          "text": [
            "Processing File Number:  0\n",
            "Processing File Number:  50\n",
            "Processing File Number:  100\n",
            "Processing File Number:  150\n",
            "Processing File Number:  200\n",
            "Processing File Number:  250\n",
            "Processing File Number:  300\n",
            "Processing File Number:  350\n",
            "Processing File Number:  400\n",
            "Number of files processed:  413\n",
            "{'rouge-1': {'p': 0.6602882333238651, 'r': 0.11734237359160422, 'f': 0.14872965358895418}, 'rouge-2': {'p': 0.343617364418775, 'r': 0.06763684738519223, 'f': 0.07873979202990374}}\n"
          ]
        }
      ],
      "source": [
        "if VALIDATION_DATASET:\n",
        "    gold_summary_dir_ =  os.path.join(dir_, gold_summary_dir)\n",
        "    rouge_scores = get_rouge_scores(system_summary_dir, gold_summary_dir_)\n",
        "    print(rouge_scores)"
      ]
    },
    {
      "cell_type": "code",
      "execution_count": null,
      "id": "b33d193a",
      "metadata": {
        "colab": {
          "base_uri": "https://localhost:8080/"
        },
        "id": "b33d193a",
        "outputId": "6205137a-5366-4cf2-96b5-cd2acc30ef11"
      },
      "outputs": [
        {
          "output_type": "execute_result",
          "data": {
            "text/plain": [
              "{'rouge-1': {'p': 0.6602882333238651,\n",
              "  'r': 0.11734237359160422,\n",
              "  'f': 0.14872965358895418},\n",
              " 'rouge-2': {'p': 0.343617364418775,\n",
              "  'r': 0.06763684738519223,\n",
              "  'f': 0.07873979202990374}}"
            ]
          },
          "metadata": {},
          "execution_count": 27
        }
      ],
      "source": [
        "rouge_scores"
      ]
    },
    {
      "cell_type": "code",
      "source": [
        "import shutil\n",
        "source_folder = '/content/section_combined_by_position_BART'\n",
        "destination_folder = '/content/drive/MyDrive/NLP_Project/section_combined_by_position_BART'\n",
        "\n",
        "shutil.copytree(source_folder, destination_folder)"
      ],
      "metadata": {
        "id": "tyaLygoUiPW4",
        "colab": {
          "base_uri": "https://localhost:8080/",
          "height": 36
        },
        "outputId": "49329956-9f4b-4fe6-cd8b-68ee82c20199"
      },
      "id": "tyaLygoUiPW4",
      "execution_count": null,
      "outputs": [
        {
          "output_type": "execute_result",
          "data": {
            "text/plain": [
              "'/content/drive/MyDrive/NLP_Project/section_combined_by_position_BART'"
            ],
            "application/vnd.google.colaboratory.intrinsic+json": {
              "type": "string"
            }
          },
          "metadata": {},
          "execution_count": 28
        }
      ]
    }
  ],
  "metadata": {
    "kernelspec": {
      "display_name": "Python 3",
      "name": "python3"
    },
    "language_info": {
      "codemirror_mode": {
        "name": "ipython",
        "version": 3
      },
      "file_extension": ".py",
      "mimetype": "text/x-python",
      "name": "python",
      "nbconvert_exporter": "python",
      "pygments_lexer": "ipython3",
      "version": "3.9.13"
    },
    "colab": {
      "provenance": []
    },
    "widgets": {
      "application/vnd.jupyter.widget-state+json": {
        "eb4961a0c0d94efaa86d8c0c5b7f7ee6": {
          "model_module": "@jupyter-widgets/controls",
          "model_name": "HBoxModel",
          "model_module_version": "1.5.0",
          "state": {
            "_dom_classes": [],
            "_model_module": "@jupyter-widgets/controls",
            "_model_module_version": "1.5.0",
            "_model_name": "HBoxModel",
            "_view_count": null,
            "_view_module": "@jupyter-widgets/controls",
            "_view_module_version": "1.5.0",
            "_view_name": "HBoxView",
            "box_style": "",
            "children": [
              "IPY_MODEL_dc004b05dd464688addabf7cdc270403",
              "IPY_MODEL_266c3eaf58494822bc2a01fc0898ceaf",
              "IPY_MODEL_7f40838c10cf41b09016719514eeeed2"
            ],
            "layout": "IPY_MODEL_aafeeaf19cb8465daba7537e7076ad56"
          }
        },
        "dc004b05dd464688addabf7cdc270403": {
          "model_module": "@jupyter-widgets/controls",
          "model_name": "HTMLModel",
          "model_module_version": "1.5.0",
          "state": {
            "_dom_classes": [],
            "_model_module": "@jupyter-widgets/controls",
            "_model_module_version": "1.5.0",
            "_model_name": "HTMLModel",
            "_view_count": null,
            "_view_module": "@jupyter-widgets/controls",
            "_view_module_version": "1.5.0",
            "_view_name": "HTMLView",
            "description": "",
            "description_tooltip": null,
            "layout": "IPY_MODEL_b20234dc88584e16938cb297f371b349",
            "placeholder": "​",
            "style": "IPY_MODEL_54f2e8f11f4e40c2a4b7f291e5d8332b",
            "value": "Downloading (…)olve/main/vocab.json: 100%"
          }
        },
        "266c3eaf58494822bc2a01fc0898ceaf": {
          "model_module": "@jupyter-widgets/controls",
          "model_name": "FloatProgressModel",
          "model_module_version": "1.5.0",
          "state": {
            "_dom_classes": [],
            "_model_module": "@jupyter-widgets/controls",
            "_model_module_version": "1.5.0",
            "_model_name": "FloatProgressModel",
            "_view_count": null,
            "_view_module": "@jupyter-widgets/controls",
            "_view_module_version": "1.5.0",
            "_view_name": "ProgressView",
            "bar_style": "success",
            "description": "",
            "description_tooltip": null,
            "layout": "IPY_MODEL_e52e88f467c14e309eef5f2207a689bf",
            "max": 898823,
            "min": 0,
            "orientation": "horizontal",
            "style": "IPY_MODEL_61965d7c20a64d6dac72067e55a4c407",
            "value": 898823
          }
        },
        "7f40838c10cf41b09016719514eeeed2": {
          "model_module": "@jupyter-widgets/controls",
          "model_name": "HTMLModel",
          "model_module_version": "1.5.0",
          "state": {
            "_dom_classes": [],
            "_model_module": "@jupyter-widgets/controls",
            "_model_module_version": "1.5.0",
            "_model_name": "HTMLModel",
            "_view_count": null,
            "_view_module": "@jupyter-widgets/controls",
            "_view_module_version": "1.5.0",
            "_view_name": "HTMLView",
            "description": "",
            "description_tooltip": null,
            "layout": "IPY_MODEL_3e7d9f1ebf8e4dc49d5f1b694de653d7",
            "placeholder": "​",
            "style": "IPY_MODEL_a61f5b2adb1748f88d3935b1e79a1486",
            "value": " 899k/899k [00:00&lt;00:00, 1.19MB/s]"
          }
        },
        "aafeeaf19cb8465daba7537e7076ad56": {
          "model_module": "@jupyter-widgets/base",
          "model_name": "LayoutModel",
          "model_module_version": "1.2.0",
          "state": {
            "_model_module": "@jupyter-widgets/base",
            "_model_module_version": "1.2.0",
            "_model_name": "LayoutModel",
            "_view_count": null,
            "_view_module": "@jupyter-widgets/base",
            "_view_module_version": "1.2.0",
            "_view_name": "LayoutView",
            "align_content": null,
            "align_items": null,
            "align_self": null,
            "border": null,
            "bottom": null,
            "display": null,
            "flex": null,
            "flex_flow": null,
            "grid_area": null,
            "grid_auto_columns": null,
            "grid_auto_flow": null,
            "grid_auto_rows": null,
            "grid_column": null,
            "grid_gap": null,
            "grid_row": null,
            "grid_template_areas": null,
            "grid_template_columns": null,
            "grid_template_rows": null,
            "height": null,
            "justify_content": null,
            "justify_items": null,
            "left": null,
            "margin": null,
            "max_height": null,
            "max_width": null,
            "min_height": null,
            "min_width": null,
            "object_fit": null,
            "object_position": null,
            "order": null,
            "overflow": null,
            "overflow_x": null,
            "overflow_y": null,
            "padding": null,
            "right": null,
            "top": null,
            "visibility": null,
            "width": null
          }
        },
        "b20234dc88584e16938cb297f371b349": {
          "model_module": "@jupyter-widgets/base",
          "model_name": "LayoutModel",
          "model_module_version": "1.2.0",
          "state": {
            "_model_module": "@jupyter-widgets/base",
            "_model_module_version": "1.2.0",
            "_model_name": "LayoutModel",
            "_view_count": null,
            "_view_module": "@jupyter-widgets/base",
            "_view_module_version": "1.2.0",
            "_view_name": "LayoutView",
            "align_content": null,
            "align_items": null,
            "align_self": null,
            "border": null,
            "bottom": null,
            "display": null,
            "flex": null,
            "flex_flow": null,
            "grid_area": null,
            "grid_auto_columns": null,
            "grid_auto_flow": null,
            "grid_auto_rows": null,
            "grid_column": null,
            "grid_gap": null,
            "grid_row": null,
            "grid_template_areas": null,
            "grid_template_columns": null,
            "grid_template_rows": null,
            "height": null,
            "justify_content": null,
            "justify_items": null,
            "left": null,
            "margin": null,
            "max_height": null,
            "max_width": null,
            "min_height": null,
            "min_width": null,
            "object_fit": null,
            "object_position": null,
            "order": null,
            "overflow": null,
            "overflow_x": null,
            "overflow_y": null,
            "padding": null,
            "right": null,
            "top": null,
            "visibility": null,
            "width": null
          }
        },
        "54f2e8f11f4e40c2a4b7f291e5d8332b": {
          "model_module": "@jupyter-widgets/controls",
          "model_name": "DescriptionStyleModel",
          "model_module_version": "1.5.0",
          "state": {
            "_model_module": "@jupyter-widgets/controls",
            "_model_module_version": "1.5.0",
            "_model_name": "DescriptionStyleModel",
            "_view_count": null,
            "_view_module": "@jupyter-widgets/base",
            "_view_module_version": "1.2.0",
            "_view_name": "StyleView",
            "description_width": ""
          }
        },
        "e52e88f467c14e309eef5f2207a689bf": {
          "model_module": "@jupyter-widgets/base",
          "model_name": "LayoutModel",
          "model_module_version": "1.2.0",
          "state": {
            "_model_module": "@jupyter-widgets/base",
            "_model_module_version": "1.2.0",
            "_model_name": "LayoutModel",
            "_view_count": null,
            "_view_module": "@jupyter-widgets/base",
            "_view_module_version": "1.2.0",
            "_view_name": "LayoutView",
            "align_content": null,
            "align_items": null,
            "align_self": null,
            "border": null,
            "bottom": null,
            "display": null,
            "flex": null,
            "flex_flow": null,
            "grid_area": null,
            "grid_auto_columns": null,
            "grid_auto_flow": null,
            "grid_auto_rows": null,
            "grid_column": null,
            "grid_gap": null,
            "grid_row": null,
            "grid_template_areas": null,
            "grid_template_columns": null,
            "grid_template_rows": null,
            "height": null,
            "justify_content": null,
            "justify_items": null,
            "left": null,
            "margin": null,
            "max_height": null,
            "max_width": null,
            "min_height": null,
            "min_width": null,
            "object_fit": null,
            "object_position": null,
            "order": null,
            "overflow": null,
            "overflow_x": null,
            "overflow_y": null,
            "padding": null,
            "right": null,
            "top": null,
            "visibility": null,
            "width": null
          }
        },
        "61965d7c20a64d6dac72067e55a4c407": {
          "model_module": "@jupyter-widgets/controls",
          "model_name": "ProgressStyleModel",
          "model_module_version": "1.5.0",
          "state": {
            "_model_module": "@jupyter-widgets/controls",
            "_model_module_version": "1.5.0",
            "_model_name": "ProgressStyleModel",
            "_view_count": null,
            "_view_module": "@jupyter-widgets/base",
            "_view_module_version": "1.2.0",
            "_view_name": "StyleView",
            "bar_color": null,
            "description_width": ""
          }
        },
        "3e7d9f1ebf8e4dc49d5f1b694de653d7": {
          "model_module": "@jupyter-widgets/base",
          "model_name": "LayoutModel",
          "model_module_version": "1.2.0",
          "state": {
            "_model_module": "@jupyter-widgets/base",
            "_model_module_version": "1.2.0",
            "_model_name": "LayoutModel",
            "_view_count": null,
            "_view_module": "@jupyter-widgets/base",
            "_view_module_version": "1.2.0",
            "_view_name": "LayoutView",
            "align_content": null,
            "align_items": null,
            "align_self": null,
            "border": null,
            "bottom": null,
            "display": null,
            "flex": null,
            "flex_flow": null,
            "grid_area": null,
            "grid_auto_columns": null,
            "grid_auto_flow": null,
            "grid_auto_rows": null,
            "grid_column": null,
            "grid_gap": null,
            "grid_row": null,
            "grid_template_areas": null,
            "grid_template_columns": null,
            "grid_template_rows": null,
            "height": null,
            "justify_content": null,
            "justify_items": null,
            "left": null,
            "margin": null,
            "max_height": null,
            "max_width": null,
            "min_height": null,
            "min_width": null,
            "object_fit": null,
            "object_position": null,
            "order": null,
            "overflow": null,
            "overflow_x": null,
            "overflow_y": null,
            "padding": null,
            "right": null,
            "top": null,
            "visibility": null,
            "width": null
          }
        },
        "a61f5b2adb1748f88d3935b1e79a1486": {
          "model_module": "@jupyter-widgets/controls",
          "model_name": "DescriptionStyleModel",
          "model_module_version": "1.5.0",
          "state": {
            "_model_module": "@jupyter-widgets/controls",
            "_model_module_version": "1.5.0",
            "_model_name": "DescriptionStyleModel",
            "_view_count": null,
            "_view_module": "@jupyter-widgets/base",
            "_view_module_version": "1.2.0",
            "_view_name": "StyleView",
            "description_width": ""
          }
        },
        "7f85f3e03c1a4b94b48311e78655198e": {
          "model_module": "@jupyter-widgets/controls",
          "model_name": "HBoxModel",
          "model_module_version": "1.5.0",
          "state": {
            "_dom_classes": [],
            "_model_module": "@jupyter-widgets/controls",
            "_model_module_version": "1.5.0",
            "_model_name": "HBoxModel",
            "_view_count": null,
            "_view_module": "@jupyter-widgets/controls",
            "_view_module_version": "1.5.0",
            "_view_name": "HBoxView",
            "box_style": "",
            "children": [
              "IPY_MODEL_8bc04a4e6f3041bf9d473a9cc26551d3",
              "IPY_MODEL_31154812aa03450b91a06672d6c1346b",
              "IPY_MODEL_d607875a8d19435b94809ae2722a2438"
            ],
            "layout": "IPY_MODEL_ac933dd362ba41f98c1f10d130865374"
          }
        },
        "8bc04a4e6f3041bf9d473a9cc26551d3": {
          "model_module": "@jupyter-widgets/controls",
          "model_name": "HTMLModel",
          "model_module_version": "1.5.0",
          "state": {
            "_dom_classes": [],
            "_model_module": "@jupyter-widgets/controls",
            "_model_module_version": "1.5.0",
            "_model_name": "HTMLModel",
            "_view_count": null,
            "_view_module": "@jupyter-widgets/controls",
            "_view_module_version": "1.5.0",
            "_view_name": "HTMLView",
            "description": "",
            "description_tooltip": null,
            "layout": "IPY_MODEL_4205b4ca32f340e6873ad1e02ae46a9b",
            "placeholder": "​",
            "style": "IPY_MODEL_508c9c73f3cf4fdeb9ef77c45fe08d37",
            "value": "Downloading (…)olve/main/merges.txt: 100%"
          }
        },
        "31154812aa03450b91a06672d6c1346b": {
          "model_module": "@jupyter-widgets/controls",
          "model_name": "FloatProgressModel",
          "model_module_version": "1.5.0",
          "state": {
            "_dom_classes": [],
            "_model_module": "@jupyter-widgets/controls",
            "_model_module_version": "1.5.0",
            "_model_name": "FloatProgressModel",
            "_view_count": null,
            "_view_module": "@jupyter-widgets/controls",
            "_view_module_version": "1.5.0",
            "_view_name": "ProgressView",
            "bar_style": "success",
            "description": "",
            "description_tooltip": null,
            "layout": "IPY_MODEL_95e44d869ba2411e97c35992135c11c0",
            "max": 456318,
            "min": 0,
            "orientation": "horizontal",
            "style": "IPY_MODEL_ce9edfe2052641148f351b589d575c4f",
            "value": 456318
          }
        },
        "d607875a8d19435b94809ae2722a2438": {
          "model_module": "@jupyter-widgets/controls",
          "model_name": "HTMLModel",
          "model_module_version": "1.5.0",
          "state": {
            "_dom_classes": [],
            "_model_module": "@jupyter-widgets/controls",
            "_model_module_version": "1.5.0",
            "_model_name": "HTMLModel",
            "_view_count": null,
            "_view_module": "@jupyter-widgets/controls",
            "_view_module_version": "1.5.0",
            "_view_name": "HTMLView",
            "description": "",
            "description_tooltip": null,
            "layout": "IPY_MODEL_eb126204a2284394abb7c65e73f44ce5",
            "placeholder": "​",
            "style": "IPY_MODEL_e86c8662901745f58e6277e119ddea85",
            "value": " 456k/456k [00:00&lt;00:00, 9.04MB/s]"
          }
        },
        "ac933dd362ba41f98c1f10d130865374": {
          "model_module": "@jupyter-widgets/base",
          "model_name": "LayoutModel",
          "model_module_version": "1.2.0",
          "state": {
            "_model_module": "@jupyter-widgets/base",
            "_model_module_version": "1.2.0",
            "_model_name": "LayoutModel",
            "_view_count": null,
            "_view_module": "@jupyter-widgets/base",
            "_view_module_version": "1.2.0",
            "_view_name": "LayoutView",
            "align_content": null,
            "align_items": null,
            "align_self": null,
            "border": null,
            "bottom": null,
            "display": null,
            "flex": null,
            "flex_flow": null,
            "grid_area": null,
            "grid_auto_columns": null,
            "grid_auto_flow": null,
            "grid_auto_rows": null,
            "grid_column": null,
            "grid_gap": null,
            "grid_row": null,
            "grid_template_areas": null,
            "grid_template_columns": null,
            "grid_template_rows": null,
            "height": null,
            "justify_content": null,
            "justify_items": null,
            "left": null,
            "margin": null,
            "max_height": null,
            "max_width": null,
            "min_height": null,
            "min_width": null,
            "object_fit": null,
            "object_position": null,
            "order": null,
            "overflow": null,
            "overflow_x": null,
            "overflow_y": null,
            "padding": null,
            "right": null,
            "top": null,
            "visibility": null,
            "width": null
          }
        },
        "4205b4ca32f340e6873ad1e02ae46a9b": {
          "model_module": "@jupyter-widgets/base",
          "model_name": "LayoutModel",
          "model_module_version": "1.2.0",
          "state": {
            "_model_module": "@jupyter-widgets/base",
            "_model_module_version": "1.2.0",
            "_model_name": "LayoutModel",
            "_view_count": null,
            "_view_module": "@jupyter-widgets/base",
            "_view_module_version": "1.2.0",
            "_view_name": "LayoutView",
            "align_content": null,
            "align_items": null,
            "align_self": null,
            "border": null,
            "bottom": null,
            "display": null,
            "flex": null,
            "flex_flow": null,
            "grid_area": null,
            "grid_auto_columns": null,
            "grid_auto_flow": null,
            "grid_auto_rows": null,
            "grid_column": null,
            "grid_gap": null,
            "grid_row": null,
            "grid_template_areas": null,
            "grid_template_columns": null,
            "grid_template_rows": null,
            "height": null,
            "justify_content": null,
            "justify_items": null,
            "left": null,
            "margin": null,
            "max_height": null,
            "max_width": null,
            "min_height": null,
            "min_width": null,
            "object_fit": null,
            "object_position": null,
            "order": null,
            "overflow": null,
            "overflow_x": null,
            "overflow_y": null,
            "padding": null,
            "right": null,
            "top": null,
            "visibility": null,
            "width": null
          }
        },
        "508c9c73f3cf4fdeb9ef77c45fe08d37": {
          "model_module": "@jupyter-widgets/controls",
          "model_name": "DescriptionStyleModel",
          "model_module_version": "1.5.0",
          "state": {
            "_model_module": "@jupyter-widgets/controls",
            "_model_module_version": "1.5.0",
            "_model_name": "DescriptionStyleModel",
            "_view_count": null,
            "_view_module": "@jupyter-widgets/base",
            "_view_module_version": "1.2.0",
            "_view_name": "StyleView",
            "description_width": ""
          }
        },
        "95e44d869ba2411e97c35992135c11c0": {
          "model_module": "@jupyter-widgets/base",
          "model_name": "LayoutModel",
          "model_module_version": "1.2.0",
          "state": {
            "_model_module": "@jupyter-widgets/base",
            "_model_module_version": "1.2.0",
            "_model_name": "LayoutModel",
            "_view_count": null,
            "_view_module": "@jupyter-widgets/base",
            "_view_module_version": "1.2.0",
            "_view_name": "LayoutView",
            "align_content": null,
            "align_items": null,
            "align_self": null,
            "border": null,
            "bottom": null,
            "display": null,
            "flex": null,
            "flex_flow": null,
            "grid_area": null,
            "grid_auto_columns": null,
            "grid_auto_flow": null,
            "grid_auto_rows": null,
            "grid_column": null,
            "grid_gap": null,
            "grid_row": null,
            "grid_template_areas": null,
            "grid_template_columns": null,
            "grid_template_rows": null,
            "height": null,
            "justify_content": null,
            "justify_items": null,
            "left": null,
            "margin": null,
            "max_height": null,
            "max_width": null,
            "min_height": null,
            "min_width": null,
            "object_fit": null,
            "object_position": null,
            "order": null,
            "overflow": null,
            "overflow_x": null,
            "overflow_y": null,
            "padding": null,
            "right": null,
            "top": null,
            "visibility": null,
            "width": null
          }
        },
        "ce9edfe2052641148f351b589d575c4f": {
          "model_module": "@jupyter-widgets/controls",
          "model_name": "ProgressStyleModel",
          "model_module_version": "1.5.0",
          "state": {
            "_model_module": "@jupyter-widgets/controls",
            "_model_module_version": "1.5.0",
            "_model_name": "ProgressStyleModel",
            "_view_count": null,
            "_view_module": "@jupyter-widgets/base",
            "_view_module_version": "1.2.0",
            "_view_name": "StyleView",
            "bar_color": null,
            "description_width": ""
          }
        },
        "eb126204a2284394abb7c65e73f44ce5": {
          "model_module": "@jupyter-widgets/base",
          "model_name": "LayoutModel",
          "model_module_version": "1.2.0",
          "state": {
            "_model_module": "@jupyter-widgets/base",
            "_model_module_version": "1.2.0",
            "_model_name": "LayoutModel",
            "_view_count": null,
            "_view_module": "@jupyter-widgets/base",
            "_view_module_version": "1.2.0",
            "_view_name": "LayoutView",
            "align_content": null,
            "align_items": null,
            "align_self": null,
            "border": null,
            "bottom": null,
            "display": null,
            "flex": null,
            "flex_flow": null,
            "grid_area": null,
            "grid_auto_columns": null,
            "grid_auto_flow": null,
            "grid_auto_rows": null,
            "grid_column": null,
            "grid_gap": null,
            "grid_row": null,
            "grid_template_areas": null,
            "grid_template_columns": null,
            "grid_template_rows": null,
            "height": null,
            "justify_content": null,
            "justify_items": null,
            "left": null,
            "margin": null,
            "max_height": null,
            "max_width": null,
            "min_height": null,
            "min_width": null,
            "object_fit": null,
            "object_position": null,
            "order": null,
            "overflow": null,
            "overflow_x": null,
            "overflow_y": null,
            "padding": null,
            "right": null,
            "top": null,
            "visibility": null,
            "width": null
          }
        },
        "e86c8662901745f58e6277e119ddea85": {
          "model_module": "@jupyter-widgets/controls",
          "model_name": "DescriptionStyleModel",
          "model_module_version": "1.5.0",
          "state": {
            "_model_module": "@jupyter-widgets/controls",
            "_model_module_version": "1.5.0",
            "_model_name": "DescriptionStyleModel",
            "_view_count": null,
            "_view_module": "@jupyter-widgets/base",
            "_view_module_version": "1.2.0",
            "_view_name": "StyleView",
            "description_width": ""
          }
        },
        "15ea7bf01cba445f9979708de1540378": {
          "model_module": "@jupyter-widgets/controls",
          "model_name": "HBoxModel",
          "model_module_version": "1.5.0",
          "state": {
            "_dom_classes": [],
            "_model_module": "@jupyter-widgets/controls",
            "_model_module_version": "1.5.0",
            "_model_name": "HBoxModel",
            "_view_count": null,
            "_view_module": "@jupyter-widgets/controls",
            "_view_module_version": "1.5.0",
            "_view_name": "HBoxView",
            "box_style": "",
            "children": [
              "IPY_MODEL_c1f7af5c7e5c4d64b10985093cc44a66",
              "IPY_MODEL_c0f93c8fb4c4447b8969feb2b612b932",
              "IPY_MODEL_ec87de78350242a7b4a78911c50faaf4"
            ],
            "layout": "IPY_MODEL_de13ccd303794acb8fdd14079754fdcf"
          }
        },
        "c1f7af5c7e5c4d64b10985093cc44a66": {
          "model_module": "@jupyter-widgets/controls",
          "model_name": "HTMLModel",
          "model_module_version": "1.5.0",
          "state": {
            "_dom_classes": [],
            "_model_module": "@jupyter-widgets/controls",
            "_model_module_version": "1.5.0",
            "_model_name": "HTMLModel",
            "_view_count": null,
            "_view_module": "@jupyter-widgets/controls",
            "_view_module_version": "1.5.0",
            "_view_name": "HTMLView",
            "description": "",
            "description_tooltip": null,
            "layout": "IPY_MODEL_59ae65ddeb4943efbf954ab5c795f190",
            "placeholder": "​",
            "style": "IPY_MODEL_7486605e1a604f0192af692b786db479",
            "value": "Downloading (…)/main/tokenizer.json: 100%"
          }
        },
        "c0f93c8fb4c4447b8969feb2b612b932": {
          "model_module": "@jupyter-widgets/controls",
          "model_name": "FloatProgressModel",
          "model_module_version": "1.5.0",
          "state": {
            "_dom_classes": [],
            "_model_module": "@jupyter-widgets/controls",
            "_model_module_version": "1.5.0",
            "_model_name": "FloatProgressModel",
            "_view_count": null,
            "_view_module": "@jupyter-widgets/controls",
            "_view_module_version": "1.5.0",
            "_view_name": "ProgressView",
            "bar_style": "success",
            "description": "",
            "description_tooltip": null,
            "layout": "IPY_MODEL_bad6de7426c24660b3db7cb47c085ca3",
            "max": 1355863,
            "min": 0,
            "orientation": "horizontal",
            "style": "IPY_MODEL_0bf40426d99a4148a57861394526b8eb",
            "value": 1355863
          }
        },
        "ec87de78350242a7b4a78911c50faaf4": {
          "model_module": "@jupyter-widgets/controls",
          "model_name": "HTMLModel",
          "model_module_version": "1.5.0",
          "state": {
            "_dom_classes": [],
            "_model_module": "@jupyter-widgets/controls",
            "_model_module_version": "1.5.0",
            "_model_name": "HTMLModel",
            "_view_count": null,
            "_view_module": "@jupyter-widgets/controls",
            "_view_module_version": "1.5.0",
            "_view_name": "HTMLView",
            "description": "",
            "description_tooltip": null,
            "layout": "IPY_MODEL_2b6916b72a8941ca9dd5a51c96048ed3",
            "placeholder": "​",
            "style": "IPY_MODEL_29a7f7588f9b475f96f8c825bc664baa",
            "value": " 1.36M/1.36M [00:00&lt;00:00, 1.44MB/s]"
          }
        },
        "de13ccd303794acb8fdd14079754fdcf": {
          "model_module": "@jupyter-widgets/base",
          "model_name": "LayoutModel",
          "model_module_version": "1.2.0",
          "state": {
            "_model_module": "@jupyter-widgets/base",
            "_model_module_version": "1.2.0",
            "_model_name": "LayoutModel",
            "_view_count": null,
            "_view_module": "@jupyter-widgets/base",
            "_view_module_version": "1.2.0",
            "_view_name": "LayoutView",
            "align_content": null,
            "align_items": null,
            "align_self": null,
            "border": null,
            "bottom": null,
            "display": null,
            "flex": null,
            "flex_flow": null,
            "grid_area": null,
            "grid_auto_columns": null,
            "grid_auto_flow": null,
            "grid_auto_rows": null,
            "grid_column": null,
            "grid_gap": null,
            "grid_row": null,
            "grid_template_areas": null,
            "grid_template_columns": null,
            "grid_template_rows": null,
            "height": null,
            "justify_content": null,
            "justify_items": null,
            "left": null,
            "margin": null,
            "max_height": null,
            "max_width": null,
            "min_height": null,
            "min_width": null,
            "object_fit": null,
            "object_position": null,
            "order": null,
            "overflow": null,
            "overflow_x": null,
            "overflow_y": null,
            "padding": null,
            "right": null,
            "top": null,
            "visibility": null,
            "width": null
          }
        },
        "59ae65ddeb4943efbf954ab5c795f190": {
          "model_module": "@jupyter-widgets/base",
          "model_name": "LayoutModel",
          "model_module_version": "1.2.0",
          "state": {
            "_model_module": "@jupyter-widgets/base",
            "_model_module_version": "1.2.0",
            "_model_name": "LayoutModel",
            "_view_count": null,
            "_view_module": "@jupyter-widgets/base",
            "_view_module_version": "1.2.0",
            "_view_name": "LayoutView",
            "align_content": null,
            "align_items": null,
            "align_self": null,
            "border": null,
            "bottom": null,
            "display": null,
            "flex": null,
            "flex_flow": null,
            "grid_area": null,
            "grid_auto_columns": null,
            "grid_auto_flow": null,
            "grid_auto_rows": null,
            "grid_column": null,
            "grid_gap": null,
            "grid_row": null,
            "grid_template_areas": null,
            "grid_template_columns": null,
            "grid_template_rows": null,
            "height": null,
            "justify_content": null,
            "justify_items": null,
            "left": null,
            "margin": null,
            "max_height": null,
            "max_width": null,
            "min_height": null,
            "min_width": null,
            "object_fit": null,
            "object_position": null,
            "order": null,
            "overflow": null,
            "overflow_x": null,
            "overflow_y": null,
            "padding": null,
            "right": null,
            "top": null,
            "visibility": null,
            "width": null
          }
        },
        "7486605e1a604f0192af692b786db479": {
          "model_module": "@jupyter-widgets/controls",
          "model_name": "DescriptionStyleModel",
          "model_module_version": "1.5.0",
          "state": {
            "_model_module": "@jupyter-widgets/controls",
            "_model_module_version": "1.5.0",
            "_model_name": "DescriptionStyleModel",
            "_view_count": null,
            "_view_module": "@jupyter-widgets/base",
            "_view_module_version": "1.2.0",
            "_view_name": "StyleView",
            "description_width": ""
          }
        },
        "bad6de7426c24660b3db7cb47c085ca3": {
          "model_module": "@jupyter-widgets/base",
          "model_name": "LayoutModel",
          "model_module_version": "1.2.0",
          "state": {
            "_model_module": "@jupyter-widgets/base",
            "_model_module_version": "1.2.0",
            "_model_name": "LayoutModel",
            "_view_count": null,
            "_view_module": "@jupyter-widgets/base",
            "_view_module_version": "1.2.0",
            "_view_name": "LayoutView",
            "align_content": null,
            "align_items": null,
            "align_self": null,
            "border": null,
            "bottom": null,
            "display": null,
            "flex": null,
            "flex_flow": null,
            "grid_area": null,
            "grid_auto_columns": null,
            "grid_auto_flow": null,
            "grid_auto_rows": null,
            "grid_column": null,
            "grid_gap": null,
            "grid_row": null,
            "grid_template_areas": null,
            "grid_template_columns": null,
            "grid_template_rows": null,
            "height": null,
            "justify_content": null,
            "justify_items": null,
            "left": null,
            "margin": null,
            "max_height": null,
            "max_width": null,
            "min_height": null,
            "min_width": null,
            "object_fit": null,
            "object_position": null,
            "order": null,
            "overflow": null,
            "overflow_x": null,
            "overflow_y": null,
            "padding": null,
            "right": null,
            "top": null,
            "visibility": null,
            "width": null
          }
        },
        "0bf40426d99a4148a57861394526b8eb": {
          "model_module": "@jupyter-widgets/controls",
          "model_name": "ProgressStyleModel",
          "model_module_version": "1.5.0",
          "state": {
            "_model_module": "@jupyter-widgets/controls",
            "_model_module_version": "1.5.0",
            "_model_name": "ProgressStyleModel",
            "_view_count": null,
            "_view_module": "@jupyter-widgets/base",
            "_view_module_version": "1.2.0",
            "_view_name": "StyleView",
            "bar_color": null,
            "description_width": ""
          }
        },
        "2b6916b72a8941ca9dd5a51c96048ed3": {
          "model_module": "@jupyter-widgets/base",
          "model_name": "LayoutModel",
          "model_module_version": "1.2.0",
          "state": {
            "_model_module": "@jupyter-widgets/base",
            "_model_module_version": "1.2.0",
            "_model_name": "LayoutModel",
            "_view_count": null,
            "_view_module": "@jupyter-widgets/base",
            "_view_module_version": "1.2.0",
            "_view_name": "LayoutView",
            "align_content": null,
            "align_items": null,
            "align_self": null,
            "border": null,
            "bottom": null,
            "display": null,
            "flex": null,
            "flex_flow": null,
            "grid_area": null,
            "grid_auto_columns": null,
            "grid_auto_flow": null,
            "grid_auto_rows": null,
            "grid_column": null,
            "grid_gap": null,
            "grid_row": null,
            "grid_template_areas": null,
            "grid_template_columns": null,
            "grid_template_rows": null,
            "height": null,
            "justify_content": null,
            "justify_items": null,
            "left": null,
            "margin": null,
            "max_height": null,
            "max_width": null,
            "min_height": null,
            "min_width": null,
            "object_fit": null,
            "object_position": null,
            "order": null,
            "overflow": null,
            "overflow_x": null,
            "overflow_y": null,
            "padding": null,
            "right": null,
            "top": null,
            "visibility": null,
            "width": null
          }
        },
        "29a7f7588f9b475f96f8c825bc664baa": {
          "model_module": "@jupyter-widgets/controls",
          "model_name": "DescriptionStyleModel",
          "model_module_version": "1.5.0",
          "state": {
            "_model_module": "@jupyter-widgets/controls",
            "_model_module_version": "1.5.0",
            "_model_name": "DescriptionStyleModel",
            "_view_count": null,
            "_view_module": "@jupyter-widgets/base",
            "_view_module_version": "1.2.0",
            "_view_name": "StyleView",
            "description_width": ""
          }
        },
        "883d109da27042ebac9ff49f2af7dabd": {
          "model_module": "@jupyter-widgets/controls",
          "model_name": "HBoxModel",
          "model_module_version": "1.5.0",
          "state": {
            "_dom_classes": [],
            "_model_module": "@jupyter-widgets/controls",
            "_model_module_version": "1.5.0",
            "_model_name": "HBoxModel",
            "_view_count": null,
            "_view_module": "@jupyter-widgets/controls",
            "_view_module_version": "1.5.0",
            "_view_name": "HBoxView",
            "box_style": "",
            "children": [
              "IPY_MODEL_309d1f08bc6a4895ac0d6b2d2f046630",
              "IPY_MODEL_22dadbf74afc4a8f9665e4dbc01c4ead",
              "IPY_MODEL_c481b226d8844f539e94742cfb21612c"
            ],
            "layout": "IPY_MODEL_5a77e3e09a5a4b0fa9eec6be7fc9d8b4"
          }
        },
        "309d1f08bc6a4895ac0d6b2d2f046630": {
          "model_module": "@jupyter-widgets/controls",
          "model_name": "HTMLModel",
          "model_module_version": "1.5.0",
          "state": {
            "_dom_classes": [],
            "_model_module": "@jupyter-widgets/controls",
            "_model_module_version": "1.5.0",
            "_model_name": "HTMLModel",
            "_view_count": null,
            "_view_module": "@jupyter-widgets/controls",
            "_view_module_version": "1.5.0",
            "_view_name": "HTMLView",
            "description": "",
            "description_tooltip": null,
            "layout": "IPY_MODEL_fee847238132498993348d5497992feb",
            "placeholder": "​",
            "style": "IPY_MODEL_c79d56e428524666a5068f95f357ca60",
            "value": "Downloading (…)lve/main/config.json: 100%"
          }
        },
        "22dadbf74afc4a8f9665e4dbc01c4ead": {
          "model_module": "@jupyter-widgets/controls",
          "model_name": "FloatProgressModel",
          "model_module_version": "1.5.0",
          "state": {
            "_dom_classes": [],
            "_model_module": "@jupyter-widgets/controls",
            "_model_module_version": "1.5.0",
            "_model_name": "FloatProgressModel",
            "_view_count": null,
            "_view_module": "@jupyter-widgets/controls",
            "_view_module_version": "1.5.0",
            "_view_name": "ProgressView",
            "bar_style": "success",
            "description": "",
            "description_tooltip": null,
            "layout": "IPY_MODEL_0a462ee8a4b94fdfbf5201a3711a3a05",
            "max": 1585,
            "min": 0,
            "orientation": "horizontal",
            "style": "IPY_MODEL_4e71aba998e44473b693a78820127499",
            "value": 1585
          }
        },
        "c481b226d8844f539e94742cfb21612c": {
          "model_module": "@jupyter-widgets/controls",
          "model_name": "HTMLModel",
          "model_module_version": "1.5.0",
          "state": {
            "_dom_classes": [],
            "_model_module": "@jupyter-widgets/controls",
            "_model_module_version": "1.5.0",
            "_model_name": "HTMLModel",
            "_view_count": null,
            "_view_module": "@jupyter-widgets/controls",
            "_view_module_version": "1.5.0",
            "_view_name": "HTMLView",
            "description": "",
            "description_tooltip": null,
            "layout": "IPY_MODEL_61f536d7a87b4e2889ad402e4a4c017f",
            "placeholder": "​",
            "style": "IPY_MODEL_5ecdbb2e822149e6bb07cd11d55d2101",
            "value": " 1.58k/1.58k [00:00&lt;00:00, 67.6kB/s]"
          }
        },
        "5a77e3e09a5a4b0fa9eec6be7fc9d8b4": {
          "model_module": "@jupyter-widgets/base",
          "model_name": "LayoutModel",
          "model_module_version": "1.2.0",
          "state": {
            "_model_module": "@jupyter-widgets/base",
            "_model_module_version": "1.2.0",
            "_model_name": "LayoutModel",
            "_view_count": null,
            "_view_module": "@jupyter-widgets/base",
            "_view_module_version": "1.2.0",
            "_view_name": "LayoutView",
            "align_content": null,
            "align_items": null,
            "align_self": null,
            "border": null,
            "bottom": null,
            "display": null,
            "flex": null,
            "flex_flow": null,
            "grid_area": null,
            "grid_auto_columns": null,
            "grid_auto_flow": null,
            "grid_auto_rows": null,
            "grid_column": null,
            "grid_gap": null,
            "grid_row": null,
            "grid_template_areas": null,
            "grid_template_columns": null,
            "grid_template_rows": null,
            "height": null,
            "justify_content": null,
            "justify_items": null,
            "left": null,
            "margin": null,
            "max_height": null,
            "max_width": null,
            "min_height": null,
            "min_width": null,
            "object_fit": null,
            "object_position": null,
            "order": null,
            "overflow": null,
            "overflow_x": null,
            "overflow_y": null,
            "padding": null,
            "right": null,
            "top": null,
            "visibility": null,
            "width": null
          }
        },
        "fee847238132498993348d5497992feb": {
          "model_module": "@jupyter-widgets/base",
          "model_name": "LayoutModel",
          "model_module_version": "1.2.0",
          "state": {
            "_model_module": "@jupyter-widgets/base",
            "_model_module_version": "1.2.0",
            "_model_name": "LayoutModel",
            "_view_count": null,
            "_view_module": "@jupyter-widgets/base",
            "_view_module_version": "1.2.0",
            "_view_name": "LayoutView",
            "align_content": null,
            "align_items": null,
            "align_self": null,
            "border": null,
            "bottom": null,
            "display": null,
            "flex": null,
            "flex_flow": null,
            "grid_area": null,
            "grid_auto_columns": null,
            "grid_auto_flow": null,
            "grid_auto_rows": null,
            "grid_column": null,
            "grid_gap": null,
            "grid_row": null,
            "grid_template_areas": null,
            "grid_template_columns": null,
            "grid_template_rows": null,
            "height": null,
            "justify_content": null,
            "justify_items": null,
            "left": null,
            "margin": null,
            "max_height": null,
            "max_width": null,
            "min_height": null,
            "min_width": null,
            "object_fit": null,
            "object_position": null,
            "order": null,
            "overflow": null,
            "overflow_x": null,
            "overflow_y": null,
            "padding": null,
            "right": null,
            "top": null,
            "visibility": null,
            "width": null
          }
        },
        "c79d56e428524666a5068f95f357ca60": {
          "model_module": "@jupyter-widgets/controls",
          "model_name": "DescriptionStyleModel",
          "model_module_version": "1.5.0",
          "state": {
            "_model_module": "@jupyter-widgets/controls",
            "_model_module_version": "1.5.0",
            "_model_name": "DescriptionStyleModel",
            "_view_count": null,
            "_view_module": "@jupyter-widgets/base",
            "_view_module_version": "1.2.0",
            "_view_name": "StyleView",
            "description_width": ""
          }
        },
        "0a462ee8a4b94fdfbf5201a3711a3a05": {
          "model_module": "@jupyter-widgets/base",
          "model_name": "LayoutModel",
          "model_module_version": "1.2.0",
          "state": {
            "_model_module": "@jupyter-widgets/base",
            "_model_module_version": "1.2.0",
            "_model_name": "LayoutModel",
            "_view_count": null,
            "_view_module": "@jupyter-widgets/base",
            "_view_module_version": "1.2.0",
            "_view_name": "LayoutView",
            "align_content": null,
            "align_items": null,
            "align_self": null,
            "border": null,
            "bottom": null,
            "display": null,
            "flex": null,
            "flex_flow": null,
            "grid_area": null,
            "grid_auto_columns": null,
            "grid_auto_flow": null,
            "grid_auto_rows": null,
            "grid_column": null,
            "grid_gap": null,
            "grid_row": null,
            "grid_template_areas": null,
            "grid_template_columns": null,
            "grid_template_rows": null,
            "height": null,
            "justify_content": null,
            "justify_items": null,
            "left": null,
            "margin": null,
            "max_height": null,
            "max_width": null,
            "min_height": null,
            "min_width": null,
            "object_fit": null,
            "object_position": null,
            "order": null,
            "overflow": null,
            "overflow_x": null,
            "overflow_y": null,
            "padding": null,
            "right": null,
            "top": null,
            "visibility": null,
            "width": null
          }
        },
        "4e71aba998e44473b693a78820127499": {
          "model_module": "@jupyter-widgets/controls",
          "model_name": "ProgressStyleModel",
          "model_module_version": "1.5.0",
          "state": {
            "_model_module": "@jupyter-widgets/controls",
            "_model_module_version": "1.5.0",
            "_model_name": "ProgressStyleModel",
            "_view_count": null,
            "_view_module": "@jupyter-widgets/base",
            "_view_module_version": "1.2.0",
            "_view_name": "StyleView",
            "bar_color": null,
            "description_width": ""
          }
        },
        "61f536d7a87b4e2889ad402e4a4c017f": {
          "model_module": "@jupyter-widgets/base",
          "model_name": "LayoutModel",
          "model_module_version": "1.2.0",
          "state": {
            "_model_module": "@jupyter-widgets/base",
            "_model_module_version": "1.2.0",
            "_model_name": "LayoutModel",
            "_view_count": null,
            "_view_module": "@jupyter-widgets/base",
            "_view_module_version": "1.2.0",
            "_view_name": "LayoutView",
            "align_content": null,
            "align_items": null,
            "align_self": null,
            "border": null,
            "bottom": null,
            "display": null,
            "flex": null,
            "flex_flow": null,
            "grid_area": null,
            "grid_auto_columns": null,
            "grid_auto_flow": null,
            "grid_auto_rows": null,
            "grid_column": null,
            "grid_gap": null,
            "grid_row": null,
            "grid_template_areas": null,
            "grid_template_columns": null,
            "grid_template_rows": null,
            "height": null,
            "justify_content": null,
            "justify_items": null,
            "left": null,
            "margin": null,
            "max_height": null,
            "max_width": null,
            "min_height": null,
            "min_width": null,
            "object_fit": null,
            "object_position": null,
            "order": null,
            "overflow": null,
            "overflow_x": null,
            "overflow_y": null,
            "padding": null,
            "right": null,
            "top": null,
            "visibility": null,
            "width": null
          }
        },
        "5ecdbb2e822149e6bb07cd11d55d2101": {
          "model_module": "@jupyter-widgets/controls",
          "model_name": "DescriptionStyleModel",
          "model_module_version": "1.5.0",
          "state": {
            "_model_module": "@jupyter-widgets/controls",
            "_model_module_version": "1.5.0",
            "_model_name": "DescriptionStyleModel",
            "_view_count": null,
            "_view_module": "@jupyter-widgets/base",
            "_view_module_version": "1.2.0",
            "_view_name": "StyleView",
            "description_width": ""
          }
        }
      }
    }
  },
  "nbformat": 4,
  "nbformat_minor": 5
}